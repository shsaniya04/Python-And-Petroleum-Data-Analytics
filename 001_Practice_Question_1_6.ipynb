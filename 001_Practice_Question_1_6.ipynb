{
  "cells": [
    {
      "cell_type": "code",
      "source": [
        "# 1. Variable Assignment & Dynamic Typing: What will be the final value and data type of the variable val after running this code block?\n",
        "val = 50\n",
        "val = val / 5 # Arithmetic operation\n",
        "val = \"Final Result: \" + str(val)\n",
        "# Print val and its type\n",
        "print(val)\n",
        "print(type(val))"
      ],
      "metadata": {
        "colab": {
          "base_uri": "https://localhost:8080/"
        },
        "id": "tqSTQGZhtJQc",
        "outputId": "9b822f66-0651-4fd7-a01c-0c47abab95b9"
      },
      "execution_count": null,
      "outputs": [
        {
          "output_type": "stream",
          "name": "stdout",
          "text": [
            "Final Result: 10.0\n",
            "<class 'str'>\n"
          ]
        }
      ]
    },
    {
      "cell_type": "code",
      "source": [
        "# 2. Tuple Access & Properties: Given the tuple city_data = ('Tokyo', 37.4, 13.9, 2024), write the code to: a. Print the last element (2024) using negative indexing. b. Attempt to change the population value (37.4) to 38.0. What Python property prevents this?\n",
        "city_data = ('Tokyo', 37.4, 13.9, 2024)\n",
        "print(city_data[-1])\n",
        "city_data[1] = 38.0"
      ],
      "outputs": [
        {
          "output_type": "stream",
          "name": "stdout",
          "text": [
            "2024\n"
          ]
        },
        {
          "output_type": "error",
          "ename": "TypeError",
          "evalue": "'tuple' object does not support item assignment",
          "traceback": [
            "\u001b[0;31m---------------------------------------------------------------------------\u001b[0m",
            "\u001b[0;31mTypeError\u001b[0m                                 Traceback (most recent call last)",
            "\u001b[0;32m/tmp/ipython-input-636425526.py\u001b[0m in \u001b[0;36m<cell line: 0>\u001b[0;34m()\u001b[0m\n\u001b[1;32m      2\u001b[0m \u001b[0mcity_data\u001b[0m \u001b[0;34m=\u001b[0m \u001b[0;34m(\u001b[0m\u001b[0;34m'Tokyo'\u001b[0m\u001b[0;34m,\u001b[0m \u001b[0;36m37.4\u001b[0m\u001b[0;34m,\u001b[0m \u001b[0;36m13.9\u001b[0m\u001b[0;34m,\u001b[0m \u001b[0;36m2024\u001b[0m\u001b[0;34m)\u001b[0m\u001b[0;34m\u001b[0m\u001b[0;34m\u001b[0m\u001b[0m\n\u001b[1;32m      3\u001b[0m \u001b[0mprint\u001b[0m\u001b[0;34m(\u001b[0m\u001b[0mcity_data\u001b[0m\u001b[0;34m[\u001b[0m\u001b[0;34m-\u001b[0m\u001b[0;36m1\u001b[0m\u001b[0;34m]\u001b[0m\u001b[0;34m)\u001b[0m\u001b[0;34m\u001b[0m\u001b[0;34m\u001b[0m\u001b[0m\n\u001b[0;32m----> 4\u001b[0;31m \u001b[0mcity_data\u001b[0m\u001b[0;34m[\u001b[0m\u001b[0;36m1\u001b[0m\u001b[0;34m]\u001b[0m \u001b[0;34m=\u001b[0m \u001b[0;36m38.0\u001b[0m\u001b[0;34m\u001b[0m\u001b[0;34m\u001b[0m\u001b[0m\n\u001b[0m",
            "\u001b[0;31mTypeError\u001b[0m: 'tuple' object does not support item assignment"
          ]
        }
      ],
      "execution_count": null,
      "metadata": {
        "colab": {
          "base_uri": "https://localhost:8080/",
          "height": 193
        },
        "id": "CpG78bBotE65",
        "outputId": "9d4d610d-c247-4ccb-f4a0-c305b052f16f"
      }
    },
    {
      "cell_type": "code",
      "source": [
        "# 3. List Methods: Starting with the list inventory = ['Pencil', 'Pen', 'Eraser', 'Ruler'], write the code to: a. Add the item 'Sharpener' at the second position (index 1). b. Remove the item 'Eraser'. c. Print the total number of items.\n",
        "inventory = ['Pencil', 'Pen', 'Eraser', 'Ruler']\n",
        "inventory[1] = \"Shrapner\"\n",
        "inventory.remove(\"Eraser\")\n",
        "print(len(inventory))"
      ],
      "metadata": {
        "colab": {
          "base_uri": "https://localhost:8080/"
        },
        "id": "umlu6JSduMq0",
        "outputId": "2829aeef-6ce8-454e-bf77-ab7b05bb1998"
      },
      "execution_count": null,
      "outputs": [
        {
          "output_type": "stream",
          "name": "stdout",
          "text": [
            "3\n"
          ]
        }
      ]
    },
    {
      "cell_type": "code",
      "source": [
        "# 4. Dictionary Creation and Retrieval: Create a dictionary named planet_info where the keys are planets ('Earth', 'Mars') and the values are their primary moons ('Luna', 'Phobos'). Then, retrieve and print the moon of 'Mars' using the .get() method.\n",
        "planet_info = { \"Earth\" : 'Luna', \"Mars\" : \"Phobos\"}\n",
        "print(planet_info.get(\"Mars\"))"
      ],
      "metadata": {
        "colab": {
          "base_uri": "https://localhost:8080/"
        },
        "id": "ZwibFy26uue2",
        "outputId": "3101e151-4a50-40e3-a691-1a96f3743a02"
      },
      "execution_count": null,
      "outputs": [
        {
          "output_type": "stream",
          "name": "stdout",
          "text": [
            "Phobos\n"
          ]
        }
      ]
    },
    {
      "cell_type": "code",
      "source": [
        "# 5. Arithmetic Precedence: Calculate the final value of result and explain which two operations Python executes first based on operator precedence.\n",
        "result = 60 / 10 + 3 ** 2 - 1\n",
        "# first it divides and then squares and difference\n",
        "print(result)"
      ],
      "metadata": {
        "colab": {
          "base_uri": "https://localhost:8080/"
        },
        "id": "wE8GbCzdvMwo",
        "outputId": "7ca2a2da-0685-46df-e722-69819bcf315a"
      },
      "execution_count": null,
      "outputs": [
        {
          "output_type": "stream",
          "name": "stdout",
          "text": [
            "14.0\n"
          ]
        }
      ]
    },
    {
      "cell_type": "code",
      "source": [
        "# 6. if-elif-else Decision: Write an if-elif-else block that determines a vehicle's category based on its weight (in kg):\n",
        "# If weight is over 2000, print \"Heavy Vehicle\".\n",
        "# If weight is between 1000 and 2000 (inclusive), print \"Standard Vehicle\".\n",
        "# Otherwise (under 1000 kg), print \"Light Vehicle\"\n",
        "vehicle = 1647\n",
        "if vehicle < 1000:\n",
        "  print('Light Vehicle')\n",
        "elif 1000 < vehicle  < 2000:\n",
        "  print('Medium Vehicle')\n",
        "else:\n",
        "  print('Heavy Vehicle')"
      ],
      "outputs": [
        {
          "output_type": "stream",
          "name": "stdout",
          "text": [
            "Medium Vehicle\n"
          ]
        }
      ],
      "execution_count": null,
      "metadata": {
        "colab": {
          "base_uri": "https://localhost:8080/"
        },
        "id": "aqVEs-19tE68",
        "outputId": "0377b261-fee8-4df8-c959-d9b0b6fcd729"
      }
    },
    {
      "cell_type": "code",
      "source": [
        "#  7. Input and Type Casting: Ask the user for their favorite number (which should be entered as a string, e.g., \"42\"). Convert this input to an integer, multiply it by 3, and print the result using an f-string in the format: \"Three times your number is [result]\".\n",
        "x = input(\"Enter your number: \")\n",
        "result = x * 3\n",
        "print(f\"Three times your number is {result}\")"
      ],
      "metadata": {
        "colab": {
          "base_uri": "https://localhost:8080/"
        },
        "id": "U6cEuIejvy02",
        "outputId": "ae43ae2f-7eda-4339-e282-3f14f3655509"
      },
      "execution_count": null,
      "outputs": [
        {
          "output_type": "stream",
          "name": "stdout",
          "text": [
            "Enter your number: 42\n",
            "Three times your number is 424242\n"
          ]
        }
      ]
    },
    {
      "cell_type": "code",
      "source": [
        "# 8. while Loop with else: Write a while loop that initializes a counter i = 10 and repeatedly decrements it by 1. The loop should stop when i is less than 5. Use the else block to print \"Countdown sequence complete.\" exactly once after the loop naturally finishes.\n",
        "i = 10\n",
        "while i > 4:\n",
        "  print(i, end = \" \")\n",
        "  i -= 1\n",
        "else:\n",
        "   print(\"\\n Countdown sequence complete.\")"
      ],
      "metadata": {
        "colab": {
          "base_uri": "https://localhost:8080/"
        },
        "id": "qp8_ALuRwsjv",
        "outputId": "8f359d89-9527-48a7-d4b8-51c08ebd9bf7"
      },
      "execution_count": null,
      "outputs": [
        {
          "output_type": "stream",
          "name": "stdout",
          "text": [
            "10 9 8 7 6 5 \n",
            " Countdown sequence complete.\n"
          ]
        }
      ]
    },
    {
      "cell_type": "code",
      "source": [
        "# 9. Dictionary Iteration: Write a for loop to iterate through the dictionary capitals = {'France': 'Paris', 'Germany': 'Berlin', 'Italy': 'Rome'}. Print the output in the format: \"The capital of [Country] is [City]\".\n",
        "capitals = {'France': 'Paris', 'Germany': 'Berlin', 'Italy': 'Rome'}\n",
        "for country, capitals in capitals.items():\n",
        "  print(f\"The capital of {country} is {capitals}\")"
      ],
      "metadata": {
        "colab": {
          "base_uri": "https://localhost:8080/"
        },
        "id": "wj4fjfKSxGPD",
        "outputId": "2011f09e-ae94-4dda-c5c6-81dd285adbaf"
      },
      "execution_count": null,
      "outputs": [
        {
          "output_type": "stream",
          "name": "stdout",
          "text": [
            "The capital of France is Paris\n",
            "The capital of Germany is Berlin\n",
            "The capital of Italy is Rome\n"
          ]
        }
      ]
    },
    {
      "cell_type": "code",
      "source": [
        "# 10. continue and Conditional Looping: Write a for loop that iterates through a list of names names = ['Anna', 'Brian', 'Chris', 'David', 'Emily']. Use the continue statement to skip printing any name that starts with the letter 'D' or 'E'.\n",
        "names = ['Anna', 'Brian', 'Chris', 'David', 'Emily']\n",
        "for name in names:\n",
        "  if name.startswith('D') or name.startswith(\"E\"):\n",
        "   continue\n",
        "  print(name)"
      ],
      "metadata": {
        "colab": {
          "base_uri": "https://localhost:8080/"
        },
        "id": "06cmXxbTyTGW",
        "outputId": "5be6e47c-89d8-4273-9071-7b7029f8d6f1"
      },
      "execution_count": null,
      "outputs": [
        {
          "output_type": "stream",
          "name": "stdout",
          "text": [
            "Anna\n",
            "Brian\n",
            "Chris\n"
          ]
        }
      ]
    },
    {
      "cell_type": "code",
      "source": [
        "# 11. Function with Multiple Arguments (Default and Positional): Define a function named log_event that accepts:\n",
        "# message (required positional argument).\n",
        "# level (default argument set to 'INFO').\n",
        "# The function should return a formatted string: \"[LEVEL]: MESSAGE\". Call the function twice: once using the default level, and once explicitly setting the level to 'ERROR'.\n",
        "def log_event(message, level = \"INFO\"):\n",
        "  return f\"[{level.upper()}]: {message}\"\n",
        "log_event(\"Hello World!\", \"error\")"
      ],
      "metadata": {
        "colab": {
          "base_uri": "https://localhost:8080/",
          "height": 35
        },
        "id": "hABRAzn8zey1",
        "outputId": "c3dabed7-a68e-4274-f05b-89bc751b9b5d"
      },
      "execution_count": null,
      "outputs": [
        {
          "output_type": "execute_result",
          "data": {
            "text/plain": [
              "'[ERROR]: Hello World!'"
            ],
            "application/vnd.google.colaboratory.intrinsic+json": {
              "type": "string"
            }
          },
          "metadata": {},
          "execution_count": 31
        }
      ]
    },
    {
      "cell_type": "code",
      "source": [
        "# 12. Global Variable Modification: Explain the concept of variable scope (local vs. global) in Python. Then, write a short function increment_counter() that correctly accesses and adds 1 to a globally defined variable hit_count = 0 using the necessary keyword. Show the value of hit_count before and after calling the function.\n",
        "hit_count = 0\n",
        "print(\"Before: \", hit_count)\n",
        "def increment_counter():\n",
        "  global hit_count\n",
        "  hit_count += 1\n",
        "  print(\"After: \", hit_count)\n",
        "increment_counter()"
      ],
      "metadata": {
        "colab": {
          "base_uri": "https://localhost:8080/"
        },
        "id": "04U6EpFv0vkk",
        "outputId": "49d1115f-95ef-45c8-9437-c4d4f82d6066"
      },
      "execution_count": null,
      "outputs": [
        {
          "output_type": "stream",
          "name": "stdout",
          "text": [
            "Before:  0\n",
            "After:  1\n"
          ]
        }
      ]
    },
    {
      "cell_type": "code",
      "source": [
        "# 13. Variable-Length Keyword Arguments (**kwargs): Write a function called generate_summary that accepts a required argument title and a variable number of keyword arguments (**kwargs) representing data attributes. The function should print the title followed by each key-value pair from **kwargs on a new line, separated by a colon. Example call: generate_summary(\"Project Alpha\", Status=\"Complete\", Budget=50000, Analyst=\"J. Doe\")\n",
        "def generate_summary(**info):\n",
        "  for key, value in info.items():\n",
        "    print(f\"{key}: {value}\")\n",
        "generate_summary(Name= \"Project Alpha\", Status=\"Complete\", Budget=50000, Analyst=\"J. Doe\")"
      ],
      "metadata": {
        "colab": {
          "base_uri": "https://localhost:8080/"
        },
        "id": "GOuUvt-X0-nN",
        "outputId": "6e302fd2-1457-4fee-ae51-a917d1d982f4"
      },
      "execution_count": null,
      "outputs": [
        {
          "output_type": "stream",
          "name": "stdout",
          "text": [
            "Name: Project Alpha\n",
            "Status: Complete\n",
            "Budget: 50000\n",
            "Analyst: J. Doe\n"
          ]
        }
      ]
    },
    {
      "cell_type": "code",
      "source": [
        "# 14. Set Operation and Bitwise Logic: a. Given two numbers, $A = 13$ and $B = 6$. What is the result of the bitwise XOR operation ($A \\text{ ^ } B$)? Show the binary representation for $A$, $B$, and the result. b. Explain how the bitwise right shift operator (>>) can be used to perform integer division by a power of two. What is the result of 200 >> 3?\n",
        "a = 13\n",
        "b = 6\n",
        "result = a ^ b\n",
        "print(result)\n",
        "print(bin(a), bin(b), bin(result))\n",
        "x = 200 >> 3\n",
        "print(x, bin(x), bin(200))"
      ],
      "metadata": {
        "colab": {
          "base_uri": "https://localhost:8080/"
        },
        "id": "vP3Sigmj4jj1",
        "outputId": "2d976e78-524d-4ffc-c489-a7a4daf3f153"
      },
      "execution_count": null,
      "outputs": [
        {
          "output_type": "stream",
          "name": "stdout",
          "text": [
            "11\n",
            "0b1101 0b110 0b1011\n",
            "25 0b11001 0b11001000\n"
          ]
        }
      ]
    },
    {
      "cell_type": "code",
      "source": [
        "# 15. Conditional Pandas Series Filtering and Modification: a. Create a Pandas Series sales from the list [150, 220, 95, 310, 180] with default integer indices. b. Use Boolean Indexing to create a new Series named high_sales that contains only the sales figures greater than 200. c. Write a single line of code to apply a 10% bonus to all values in the original sales Series that are less than 100, modifying the original series in place. (Hint: Use a list of Booleans derived from a comparison.)\n",
        "import pandas as pd\n",
        "sales = pd.Series([150, 220, 95, 310, 180])\n",
        "high_sales = sales[sales > 200]\n",
        "print(high_sales)\n",
        "sales[sales < 100] *= 1.10\n",
        "print(sales)"
      ],
      "metadata": {
        "colab": {
          "base_uri": "https://localhost:8080/"
        },
        "id": "KaNTGVHm5zrm",
        "outputId": "fedb7eb1-2be8-4bc5-fc7c-5145e2588ba4"
      },
      "execution_count": null,
      "outputs": [
        {
          "output_type": "stream",
          "name": "stdout",
          "text": [
            "1    220\n",
            "3    310\n",
            "dtype: int64\n",
            "0    150.0\n",
            "1    220.0\n",
            "2    104.5\n",
            "3    310.0\n",
            "4    180.0\n",
            "dtype: float64\n"
          ]
        },
        {
          "output_type": "stream",
          "name": "stderr",
          "text": [
            "/tmp/ipython-input-3249047665.py:5: FutureWarning: Setting an item of incompatible dtype is deprecated and will raise an error in a future version of pandas. Value '[104.5]' has dtype incompatible with int64, please explicitly cast to a compatible dtype first.\n",
            "  sales[sales < 100] *= 1.10\n"
          ]
        }
      ]
    },
    {
      "cell_type": "code",
      "metadata": {
        "colab": {
          "base_uri": "https://localhost:8080/"
        },
        "id": "e355c84e",
        "outputId": "28df0d30-af6a-474a-b729-82c290a984ae"
      },
      "source": [
        "# 16. Write a code snippet using nested loops to calculate the sum of all odd numbers in the matrix.\n",
        "matrix = [\n",
        "        [1, 2, 3],\n",
        "        [4, 5, 6],\n",
        "        [7, 8, 9]\n",
        "    ]\n",
        "\n",
        "sum = 0\n",
        "for row in matrix:\n",
        "  for element in row:\n",
        "    if element % 2 != 0:\n",
        "      sum += element\n",
        "print(sum)"
      ],
      "execution_count": null,
      "outputs": [
        {
          "output_type": "stream",
          "name": "stdout",
          "text": [
            "25\n"
          ]
        }
      ]
    }
  ],
  "metadata": {
    "colab": {
      "provenance": []
    },
    "kernelspec": {
      "display_name": "Python 3",
      "name": "python3"
    }
  },
  "nbformat": 4,
  "nbformat_minor": 0
}