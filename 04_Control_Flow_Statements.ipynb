{
  "nbformat": 4,
  "nbformat_minor": 0,
  "metadata": {
    "colab": {
      "provenance": [],
      "authorship_tag": "ABX9TyPqa0pBu3reVdlYu74mgtt5"
    },
    "kernelspec": {
      "name": "python3",
      "display_name": "Python 3"
    },
    "language_info": {
      "name": "python"
    }
  },
  "cells": [
    {
      "cell_type": "markdown",
      "source": [
        "# **Python Control Flow Statements**"
      ],
      "metadata": {
        "id": "dMJ7wE8NzeWk"
      }
    },
    {
      "cell_type": "markdown",
      "source": [
        "## **Types of Control FLow Statement in Python**\n",
        "In Python programming language, the type of control flow statements is as follows:\n",
        " - The if statement\n",
        " - The if-else statement\n",
        " - The nested-if statement\n",
        " - The if-elif-else ladder\n"
      ],
      "metadata": {
        "id": "dC3XM9ClzmpF"
      }
    },
    {
      "cell_type": "markdown",
      "source": [
        "## **if statement**\n",
        "- The if statement is the simplest decision-making statement.\n",
        "- It is used to decide whether a certain statement or block of statements will be executed or not.\n"
      ],
      "metadata": {
        "id": "V_ch-Iumz89s"
      }
    },
    {
      "cell_type": "code",
      "execution_count": 6,
      "metadata": {
        "id": "uafsxa90dnHg",
        "colab": {
          "base_uri": "https://localhost:8080/"
        },
        "outputId": "17e9f176-7bf2-444b-d70a-0ec643eace9d"
      },
      "outputs": [
        {
          "output_type": "stream",
          "name": "stdout",
          "text": [
            "You are Eligible for admission in Engineering!!!\n"
          ]
        }
      ],
      "source": [
        "rank = 8000\n",
        "if rank <= 9000:\n",
        "    print(\"You are Eligible for admission in Engineering!!!\")"
      ]
    },
    {
      "cell_type": "code",
      "source": [
        "if 100 == 200:\n",
        "  print(\"100 and 200 are equal\")"
      ],
      "metadata": {
        "id": "kZILgA-b0pPI"
      },
      "execution_count": 4,
      "outputs": []
    },
    {
      "cell_type": "markdown",
      "source": [
        "## **if...else statement**\n",
        "- if...else statement is a control statement that helps in decision-making based on specific conditions.\n",
        "- When the if condition is False (not true), the else block will be executed"
      ],
      "metadata": {
        "id": "vH6APGCt1e0M"
      }
    },
    {
      "cell_type": "code",
      "source": [
        "x, y, z = 100, 200, 300\n",
        "if x < y:\n",
        "    print(\"x is less than y\")\n",
        "else:\n",
        "    print(\"x is greater than y\")"
      ],
      "metadata": {
        "colab": {
          "base_uri": "https://localhost:8080/"
        },
        "id": "4ymuzMAM1C7U",
        "outputId": "bf6fb4b7-4fd2-4b1c-f60f-fb42cf1aa41b"
      },
      "execution_count": 5,
      "outputs": [
        {
          "output_type": "stream",
          "name": "stdout",
          "text": [
            "x is less than y\n"
          ]
        }
      ]
    },
    {
      "cell_type": "markdown",
      "source": [
        "## **Nested if..else Statement**\n",
        "- Nested if..else means an if-else statement inside another if statement.\n",
        "- We can use nested if statements to check conditions within condition"
      ],
      "metadata": {
        "id": "1RBmiOTc1dkI"
      }
    },
    {
      "cell_type": "code",
      "source": [
        "i = 100\n",
        "if (i == 100):\n",
        "    if (i < 150):\n",
        "        print(\"i is smaller than 150\")\n",
        "    if (i < 120):\n",
        "        print(\"i is smaller than 120\")\n",
        "    else:\n",
        "        print(\"i is greater than 150\")\n",
        "else:\n",
        "    print(\"i is not equal to 100\")"
      ],
      "metadata": {
        "colab": {
          "base_uri": "https://localhost:8080/"
        },
        "id": "pwUFiyNN1ceC",
        "outputId": "ff08136e-6372-4f08-e6a1-0520cc88309e"
      },
      "execution_count": 7,
      "outputs": [
        {
          "output_type": "stream",
          "name": "stdout",
          "text": [
            "i is smaller than 150\n",
            "i is smaller than 120\n"
          ]
        }
      ]
    },
    {
      "cell_type": "markdown",
      "source": [
        "## **if....elif....else**\n",
        "- **if statement:**\n",
        "The program first evaluates the condition within the if statement.\n",
        "If this condition is True, the code block associated with the if statement is executed,  and the rest of the elif and else chain is skipped.\n",
        "- **elif statements:**\n",
        "If the if condition is False, the program moves to the first elif statement and evaluates its condition.\n",
        "If this condition is True, its corresponding code block is executed, and the rest of the chain is skipped.\n",
        "This process continues for subsequent elif statements until a True condition is found.\n",
        "- **else statement (optional):**\n",
        "If none of the if or elif conditions are True, the code block within the optional else statement is executed.\n"
      ],
      "metadata": {
        "id": "FBTF-9Q07bju"
      }
    },
    {
      "cell_type": "code",
      "source": [
        "x = 75238\n",
        "y = 73231\n",
        "if x < y:\n",
        "  print(\"x is less than y\")\n",
        "elif x > y:\n",
        "  print(\"x is greater than y\")\n",
        "else:\n",
        "  print(\"x is equal to y\")"
      ],
      "metadata": {
        "colab": {
          "base_uri": "https://localhost:8080/"
        },
        "id": "70YJguIK8BmZ",
        "outputId": "6364aa61-678e-4470-d4e5-00c284ddbb13"
      },
      "execution_count": 8,
      "outputs": [
        {
          "output_type": "stream",
          "name": "stdout",
          "text": [
            "x is greater than y\n"
          ]
        }
      ]
    }
  ]
}