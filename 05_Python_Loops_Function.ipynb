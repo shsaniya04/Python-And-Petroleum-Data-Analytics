{
  "nbformat": 4,
  "nbformat_minor": 0,
  "metadata": {
    "colab": {
      "provenance": [],
      "authorship_tag": "ABX9TyOVlTy0dFbxp7qCHyBEwmnq"
    },
    "kernelspec": {
      "name": "python3",
      "display_name": "Python 3"
    },
    "language_info": {
      "name": "python"
    }
  },
  "cells": [
    {
      "cell_type": "markdown",
      "source": [
        "# **Loops in Python**\n",
        " - Loops in Python are used to repeat actions efficiently. The main types are For loops (counting through items) and While loops (based on conditions)."
      ],
      "metadata": {
        "id": "MXDy4lzEX2uu"
      }
    },
    {
      "cell_type": "markdown",
      "source": [
        "## **While Loop**\n",
        "- In Python, a while loop is used to execute a block of statements repeatedly until a given condition is satisfied.\n",
        "- When the condition becomes false, the line immediately after the loop in the program is executed.\n"
      ],
      "metadata": {
        "id": "e1xaNGqxX8rH"
      }
    },
    {
      "cell_type": "code",
      "execution_count": 1,
      "metadata": {
        "id": "AKlfO38yVB1Z",
        "colab": {
          "base_uri": "https://localhost:8080/"
        },
        "outputId": "1c7d9d36-3558-49ca-d68a-667579a018b5"
      },
      "outputs": [
        {
          "output_type": "stream",
          "name": "stdout",
          "text": [
            "Hello!\n",
            "Hello!\n",
            "Hello!\n",
            "Hello!\n",
            "Hello!\n",
            "Hello!\n",
            "Hello!\n",
            "Hello!\n",
            "Hello!\n",
            "Hello!\n"
          ]
        }
      ],
      "source": [
        "n = 0\n",
        "while(n < 10):\n",
        "  n += 1\n",
        "  print(\"Hello!\")"
      ]
    },
    {
      "cell_type": "markdown",
      "source": [
        "### **Using else statement with While Loop in Python:**\n",
        "- Else clause is only executed when our while condition becomes false. If we break out of the loop or if an exception is raised, then it won't be executed."
      ],
      "metadata": {
        "id": "ph8h5cHlYmMs"
      }
    },
    {
      "cell_type": "code",
      "source": [
        "n = 0\n",
        "while(n < 5):\n",
        "  n += 1\n",
        "  print(n)\n",
        "else:\n",
        "  print(\"Loop is finished\")"
      ],
      "metadata": {
        "colab": {
          "base_uri": "https://localhost:8080/"
        },
        "id": "a-ANOU0QYeTQ",
        "outputId": "e7f31039-ab0a-4a97-d980-5952c3467952"
      },
      "execution_count": 2,
      "outputs": [
        {
          "output_type": "stream",
          "name": "stdout",
          "text": [
            "1\n",
            "2\n",
            "3\n",
            "4\n",
            "5\n",
            "Loop is finished\n"
          ]
        }
      ]
    },
    {
      "cell_type": "markdown",
      "source": [
        "## **For Loop**\n",
        "- For loops are used for sequential traversal.\n",
        "- For example: traversing a list or string or array etc."
      ],
      "metadata": {
        "id": "NZoJrhTSY5AQ"
      }
    },
    {
      "cell_type": "code",
      "source": [
        "n = 4\n",
        "for i in range(0, n):\n",
        "  print(i)"
      ],
      "metadata": {
        "colab": {
          "base_uri": "https://localhost:8080/"
        },
        "id": "QsrC4eRYYd62",
        "outputId": "fc4821ea-c97d-4955-8998-9652162b2ed4"
      },
      "execution_count": 3,
      "outputs": [
        {
          "output_type": "stream",
          "name": "stdout",
          "text": [
            "0\n",
            "1\n",
            "2\n",
            "3\n"
          ]
        }
      ]
    },
    {
      "cell_type": "code",
      "source": [
        "# List Example\n",
        "fruits = [\"apple\", \"banana\", \"cherry\", \"dates\"]\n",
        "\n",
        "print(\"Itering over a List: \")\n",
        "for n in fruits:\n",
        "  print(n)"
      ],
      "metadata": {
        "colab": {
          "base_uri": "https://localhost:8080/"
        },
        "id": "g6vgEv0NYd4z",
        "outputId": "6850ab52-f5c9-466d-d144-d8c91382a19c"
      },
      "execution_count": 4,
      "outputs": [
        {
          "output_type": "stream",
          "name": "stdout",
          "text": [
            "Itering over a List: \n",
            "apple\n",
            "banana\n",
            "cherry\n",
            "dates\n"
          ]
        }
      ]
    },
    {
      "cell_type": "code",
      "source": [
        "# Tuple Example\n",
        "num = (10, 20, 30, 40, 50)\n",
        "\n",
        "print(\"Itering over a Tuple: \")\n",
        "for n in num:\n",
        "  print(n)"
      ],
      "metadata": {
        "colab": {
          "base_uri": "https://localhost:8080/"
        },
        "id": "Br8d03kaYd0W",
        "outputId": "e010987c-9309-4cc9-a4d1-52ca80ae0130"
      },
      "execution_count": 5,
      "outputs": [
        {
          "output_type": "stream",
          "name": "stdout",
          "text": [
            "Itering over a Tuple: \n",
            "10\n",
            "20\n",
            "30\n",
            "40\n",
            "50\n"
          ]
        }
      ]
    },
    {
      "cell_type": "code",
      "source": [
        "# String Example\n",
        "string = \"DATA\"\n",
        "print(\"Itering over a String: \")\n",
        "for n in string:\n",
        "  print(n)"
      ],
      "metadata": {
        "colab": {
          "base_uri": "https://localhost:8080/"
        },
        "id": "bNCR-ps_aZGo",
        "outputId": "919c9ad6-17b1-49f0-a296-0a0e05a73faa"
      },
      "execution_count": 7,
      "outputs": [
        {
          "output_type": "stream",
          "name": "stdout",
          "text": [
            "Itering over a String: \n",
            "D\n",
            "A\n",
            "T\n",
            "A\n"
          ]
        }
      ]
    },
    {
      "cell_type": "code",
      "source": [
        "# Dictionary Example\n",
        "student = {\"name\": \"Saniya\", \"age\" : 20, \"course\" : \"Data Science\"}\n",
        "\n",
        "print(\"Itering over a Dictionary Key: \")\n",
        "for key in student:\n",
        "  print(key, \": \", student[key])\n",
        "\n",
        "print(\"\\nItering over a Dictionary Item: \")\n",
        "for key, value in student.items():\n",
        "  print(f\"{key} -> {value}\")"
      ],
      "metadata": {
        "colab": {
          "base_uri": "https://localhost:8080/"
        },
        "id": "qGPhqeVMaZCr",
        "outputId": "af6de379-4fb4-4d3f-cf44-071de25fab6d"
      },
      "execution_count": 9,
      "outputs": [
        {
          "output_type": "stream",
          "name": "stdout",
          "text": [
            "Itering over a Dictionary Key: \n",
            "name :  Saniya\n",
            "age :  20\n",
            "course :  Data Science\n",
            "\n",
            "Itering over a Dictionary Item: \n",
            "name -> Saniya\n",
            "age -> 20\n",
            "course -> Data Science\n"
          ]
        }
      ]
    },
    {
      "cell_type": "markdown",
      "source": [
        "## **Continue Statement**\n",
        "- The continue statement in Python returns the control to the beginning of the loop.\n",
        "- The continue statement is used to skip the current iteration of a loop and move to the next iteration.\n",
        "- It is useful when we want to bypass certain conditions without terminating the loop."
      ],
      "metadata": {
        "id": "GrKkEHakdDo-"
      }
    },
    {
      "cell_type": "markdown",
      "source": [
        "# **Python Function**"
      ],
      "metadata": {
        "id": "-2qg93C4dZrb"
      }
    },
    {
      "cell_type": "markdown",
      "source": [
        "## **Function**\n",
        "- A function is a block of code which only runs when it is called.\n",
        "You can pass data, known as parameters, into a function.\n",
        "- A function can return data as a result.\n",
        "- In Python a function is defined using the def keyword:\n"
      ],
      "metadata": {
        "id": "yCUwXairduH1"
      }
    },
    {
      "cell_type": "code",
      "source": [
        "def greet():\n",
        "  print(\"Hello!\")"
      ],
      "metadata": {
        "id": "_ve9o3bKaY-w"
      },
      "execution_count": 10,
      "outputs": []
    },
    {
      "cell_type": "code",
      "source": [
        "greet()"
      ],
      "metadata": {
        "colab": {
          "base_uri": "https://localhost:8080/"
        },
        "id": "JBftdAAhaY4k",
        "outputId": "996a05bd-0a3f-4165-b2a5-bf9f4452074f"
      },
      "execution_count": 11,
      "outputs": [
        {
          "output_type": "stream",
          "name": "stdout",
          "text": [
            "Hello!\n"
          ]
        }
      ]
    },
    {
      "cell_type": "markdown",
      "source": [
        "## **Arguments**\n",
        "- Information can be passed into functions as arguments.\n",
        "- Arguments are specified after the function name, inside the parentheses.\n",
        "- You can add as many arguments as you want, just separate them with a comma."
      ],
      "metadata": {
        "id": "JdfTtTsod8A7"
      }
    },
    {
      "cell_type": "code",
      "source": [
        "def greet_user(name):\n",
        "  print(f\"Hello {name}!, Good to see you!\")"
      ],
      "metadata": {
        "id": "P1rbLNUdaYzC"
      },
      "execution_count": 12,
      "outputs": []
    },
    {
      "cell_type": "code",
      "source": [
        "greet_user(\"Saniya\")"
      ],
      "metadata": {
        "colab": {
          "base_uri": "https://localhost:8080/"
        },
        "id": "Ebr0aaCnevOO",
        "outputId": "ef199643-dc43-4a1b-fbb5-c846dd5fcaef"
      },
      "execution_count": 13,
      "outputs": [
        {
          "output_type": "stream",
          "name": "stdout",
          "text": [
            "Hello Saniya!, Good to see you!\n"
          ]
        }
      ]
    }
  ]
}