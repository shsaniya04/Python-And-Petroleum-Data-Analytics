{
  "nbformat": 4,
  "nbformat_minor": 0,
  "metadata": {
    "colab": {
      "provenance": [],
      "authorship_tag": "ABX9TyO5q75mwj9tHuSslKcydNGr"
    },
    "kernelspec": {
      "name": "python3",
      "display_name": "Python 3"
    },
    "language_info": {
      "name": "python"
    }
  },
  "cells": [
    {
      "cell_type": "markdown",
      "source": [
        "# **Python Data Types**"
      ],
      "metadata": {
        "id": "gUz-LP_g5D_4"
      }
    },
    {
      "cell_type": "markdown",
      "source": [
        "## **Immutable Data Types**\n",
        "- Immutable Objects are of in-built datatypes like int, float, bool, string, Unicode, and tuple.\n",
        "- In simple words, an immutable object can’t be changed after it is created."
      ],
      "metadata": {
        "id": "IV05dSOy5JT0"
      }
    },
    {
      "cell_type": "code",
      "execution_count": 1,
      "metadata": {
        "id": "b4C6SuwK40Pe",
        "colab": {
          "base_uri": "https://localhost:8080/"
        },
        "outputId": "b656dbaa-bbbe-4051-e804-3ad297fc0960"
      },
      "outputs": [
        {
          "output_type": "stream",
          "name": "stdout",
          "text": [
            "(1, 2, 3, 4)\n"
          ]
        }
      ],
      "source": [
        "# Tuple is immutable\n",
        "tuple1 = (1,2,3,4)\n",
        "print(tuple1)"
      ]
    },
    {
      "cell_type": "code",
      "source": [
        "print(type(tuple1))"
      ],
      "metadata": {
        "colab": {
          "base_uri": "https://localhost:8080/"
        },
        "id": "Un0cXLev5DP1",
        "outputId": "954a0051-99e3-4c60-8f5d-414cfd305653"
      },
      "execution_count": 2,
      "outputs": [
        {
          "output_type": "stream",
          "name": "stdout",
          "text": [
            "<class 'tuple'>\n"
          ]
        }
      ]
    },
    {
      "cell_type": "code",
      "source": [
        "tuple1[3] = 4\n",
        "print(tuple1)"
      ],
      "metadata": {
        "colab": {
          "base_uri": "https://localhost:8080/",
          "height": 158
        },
        "id": "cWwxy9Qo5DOF",
        "outputId": "35433659-3643-4760-dbe1-acf1e61c3ccd"
      },
      "execution_count": 3,
      "outputs": [
        {
          "output_type": "error",
          "ename": "TypeError",
          "evalue": "'tuple' object does not support item assignment",
          "traceback": [
            "\u001b[0;31m---------------------------------------------------------------------------\u001b[0m",
            "\u001b[0;31mTypeError\u001b[0m                                 Traceback (most recent call last)",
            "\u001b[0;32m/tmp/ipython-input-4016702147.py\u001b[0m in \u001b[0;36m<cell line: 0>\u001b[0;34m()\u001b[0m\n\u001b[0;32m----> 1\u001b[0;31m \u001b[0mtuple1\u001b[0m\u001b[0;34m[\u001b[0m\u001b[0;36m3\u001b[0m\u001b[0;34m]\u001b[0m \u001b[0;34m=\u001b[0m \u001b[0;36m4\u001b[0m\u001b[0;34m\u001b[0m\u001b[0;34m\u001b[0m\u001b[0m\n\u001b[0m\u001b[1;32m      2\u001b[0m \u001b[0mprint\u001b[0m\u001b[0;34m(\u001b[0m\u001b[0mtuple1\u001b[0m\u001b[0;34m)\u001b[0m\u001b[0;34m\u001b[0m\u001b[0;34m\u001b[0m\u001b[0m\n",
            "\u001b[0;31mTypeError\u001b[0m: 'tuple' object does not support item assignment"
          ]
        }
      ]
    },
    {
      "cell_type": "code",
      "source": [
        "# String is immutable\n",
        "string1 = 'I AM IMMUTABLE'\n",
        "print(type(string1))\n",
        "print(string1[0])\n",
        "string1[0] = 'U'"
      ],
      "metadata": {
        "colab": {
          "base_uri": "https://localhost:8080/",
          "height": 211
        },
        "id": "M1udqIwh5DMT",
        "outputId": "5ffca2a4-6d51-44f4-ded0-625106089c8a"
      },
      "execution_count": 4,
      "outputs": [
        {
          "output_type": "stream",
          "name": "stdout",
          "text": [
            "<class 'str'>\n",
            "I\n"
          ]
        },
        {
          "output_type": "error",
          "ename": "TypeError",
          "evalue": "'str' object does not support item assignment",
          "traceback": [
            "\u001b[0;31m---------------------------------------------------------------------------\u001b[0m",
            "\u001b[0;31mTypeError\u001b[0m                                 Traceback (most recent call last)",
            "\u001b[0;32m/tmp/ipython-input-3479344824.py\u001b[0m in \u001b[0;36m<cell line: 0>\u001b[0;34m()\u001b[0m\n\u001b[1;32m      3\u001b[0m \u001b[0mprint\u001b[0m\u001b[0;34m(\u001b[0m\u001b[0mtype\u001b[0m\u001b[0;34m(\u001b[0m\u001b[0mstring1\u001b[0m\u001b[0;34m)\u001b[0m\u001b[0;34m)\u001b[0m\u001b[0;34m\u001b[0m\u001b[0;34m\u001b[0m\u001b[0m\n\u001b[1;32m      4\u001b[0m \u001b[0mprint\u001b[0m\u001b[0;34m(\u001b[0m\u001b[0mstring1\u001b[0m\u001b[0;34m[\u001b[0m\u001b[0;36m0\u001b[0m\u001b[0;34m]\u001b[0m\u001b[0;34m)\u001b[0m\u001b[0;34m\u001b[0m\u001b[0;34m\u001b[0m\u001b[0m\n\u001b[0;32m----> 5\u001b[0;31m \u001b[0mstring1\u001b[0m\u001b[0;34m[\u001b[0m\u001b[0;36m0\u001b[0m\u001b[0;34m]\u001b[0m \u001b[0;34m=\u001b[0m \u001b[0;34m'U'\u001b[0m\u001b[0;34m\u001b[0m\u001b[0;34m\u001b[0m\u001b[0m\n\u001b[0m",
            "\u001b[0;31mTypeError\u001b[0m: 'str' object does not support item assignment"
          ]
        }
      ]
    },
    {
      "cell_type": "markdown",
      "source": [],
      "metadata": {
        "id": "u0BjnIdS6v3V"
      }
    },
    {
      "cell_type": "code",
      "source": [
        "# Python stores identical strings in the same memory (interning), but not all immutables get this optimization.\n",
        "var1 = 'abc'\n",
        "var2 = 'abc'\n",
        "var3 = 'abc'\n",
        "var4 = 'abc'\n",
        "var5 = 'abc'\n",
        "var6 = 'abc'\n",
        "var7 = 'abc'\n",
        "print(id(var1))\n",
        "print(id(var2))\n",
        "print(id(var3))\n",
        "print(id(var4))\n",
        "print(id(var5))\n",
        "print(id(var6))\n",
        "print(id(var7))"
      ],
      "metadata": {
        "colab": {
          "base_uri": "https://localhost:8080/"
        },
        "id": "HHOIZN3G5DGP",
        "outputId": "ef7baf06-b489-4492-911c-06244d36e267"
      },
      "execution_count": 5,
      "outputs": [
        {
          "output_type": "stream",
          "name": "stdout",
          "text": [
            "10785632\n",
            "10785632\n",
            "10785632\n",
            "10785632\n",
            "10785632\n",
            "10785632\n",
            "10785632\n"
          ]
        }
      ]
    },
    {
      "cell_type": "markdown",
      "source": [
        "### **Non-Transitivity**\n",
        "- Tuples are immutable, but if they contain mutable objects (like lists), those can still be changed—this is called non-transitive immutability"
      ],
      "metadata": {
        "id": "tgvHD_G17cs7"
      }
    },
    {
      "cell_type": "code",
      "source": [
        "# Tuple with a list inside\n",
        "t = (1, 2, [3, 4])\n",
        "\n",
        "print(\"Before:\", t)\n",
        "\n",
        "# Trying to modify tuple directly -> Error\n",
        "# t[0] = 10   # TypeError\n",
        "\n",
        "# But modifying the list inside works\n",
        "t[2][1] = 5\n",
        "\n",
        "print(\"After:\", t)"
      ],
      "metadata": {
        "colab": {
          "base_uri": "https://localhost:8080/"
        },
        "id": "3oHj_NmM7rEf",
        "outputId": "cb7d1dbe-53d3-4902-b5c6-a5e046a172fe"
      },
      "execution_count": 9,
      "outputs": [
        {
          "output_type": "stream",
          "name": "stdout",
          "text": [
            "Before: (1, 2, [3, 4])\n",
            "After: (1, 2, [3, 5])\n"
          ]
        }
      ]
    },
    {
      "cell_type": "markdown",
      "source": [
        "## **Numeric Data Type**\n",
        "- The numeric data type in Python represents the data that has a numeric value.\n",
        "- A numeric value can be an integer, a floating number, or even a complex number.\n",
        "- These values are defined as Python int, Python float, and Python complex classes in Python.\n",
        "- **Integers** – This value is represented by int class. It contains positive or negative whole numbers (without fractions or decimals).\n",
        "In Python, there is no limit to how long an integer value can be.\n",
        "\n",
        "- **Float** – This value is represented by the float class. It is a real number with a floating-point representation. It is specified by a decimal point.\n",
        "- **Complex Numbers** – Complex number is represented by a complex class. It is specified as (real part) + (imaginary part)j. For example:  3+4j\n",
        "- **Note** – type() function is used to determine the type of data type.\n"
      ],
      "metadata": {
        "id": "enWt-p6S841I"
      }
    },
    {
      "cell_type": "code",
      "source": [
        "a = 362739\n",
        "print(type(a))\n",
        "b = 2523.334\n",
        "print(type(b))\n",
        "c = 2 + 3j\n",
        "print(type(c))"
      ],
      "metadata": {
        "colab": {
          "base_uri": "https://localhost:8080/"
        },
        "id": "1OgdnL0o9VqP",
        "outputId": "6df9f737-ce0f-4145-bf7c-6f9bad474f04"
      },
      "execution_count": 10,
      "outputs": [
        {
          "output_type": "stream",
          "name": "stdout",
          "text": [
            "<class 'int'>\n",
            "<class 'float'>\n",
            "<class 'complex'>\n"
          ]
        }
      ]
    },
    {
      "cell_type": "markdown",
      "source": [
        "## **Sequence Data Types**\n",
        "- String\n",
        "- List\n",
        "- Tuple"
      ],
      "metadata": {
        "id": "flZYxlXj9yiC"
      }
    },
    {
      "cell_type": "markdown",
      "source": [
        "### **String**\n",
        "- manipulate strings then we can use methods like concatenation, slicing, or formatting to create new strings based on the original"
      ],
      "metadata": {
        "id": "KZ5wLAH0ArG1"
      }
    },
    {
      "cell_type": "code",
      "source": [
        "string2 = 'Petroleum Data Analytics'\n",
        "print(string2[0])\n",
        "print(string2[1])\n",
        "print(string2[2])\n",
        "print(string2[3])\n",
        "print(string2[4])\n",
        "print(string2[5])\n",
        "print(string2[6])\n",
        "print(string2[7])\n",
        "print(string2[8])\n",
        "print(string2[9])\n",
        "print(string2[10])\n",
        "print(string2[11])\n",
        "print(string2[12])\n",
        "print(string2[13])\n",
        "print(string2[14])\n",
        "print(string2[15])\n",
        "print(string2[16])\n",
        "print(string2[17])\n",
        "print(string2[18])\n",
        "print(string2[19])\n",
        "print(string2[20])\n",
        "print(string2[21])\n",
        "print(string2[22])\n",
        "print(string2[23])"
      ],
      "metadata": {
        "colab": {
          "base_uri": "https://localhost:8080/"
        },
        "id": "EuyqfEWe9uyQ",
        "outputId": "7c37f311-be91-4473-a509-24d61bc2bd37"
      },
      "execution_count": 14,
      "outputs": [
        {
          "output_type": "stream",
          "name": "stdout",
          "text": [
            "P\n",
            "e\n",
            "t\n",
            "r\n",
            "o\n",
            "l\n",
            "e\n",
            "u\n",
            "m\n",
            " \n",
            "D\n",
            "a\n",
            "t\n",
            "a\n",
            " \n",
            "A\n",
            "n\n",
            "a\n",
            "l\n",
            "y\n",
            "t\n",
            "i\n",
            "c\n",
            "s\n"
          ]
        }
      ]
    },
    {
      "cell_type": "code",
      "source": [
        "# Multi Line String\n",
        "string3 = \"\"\"\n",
        "I am Multi Line String\n",
        "I am Multi Line String\n",
        "I am Multi Line String\n",
        "I am Multi Line String\n",
        "\"\"\"\n",
        "print(string3)"
      ],
      "metadata": {
        "colab": {
          "base_uri": "https://localhost:8080/"
        },
        "id": "lHhpd_wu9u1w",
        "outputId": "7e679058-7517-49be-cb5e-2d7e7445b9c6"
      },
      "execution_count": 16,
      "outputs": [
        {
          "output_type": "stream",
          "name": "stdout",
          "text": [
            "\n",
            "I am Multi Line String\n",
            "I am Multi Line String\n",
            "I am Multi Line String\n",
            "I am Multi Line String\n",
            "\n"
          ]
        }
      ]
    },
    {
      "cell_type": "code",
      "source": [
        "string4 = \"I Love Data Analytics \"\n",
        "print(string4[0:-1])"
      ],
      "metadata": {
        "colab": {
          "base_uri": "https://localhost:8080/"
        },
        "id": "gVpH4qSS9u7V",
        "outputId": "d56acee6-d0e5-433b-8183-0c65d17109e0"
      },
      "execution_count": 18,
      "outputs": [
        {
          "output_type": "stream",
          "name": "stdout",
          "text": [
            "I Love Data Analytics\n"
          ]
        }
      ]
    },
    {
      "cell_type": "code",
      "source": [
        "s = \"Petroleum Data Analytics\"\n",
        "# Retrives characters from 10 to 15\n",
        "print(s[10:15])\n",
        "# Retrives character from beginning to index 9\n",
        "print(s[:9])\n",
        "# Retrives character from index 10 to end\n",
        "print(s[10:])\n",
        "# Reverse a String\n",
        "print(s[::-1])"
      ],
      "metadata": {
        "colab": {
          "base_uri": "https://localhost:8080/"
        },
        "id": "sfM-BlZH9vAE",
        "outputId": "ebff4526-5bef-4db0-f0a3-64ef1f68fa0e"
      },
      "execution_count": 23,
      "outputs": [
        {
          "output_type": "stream",
          "name": "stdout",
          "text": [
            "Data \n",
            "Petroleum\n",
            "Data Analytics\n",
            "scitylanA ataD muelorteP\n"
          ]
        }
      ]
    }
  ]
}