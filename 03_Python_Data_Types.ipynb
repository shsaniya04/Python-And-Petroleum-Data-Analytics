{
  "cells": [
    {
      "cell_type": "markdown",
      "metadata": {
        "id": "gUz-LP_g5D_4"
      },
      "source": [
        "# **Python Data Types**"
      ]
    },
    {
      "cell_type": "markdown",
      "metadata": {
        "id": "IV05dSOy5JT0"
      },
      "source": [
        "## **Immutable Data Types**\n",
        "- Immutable Objects are of in-built datatypes like int, float, bool, string, Unicode, and tuple.\n",
        "- In simple words, an immutable object can’t be changed after it is created."
      ]
    },
    {
      "cell_type": "markdown",
      "metadata": {
        "id": "b1TkEfe_3gk1"
      },
      "source": [
        "### **Tuple**\n",
        "- A tuple in Python is an immutable ordered collection of elements.\n",
        "- A tuple is a collection similar to a Python list\n",
        "- The primary difference is that we can not modify a tuple once it is created.\n",
        "- Tuples can hold elements of different data types.\n",
        "- The main characteristics of tuples are being ordered, heterogeneous and immutable.\n"
      ]
    },
    {
      "cell_type": "code",
      "execution_count": 1,
      "metadata": {
        "colab": {
          "base_uri": "https://localhost:8080/"
        },
        "id": "jhQ0WXCG3Ic7",
        "outputId": "ea857344-1e52-4a20-fbeb-96f64371b15c"
      },
      "outputs": [
        {
          "output_type": "stream",
          "name": "stdout",
          "text": [
            "Output of empty tuple:  ()\n"
          ]
        }
      ],
      "source": [
        "empty_tuple = ()\n",
        "print(\"Output of empty tuple: \",empty_tuple)"
      ]
    },
    {
      "cell_type": "code",
      "execution_count": 2,
      "metadata": {
        "colab": {
          "base_uri": "https://localhost:8080/"
        },
        "id": "Vw_PNUes3IZC",
        "outputId": "961f4067-af16-4d64-d322-a26053a597cd"
      },
      "outputs": [
        {
          "output_type": "stream",
          "name": "stdout",
          "text": [
            "()\n",
            "<class 'tuple'>\n"
          ]
        }
      ],
      "source": [
        "tuple1 = ()\n",
        "print(tuple1)\n",
        "print(type(tuple1))"
      ]
    },
    {
      "cell_type": "code",
      "execution_count": 3,
      "metadata": {
        "colab": {
          "base_uri": "https://localhost:8080/"
        },
        "id": "RMS6RTXs3IUL",
        "outputId": "4a01c357-dcef-455a-aaad-6a838a4a937c"
      },
      "outputs": [
        {
          "output_type": "stream",
          "name": "stdout",
          "text": [
            "Output of tuple using tuple constructor:  (1, 'Data', True, 2, 'Analytics', False)\n"
          ]
        }
      ],
      "source": [
        "# Creating a tuple using Tuple Constructor\n",
        "tuple1 = tuple((1, 'Data', True, 2, 'Analytics', False))\n",
        "print(\"Output of tuple using tuple constructor: \",tuple1)"
      ]
    },
    {
      "cell_type": "code",
      "execution_count": 4,
      "metadata": {
        "colab": {
          "base_uri": "https://localhost:8080/"
        },
        "id": "lFzpGyO24iqL",
        "outputId": "bd40cb81-7469-4d56-f64f-220448a805fa"
      },
      "outputs": [
        {
          "output_type": "stream",
          "name": "stdout",
          "text": [
            "1\n",
            "False\n",
            "Analytics\n",
            "(1, 'Data', True, 2, 'Analytics', False)\n",
            "(1, 'Data', True, 2, 'Analytics', False)\n",
            "('Data', True)\n",
            "(1, 'Data', True, 2, 'Analytics')\n"
          ]
        }
      ],
      "source": [
        "# Accessing of Tuple\n",
        "print(tuple1[0])\n",
        "print(tuple1[-1])\n",
        "print(tuple1[-2])\n",
        "print(tuple1[0:])\n",
        "print(tuple1[::])\n",
        "print(tuple1[1:3])\n",
        "print(tuple1[0:-1])"
      ]
    },
    {
      "cell_type": "code",
      "execution_count": 5,
      "metadata": {
        "colab": {
          "base_uri": "https://localhost:8080/"
        },
        "id": "b4C6SuwK40Pe",
        "outputId": "31e10418-c5d7-499b-e8ab-54f0f9fd1429"
      },
      "outputs": [
        {
          "output_type": "stream",
          "name": "stdout",
          "text": [
            "(1, 2, 3, 4)\n"
          ]
        }
      ],
      "source": [
        "# Tuple is immutable\n",
        "tuple1 = (1,2,3,4)\n",
        "print(tuple1)"
      ]
    },
    {
      "cell_type": "code",
      "execution_count": 6,
      "metadata": {
        "colab": {
          "base_uri": "https://localhost:8080/"
        },
        "id": "kxH8VP7H6EkK",
        "outputId": "f307bfe1-65cb-4c4b-9b3a-bb13b9f5288a"
      },
      "outputs": [
        {
          "output_type": "stream",
          "name": "stdout",
          "text": [
            "(1, 2, 3, 4, 561, 258, 355)\n"
          ]
        }
      ],
      "source": [
        "# Concatenation of Tuple\n",
        "tuple2 = (561,258,355)\n",
        "tuple3 = tuple1 + tuple2\n",
        "print(tuple3)"
      ]
    },
    {
      "cell_type": "code",
      "execution_count": 7,
      "metadata": {
        "colab": {
          "base_uri": "https://localhost:8080/"
        },
        "id": "PmCJt54K6nuF",
        "outputId": "61622a3a-6164-43e7-baaa-8fd81714c1a4"
      },
      "outputs": [
        {
          "output_type": "execute_result",
          "data": {
            "text/plain": [
              "4"
            ]
          },
          "metadata": {},
          "execution_count": 7
        }
      ],
      "source": [
        "# Length / Size of Tuple\n",
        "len(tuple1)"
      ]
    },
    {
      "cell_type": "code",
      "execution_count": 8,
      "metadata": {
        "colab": {
          "base_uri": "https://localhost:8080/",
          "height": 158
        },
        "id": "FfRFUic96Ec6",
        "outputId": "983b76ee-68d5-470b-ac9c-18a8a4d5dc91"
      },
      "outputs": [
        {
          "output_type": "error",
          "ename": "NameError",
          "evalue": "name 'tuple3' is not defined",
          "traceback": [
            "\u001b[0;31m---------------------------------------------------------------------------\u001b[0m",
            "\u001b[0;31mNameError\u001b[0m                                 Traceback (most recent call last)",
            "\u001b[0;32m/tmp/ipython-input-1189629552.py\u001b[0m in \u001b[0;36m<cell line: 0>\u001b[0;34m()\u001b[0m\n\u001b[1;32m      1\u001b[0m \u001b[0;32mdel\u001b[0m \u001b[0mtuple3\u001b[0m\u001b[0;34m\u001b[0m\u001b[0;34m\u001b[0m\u001b[0m\n\u001b[0;32m----> 2\u001b[0;31m \u001b[0mprint\u001b[0m\u001b[0;34m(\u001b[0m\u001b[0mtuple3\u001b[0m\u001b[0;34m)\u001b[0m\u001b[0;34m\u001b[0m\u001b[0;34m\u001b[0m\u001b[0m\n\u001b[0m",
            "\u001b[0;31mNameError\u001b[0m: name 'tuple3' is not defined"
          ]
        }
      ],
      "source": [
        "del tuple3\n",
        "print(tuple3)"
      ]
    },
    {
      "cell_type": "code",
      "execution_count": 36,
      "metadata": {
        "colab": {
          "base_uri": "https://localhost:8080/"
        },
        "id": "Un0cXLev5DP1",
        "outputId": "dc14f09a-a402-48ee-b224-ffb456279402"
      },
      "outputs": [
        {
          "output_type": "stream",
          "name": "stdout",
          "text": [
            "<class 'tuple'>\n"
          ]
        }
      ],
      "source": [
        "print(type(tuple1))"
      ]
    },
    {
      "cell_type": "code",
      "execution_count": 37,
      "metadata": {
        "colab": {
          "base_uri": "https://localhost:8080/",
          "height": 158
        },
        "id": "cWwxy9Qo5DOF",
        "outputId": "0f30bf05-3195-4409-85bd-3b99c53041e6"
      },
      "outputs": [
        {
          "output_type": "error",
          "ename": "TypeError",
          "evalue": "'tuple' object does not support item assignment",
          "traceback": [
            "\u001b[0;31m---------------------------------------------------------------------------\u001b[0m",
            "\u001b[0;31mTypeError\u001b[0m                                 Traceback (most recent call last)",
            "\u001b[0;32m/tmp/ipython-input-4016702147.py\u001b[0m in \u001b[0;36m<cell line: 0>\u001b[0;34m()\u001b[0m\n\u001b[0;32m----> 1\u001b[0;31m \u001b[0mtuple1\u001b[0m\u001b[0;34m[\u001b[0m\u001b[0;36m3\u001b[0m\u001b[0;34m]\u001b[0m \u001b[0;34m=\u001b[0m \u001b[0;36m4\u001b[0m\u001b[0;34m\u001b[0m\u001b[0;34m\u001b[0m\u001b[0m\n\u001b[0m\u001b[1;32m      2\u001b[0m \u001b[0mprint\u001b[0m\u001b[0;34m(\u001b[0m\u001b[0mtuple1\u001b[0m\u001b[0;34m)\u001b[0m\u001b[0;34m\u001b[0m\u001b[0;34m\u001b[0m\u001b[0m\n",
            "\u001b[0;31mTypeError\u001b[0m: 'tuple' object does not support item assignment"
          ]
        }
      ],
      "source": [
        "tuple1[3] = 4\n",
        "print(tuple1)"
      ]
    },
    {
      "cell_type": "code",
      "execution_count": 38,
      "metadata": {
        "colab": {
          "base_uri": "https://localhost:8080/"
        },
        "id": "eff8bfc5",
        "outputId": "2bfd3dc6-5203-4956-bab6-ac838528777d"
      },
      "outputs": [
        {
          "output_type": "stream",
          "name": "stdout",
          "text": [
            "[(1, 2), (3, 4), (5, 6)]\n"
          ]
        }
      ],
      "source": [
        "# Remove empty tuples from the list - using LIST COMPREHENSION\n",
        "tuple3 = [(1, 2), (), (3, 4), (), (5,6)]\n",
        "filtered_tuple3 = [t for t in tuple3 if t]\n",
        "print(filtered_tuple3)"
      ]
    },
    {
      "cell_type": "code",
      "execution_count": 39,
      "metadata": {
        "colab": {
          "base_uri": "https://localhost:8080/"
        },
        "id": "EAPMHUmh73DM",
        "outputId": "dcbe315a-f06f-440b-c710-dd1e8cc1f150"
      },
      "outputs": [
        {
          "output_type": "stream",
          "name": "stdout",
          "text": [
            "[(1, 2), (3, 4), (5, 6)]\n"
          ]
        }
      ],
      "source": [
        "# Remove empty tuples from the list - using filter()\n",
        "tuple3 = [(1, 2), (), (3, 4), (), (5,6)]\n",
        "filtered_tuple3 = list(filter(None, tuple3))\n",
        "print(filtered_tuple3)"
      ]
    },
    {
      "cell_type": "code",
      "execution_count": 40,
      "metadata": {
        "colab": {
          "base_uri": "https://localhost:8080/"
        },
        "id": "HHOIZN3G5DGP",
        "outputId": "362cbce3-1ac8-4094-e0ee-4bea0d9a03ac"
      },
      "outputs": [
        {
          "output_type": "stream",
          "name": "stdout",
          "text": [
            "10785632\n",
            "10785632\n",
            "10785632\n",
            "10785632\n",
            "10785632\n",
            "10785632\n",
            "10785632\n"
          ]
        }
      ],
      "source": [
        "# Python stores identical strings in the same memory (interning), but not all immutables get this optimization.\n",
        "var1 = 'abc'\n",
        "var2 = 'abc'\n",
        "var3 = 'abc'\n",
        "var4 = 'abc'\n",
        "var5 = 'abc'\n",
        "var6 = 'abc'\n",
        "var7 = 'abc'\n",
        "print(id(var1))\n",
        "print(id(var2))\n",
        "print(id(var3))\n",
        "print(id(var4))\n",
        "print(id(var5))\n",
        "print(id(var6))\n",
        "print(id(var7))"
      ]
    },
    {
      "cell_type": "markdown",
      "metadata": {
        "id": "tgvHD_G17cs7"
      },
      "source": [
        "### **Non-Transitivity**\n",
        "- Tuples are immutable, but if they contain mutable objects (like lists), those can still be changed—this is called non-transitive immutability"
      ]
    },
    {
      "cell_type": "code",
      "execution_count": 41,
      "metadata": {
        "colab": {
          "base_uri": "https://localhost:8080/"
        },
        "id": "3oHj_NmM7rEf",
        "outputId": "292b8f1b-7478-48d4-f241-08fcda220cc9"
      },
      "outputs": [
        {
          "output_type": "stream",
          "name": "stdout",
          "text": [
            "Before: (1, 2, [3, 4])\n",
            "After: (1, 2, [3, 5])\n"
          ]
        }
      ],
      "source": [
        "# Tuple with a list inside\n",
        "t = (1, 2, [3, 4])\n",
        "\n",
        "print(\"Before:\", t)\n",
        "\n",
        "# Trying to modify tuple directly -> Error\n",
        "# t[0] = 10   # TypeError\n",
        "\n",
        "# But modifying the list inside works\n",
        "t[2][1] = 5\n",
        "\n",
        "print(\"After:\", t)"
      ]
    },
    {
      "cell_type": "markdown",
      "metadata": {
        "id": "enWt-p6S841I"
      },
      "source": [
        "## **Numeric Data Type**\n",
        "- The numeric data type in Python represents the data that has a numeric value.\n",
        "- A numeric value can be an integer, a floating number, or even a complex number.\n",
        "- These values are defined as Python int, Python float, and Python complex classes in Python.\n",
        "- **Integers** – This value is represented by int class. It contains positive or negative whole numbers (without fractions or decimals).\n",
        "In Python, there is no limit to how long an integer value can be.\n",
        "\n",
        "- **Float** – This value is represented by the float class. It is a real number with a floating-point representation. It is specified by a decimal point.\n",
        "- **Complex Numbers** – Complex number is represented by a complex class. It is specified as (real part) + (imaginary part)j. For example:  3+4j\n",
        "- **Note** – type() function is used to determine the type of data type.\n"
      ]
    },
    {
      "cell_type": "code",
      "execution_count": 42,
      "metadata": {
        "colab": {
          "base_uri": "https://localhost:8080/"
        },
        "id": "1OgdnL0o9VqP",
        "outputId": "3ad1ef10-2990-4ad9-ad39-70b04ae159bc"
      },
      "outputs": [
        {
          "output_type": "stream",
          "name": "stdout",
          "text": [
            "<class 'int'>\n",
            "<class 'float'>\n",
            "<class 'complex'>\n"
          ]
        }
      ],
      "source": [
        "a = 362739\n",
        "print(type(a))\n",
        "b = 2523.334\n",
        "print(type(b))\n",
        "c = 2 + 3j\n",
        "print(type(c))"
      ]
    },
    {
      "cell_type": "markdown",
      "metadata": {
        "id": "flZYxlXj9yiC"
      },
      "source": [
        "## **Sequence Data Types**\n",
        "- String\n",
        "- List\n",
        "- Tuple"
      ]
    },
    {
      "cell_type": "markdown",
      "metadata": {
        "id": "KZ5wLAH0ArG1"
      },
      "source": [
        "### **String**\n",
        "- manipulate strings then we can use methods like concatenation, slicing, or formatting to create new strings based on the original"
      ]
    },
    {
      "cell_type": "code",
      "execution_count": 43,
      "metadata": {
        "colab": {
          "base_uri": "https://localhost:8080/",
          "height": 211
        },
        "id": "M1udqIwh5DMT",
        "outputId": "40219ee1-ab11-4765-ba8c-60c66b6f33ff"
      },
      "outputs": [
        {
          "output_type": "stream",
          "name": "stdout",
          "text": [
            "<class 'str'>\n",
            "I\n"
          ]
        },
        {
          "output_type": "error",
          "ename": "TypeError",
          "evalue": "'str' object does not support item assignment",
          "traceback": [
            "\u001b[0;31m---------------------------------------------------------------------------\u001b[0m",
            "\u001b[0;31mTypeError\u001b[0m                                 Traceback (most recent call last)",
            "\u001b[0;32m/tmp/ipython-input-3479344824.py\u001b[0m in \u001b[0;36m<cell line: 0>\u001b[0;34m()\u001b[0m\n\u001b[1;32m      3\u001b[0m \u001b[0mprint\u001b[0m\u001b[0;34m(\u001b[0m\u001b[0mtype\u001b[0m\u001b[0;34m(\u001b[0m\u001b[0mstring1\u001b[0m\u001b[0;34m)\u001b[0m\u001b[0;34m)\u001b[0m\u001b[0;34m\u001b[0m\u001b[0;34m\u001b[0m\u001b[0m\n\u001b[1;32m      4\u001b[0m \u001b[0mprint\u001b[0m\u001b[0;34m(\u001b[0m\u001b[0mstring1\u001b[0m\u001b[0;34m[\u001b[0m\u001b[0;36m0\u001b[0m\u001b[0;34m]\u001b[0m\u001b[0;34m)\u001b[0m\u001b[0;34m\u001b[0m\u001b[0;34m\u001b[0m\u001b[0m\n\u001b[0;32m----> 5\u001b[0;31m \u001b[0mstring1\u001b[0m\u001b[0;34m[\u001b[0m\u001b[0;36m0\u001b[0m\u001b[0;34m]\u001b[0m \u001b[0;34m=\u001b[0m \u001b[0;34m'U'\u001b[0m\u001b[0;34m\u001b[0m\u001b[0;34m\u001b[0m\u001b[0m\n\u001b[0m",
            "\u001b[0;31mTypeError\u001b[0m: 'str' object does not support item assignment"
          ]
        }
      ],
      "source": [
        "# String is immutable\n",
        "string1 = 'I AM IMMUTABLE'\n",
        "print(type(string1))\n",
        "print(string1[0])\n",
        "string1[0] = 'U'"
      ]
    },
    {
      "cell_type": "code",
      "execution_count": 67,
      "metadata": {
        "colab": {
          "base_uri": "https://localhost:8080/"
        },
        "id": "EuyqfEWe9uyQ",
        "outputId": "3a2a685e-e936-4306-9386-f99827ab11c9"
      },
      "outputs": [
        {
          "output_type": "stream",
          "name": "stdout",
          "text": [
            "P\n",
            "e\n",
            "t\n",
            "r\n",
            "o\n",
            "l\n",
            "e\n",
            "u\n",
            "m\n",
            " \n",
            "D\n",
            "a\n",
            "t\n",
            "a\n",
            " \n",
            "A\n",
            "n\n",
            "a\n",
            "l\n",
            "y\n",
            "t\n",
            "i\n",
            "c\n",
            "s\n"
          ]
        }
      ],
      "source": [
        "string2 = 'Petroleum Data Analytics'\n",
        "print(string2[0])\n",
        "print(string2[1])\n",
        "print(string2[2])\n",
        "print(string2[3])\n",
        "print(string2[4])\n",
        "print(string2[5])\n",
        "print(string2[6])\n",
        "print(string2[7])\n",
        "print(string2[8])\n",
        "print(string2[9])\n",
        "print(string2[10])\n",
        "print(string2[11])\n",
        "print(string2[12])\n",
        "print(string2[13])\n",
        "print(string2[14])\n",
        "print(string2[15])\n",
        "print(string2[16])\n",
        "print(string2[17])\n",
        "print(string2[18])\n",
        "print(string2[19])\n",
        "print(string2[20])\n",
        "print(string2[21])\n",
        "print(string2[22])\n",
        "print(string2[23])"
      ]
    },
    {
      "cell_type": "code",
      "execution_count": 68,
      "metadata": {
        "colab": {
          "base_uri": "https://localhost:8080/"
        },
        "id": "lHhpd_wu9u1w",
        "outputId": "a7f499d1-3a87-41b4-e25c-3d14a7e28594"
      },
      "outputs": [
        {
          "output_type": "stream",
          "name": "stdout",
          "text": [
            "\n",
            "I am Multi Line String\n",
            "I am Multi Line String\n",
            "I am Multi Line String\n",
            "I am Multi Line String\n",
            "\n"
          ]
        }
      ],
      "source": [
        "# Multi Line String\n",
        "string3 = \"\"\"\n",
        "I am Multi Line String\n",
        "I am Multi Line String\n",
        "I am Multi Line String\n",
        "I am Multi Line String\n",
        "\"\"\"\n",
        "print(string3)"
      ]
    },
    {
      "cell_type": "code",
      "execution_count": 69,
      "metadata": {
        "colab": {
          "base_uri": "https://localhost:8080/"
        },
        "id": "gVpH4qSS9u7V",
        "outputId": "d1f736e3-20f7-4c6e-d40f-5fd721b99ca6"
      },
      "outputs": [
        {
          "output_type": "stream",
          "name": "stdout",
          "text": [
            "I Love Data Analytics\n"
          ]
        }
      ],
      "source": [
        "string4 = \"I Love Data Analytics \"\n",
        "print(string4[0:-1])"
      ]
    },
    {
      "cell_type": "code",
      "execution_count": 70,
      "metadata": {
        "colab": {
          "base_uri": "https://localhost:8080/"
        },
        "id": "sfM-BlZH9vAE",
        "outputId": "fc4378e1-cbd6-4de8-d830-ac140f083b33"
      },
      "outputs": [
        {
          "output_type": "stream",
          "name": "stdout",
          "text": [
            "Data \n",
            "Petroleum\n",
            "Data Analytics\n",
            "scitylanA ataD muelorteP\n"
          ]
        }
      ],
      "source": [
        "s = \"Petroleum Data Analytics\"\n",
        "# Retrives characters from 10 to 15\n",
        "print(s[10:15])\n",
        "# Retrives character from beginning to index 9\n",
        "print(s[:9])\n",
        "# Retrives character from index 10 to end\n",
        "print(s[10:])\n",
        "# Reverse a String\n",
        "print(s[::-1])"
      ]
    },
    {
      "cell_type": "code",
      "execution_count": 71,
      "metadata": {
        "colab": {
          "base_uri": "https://localhost:8080/"
        },
        "id": "Z0Hbg8HxMqrU",
        "outputId": "efd04893-8bff-45ef-d230-a04522acf154"
      },
      "outputs": [
        {
          "output_type": "stream",
          "name": "stdout",
          "text": [
            "Petroleum Data Analytics\n"
          ]
        }
      ],
      "source": [
        "# Updating a string, creating new string\n",
        "s1 = \" Data Analytics\"\n",
        "s2 = \"Petroleum\" + s1\n",
        "print(s2)"
      ]
    },
    {
      "cell_type": "code",
      "execution_count": 72,
      "metadata": {
        "colab": {
          "base_uri": "https://localhost:8080/"
        },
        "id": "OxHLTOHFMqvn",
        "outputId": "61b95cd8-1c9c-4a4c-f2cf-5df1b557e462"
      },
      "outputs": [
        {
          "output_type": "stream",
          "name": "stdout",
          "text": [
            "Petroleum Data Analysis\n"
          ]
        }
      ],
      "source": [
        "s3 = s2.replace(\"Analytics\", \"Analysis\")\n",
        "print(s3)"
      ]
    },
    {
      "cell_type": "markdown",
      "metadata": {
        "id": "7tmCY7FQNsFM"
      },
      "source": [
        "### **Common String Methods**"
      ]
    },
    {
      "cell_type": "code",
      "execution_count": 73,
      "metadata": {
        "colab": {
          "base_uri": "https://localhost:8080/"
        },
        "id": "P8uV4TPMMqyG",
        "outputId": "bf7ffb1b-d8ca-4016-efad-82d9ea026704"
      },
      "outputs": [
        {
          "output_type": "stream",
          "name": "stdout",
          "text": [
            "24\n"
          ]
        }
      ],
      "source": [
        "# len()\n",
        "print(len(s2))"
      ]
    },
    {
      "cell_type": "code",
      "execution_count": 74,
      "metadata": {
        "colab": {
          "base_uri": "https://localhost:8080/"
        },
        "id": "YXlRzlyAMq5A",
        "outputId": "331a4b73-8ca0-48d4-85b3-86a94bdf5d22"
      },
      "outputs": [
        {
          "output_type": "stream",
          "name": "stdout",
          "text": [
            "PETROLEUM DATA ANALYTICS\n",
            "petroleum data analytics\n"
          ]
        }
      ],
      "source": [
        "# uppercase and lowercase character\n",
        "print(s2.upper())\n",
        "print(s2.lower())"
      ]
    },
    {
      "cell_type": "code",
      "execution_count": 75,
      "metadata": {
        "colab": {
          "base_uri": "https://localhost:8080/"
        },
        "id": "aHH3ul0wOGhv",
        "outputId": "528ce2b5-72c6-4e2f-b617-80b977075e15"
      },
      "outputs": [
        {
          "output_type": "stream",
          "name": "stdout",
          "text": [
            "Petroleum Data Analytics\n",
            "Petroleum Data Analysis\n"
          ]
        }
      ],
      "source": [
        "# strip() and replace()\n",
        "s4 = \"     Petroleum Data Analytics     \"\n",
        "print(s4.strip())\n",
        "print(s2.replace(\"Analytics\", \"Analysis\"))"
      ]
    },
    {
      "cell_type": "code",
      "execution_count": 76,
      "metadata": {
        "colab": {
          "base_uri": "https://localhost:8080/"
        },
        "id": "Y_lht63iOHI5",
        "outputId": "7571c15d-0f93-4a7b-e225-0df0ef4776a2"
      },
      "outputs": [
        {
          "output_type": "stream",
          "name": "stdout",
          "text": [
            "123456\n",
            "123123123\n"
          ]
        }
      ],
      "source": [
        "# Concatenating and Repeating Strings\n",
        "# We can concatenate strings using + operator and repeat them  using * operator.\n",
        "s1 = \"123\"\n",
        "s2 = \"456\"\n",
        "print(s1+s2)\n",
        "print(s1*3)"
      ]
    },
    {
      "cell_type": "markdown",
      "metadata": {
        "id": "0kNOL-8ePcGf"
      },
      "source": [
        "## **Mutable Data Types**"
      ]
    },
    {
      "cell_type": "markdown",
      "metadata": {
        "id": "Vv9OPyRcPKgc"
      },
      "source": [
        "### **Lists**\n",
        "- In Python, a list is a built-in dynamic sized array (automatically grows and shrinks).\n",
        "- We can store all types of items (including another list) in a list. A list may contain mixed type of items.\n",
        "- List can contain duplicate items.\n",
        "- List in Python are Mutable. Hence, we can modify, replace or delete the items.\n",
        "- List are ordered. It maintain the order of elements based on how they are added.\n",
        "- Accessing items in List can be done directly using their position (index), starting from 0.\n"
      ]
    },
    {
      "cell_type": "code",
      "execution_count": 77,
      "metadata": {
        "colab": {
          "base_uri": "https://localhost:8080/"
        },
        "id": "q2tuMvRrOHSc",
        "outputId": "db851cf8-ab4a-4e7f-aa8c-2cdb47d364f7"
      },
      "outputs": [
        {
          "output_type": "stream",
          "name": "stdout",
          "text": [
            "['abc', 'def', 'ghi']\n",
            "[1, 2, 3, 4, 5]\n",
            "[1, 'abc', True, 2, 'def', False]\n"
          ]
        }
      ],
      "source": [
        "# List of Strings\n",
        "list1 = [\"abc\", \"def\", \"ghi\"]\n",
        "print(list1)\n",
        "# List of Integers\n",
        "list2 = [1,2,3,4,5]\n",
        "print(list2)\n",
        "# lists of Mixed Characters\n",
        "list3 = [1, 'abc', True, 2, 'def', False]\n",
        "print(list3)"
      ]
    },
    {
      "cell_type": "code",
      "execution_count": 78,
      "metadata": {
        "colab": {
          "base_uri": "https://localhost:8080/"
        },
        "id": "z4tJkr3uOHa3",
        "outputId": "6c536e0e-f1ad-4e13-88bd-fe2d44ceaa2e"
      },
      "outputs": [
        {
          "output_type": "stream",
          "name": "stdout",
          "text": [
            "abc\n",
            "2\n",
            "True\n"
          ]
        }
      ],
      "source": [
        "# Accessing List items using index\n",
        "print(list1[0])\n",
        "print(list2[1])\n",
        "print(list3[2])"
      ]
    },
    {
      "cell_type": "code",
      "execution_count": 79,
      "metadata": {
        "colab": {
          "base_uri": "https://localhost:8080/"
        },
        "id": "ylEd_rgvOHjD",
        "outputId": "95efcfd4-fee9-439d-b529-d093b808cb1e"
      },
      "outputs": [
        {
          "output_type": "stream",
          "name": "stdout",
          "text": [
            "<class 'str'>\n",
            "<class 'int'>\n",
            "<class 'bool'>\n"
          ]
        }
      ],
      "source": [
        "# List types\n",
        "print(type(list1[1]))\n",
        "print(type(list2[2]))\n",
        "print(type(list3[2]))"
      ]
    },
    {
      "cell_type": "code",
      "execution_count": 80,
      "metadata": {
        "colab": {
          "base_uri": "https://localhost:8080/"
        },
        "id": "2Qsyq2aoRctV",
        "outputId": "151626f3-19e1-451f-ed1b-3bc365bcab9e"
      },
      "outputs": [
        {
          "output_type": "stream",
          "name": "stdout",
          "text": [
            "[]\n"
          ]
        }
      ],
      "source": [
        "# List Constructor using list()\n",
        "list4 = list()\n",
        "print(list4)"
      ]
    },
    {
      "cell_type": "code",
      "execution_count": 81,
      "metadata": {
        "colab": {
          "base_uri": "https://localhost:8080/"
        },
        "id": "9tKJkpupRuzU",
        "outputId": "05000124-755c-4c6c-c3b5-4d89a3870801"
      },
      "outputs": [
        {
          "output_type": "stream",
          "name": "stdout",
          "text": [
            "[1, 'abc', True, 'xyz', 2, 'def', False, 3, 'ghi', True, 'DATA', 564, 'Engineering']\n"
          ]
        }
      ],
      "source": [
        "# Adding elements to List\n",
        "#  .append()\n",
        "l1 = [1, 'abc', True, 2, 'def', False]\n",
        "l1.append(3)\n",
        "\n",
        "# .extend()\n",
        "l1.extend(['ghi', True, 'DATA', 564, 'Engineering'])\n",
        "\n",
        "# .insert()\n",
        "l1.insert(3, 'xyz')\n",
        "\n",
        "print(l1)"
      ]
    },
    {
      "cell_type": "code",
      "execution_count": 82,
      "metadata": {
        "colab": {
          "base_uri": "https://localhost:8080/"
        },
        "id": "VbKx_1CXRu-8",
        "outputId": "74a5c1e6-a959-4d6c-e568-db9d856cf8bc"
      },
      "outputs": [
        {
          "output_type": "stream",
          "name": "stdout",
          "text": [
            "['Data', 'abc', True, 'xyz', 2, 'def', False, 3, 'ghi', True, 'DATA', 564, 'Engineering']\n"
          ]
        }
      ],
      "source": [
        "# Updating Elements in List\n",
        "\n",
        "l1[0] = 'Data'\n",
        "print(l1)"
      ]
    },
    {
      "cell_type": "code",
      "execution_count": 83,
      "metadata": {
        "colab": {
          "base_uri": "https://localhost:8080/"
        },
        "id": "QMWfU9H7RvH2",
        "outputId": "b1d519f6-375a-47ee-f873-65d1ebab7fcb"
      },
      "outputs": [
        {
          "output_type": "stream",
          "name": "stdout",
          "text": [
            "['Data', True, 'xyz', 2, 'def', False, 3, 'ghi', True, 'DATA', 564, 'Engineering']\n",
            "['Data', True, 'xyz', 2, 'def', False, 'ghi', True, 'DATA', 564, 'Engineering']\n",
            "['Data', True, 'xyz', 'def', False, 'ghi', True, 'DATA', 564, 'Engineering']\n"
          ]
        }
      ],
      "source": [
        "# Removing elements from list\n",
        "\n",
        "# .remove()\n",
        "l1.remove('abc')\n",
        "print(l1)\n",
        "\n",
        "# .pop()\n",
        "l1.pop(6)\n",
        "print(l1)\n",
        "\n",
        "# del keyword\n",
        "del l1[3]\n",
        "print(l1)"
      ]
    },
    {
      "cell_type": "code",
      "execution_count": 84,
      "metadata": {
        "colab": {
          "base_uri": "https://localhost:8080/"
        },
        "id": "1A2QBXBHRvRQ",
        "outputId": "9ad71e74-33e1-4a1e-b460-2931e7c6bb47"
      },
      "outputs": [
        {
          "output_type": "stream",
          "name": "stdout",
          "text": [
            "['Porosity', 'Petroleum', [1, 2, 3, 4, 5]]\n"
          ]
        }
      ],
      "source": [
        "# Nested Lists in Python\n",
        "l2 = ['Porosity', \"Petroleum\" , [1,2,3,4,5]]\n",
        "print(l2)"
      ]
    },
    {
      "cell_type": "code",
      "execution_count": 85,
      "metadata": {
        "colab": {
          "base_uri": "https://localhost:8080/"
        },
        "id": "KnYNDnK0Rvaz",
        "outputId": "d12a6023-46e5-4649-afb2-e6e4ae6355af"
      },
      "outputs": [
        {
          "output_type": "execute_result",
          "data": {
            "text/plain": [
              "[1, 2, 3, 4, 5]"
            ]
          },
          "metadata": {},
          "execution_count": 85
        }
      ],
      "source": [
        "l2[-1]"
      ]
    },
    {
      "cell_type": "code",
      "execution_count": 86,
      "metadata": {
        "colab": {
          "base_uri": "https://localhost:8080/"
        },
        "id": "pJkjapDFRvje",
        "outputId": "004bb828-a7f5-4b45-ee63-6f3b1175eb48"
      },
      "outputs": [
        {
          "output_type": "execute_result",
          "data": {
            "text/plain": [
              "[1, 2, 3, 4, 5]"
            ]
          },
          "metadata": {},
          "execution_count": 86
        }
      ],
      "source": [
        "l2[2]"
      ]
    },
    {
      "cell_type": "code",
      "execution_count": 87,
      "metadata": {
        "colab": {
          "base_uri": "https://localhost:8080/"
        },
        "id": "l9-gpSx_ExLJ",
        "outputId": "ee815c64-d9da-4f3d-8b18-4a7dda9e8767"
      },
      "outputs": [
        {
          "output_type": "stream",
          "name": "stdout",
          "text": [
            "['Data', True, 'xyz', 'def', False, 'ghi', True, 'DATA', 564, 'Engineering']\n",
            "[]\n",
            "2\n",
            "['abc', True, 'xyz', 2, 'def', False, 3, 'ghi', True, 'DATA', 564, 'Engineering']\n",
            "['Engineering', 564, 'DATA', True, 'ghi', 3, False, 'def', 2, 'xyz', True, 'abc']\n",
            "['Engineering', 564, 'DATA', 'ghi', 3, False, 'def', 2, 'xyz', True, 'abc']\n"
          ]
        }
      ],
      "source": [
        "# List Methods\n",
        "\n",
        "# .copy()\n",
        "l2 = ['Data', 'abc', True, 'xyz', 2, 'def', False, 3, 'ghi', True, 'DATA', 564, 'Engineering']\n",
        "l1 = l1.copy()\n",
        "print(l1)\n",
        "\n",
        "# .clear()\n",
        "l1.clear()\n",
        "print(l1)\n",
        "\n",
        "# .count()\n",
        "print(l2.count(1))\n",
        "\n",
        "# .pop()\n",
        "l2.pop(0)\n",
        "print(l2)\n",
        "\n",
        "# .reverse()\n",
        "l2.reverse()\n",
        "print(l2)\n",
        "\n",
        "# .remove()\n",
        "l2.remove(1)\n",
        "print(l2)\n"
      ]
    },
    {
      "cell_type": "markdown",
      "metadata": {
        "id": "U_J_Zr0uGZnq"
      },
      "source": [
        "### **Dictionary**\n",
        "- Python dictionary is a data structure that stores the value in\n",
        "key: value pairs. Values in a dictionary can be of any data type and can be duplicated, whereas keys can't be repeated and must be immutable.\n"
      ]
    },
    {
      "cell_type": "code",
      "execution_count": 88,
      "metadata": {
        "colab": {
          "base_uri": "https://localhost:8080/"
        },
        "id": "HLtaRUERExHp",
        "outputId": "bd8f7dc6-5f61-4a99-9bbf-e6de1e257a95"
      },
      "outputs": [
        {
          "output_type": "stream",
          "name": "stdout",
          "text": [
            "{1: 'Porosity', 2: 'Permeability', 3: 'Formation'}\n"
          ]
        }
      ],
      "source": [
        "dict1 = {1 : \"Porosity\", 2 : \"Permeability\", 3 : \"Formation\"}\n",
        "print(dict1)"
      ]
    },
    {
      "cell_type": "code",
      "execution_count": 89,
      "metadata": {
        "colab": {
          "base_uri": "https://localhost:8080/"
        },
        "id": "EyZsMPv1ExEh",
        "outputId": "7e8e06b1-fe40-4398-b785-ef76af68c499"
      },
      "outputs": [
        {
          "output_type": "stream",
          "name": "stdout",
          "text": [
            "<class 'dict'>\n"
          ]
        }
      ],
      "source": [
        "print(type(dict1))"
      ]
    },
    {
      "cell_type": "code",
      "execution_count": 90,
      "metadata": {
        "colab": {
          "base_uri": "https://localhost:8080/"
        },
        "id": "1BXsltqmExBR",
        "outputId": "43c39d04-b5b9-4593-8ef6-af98a67d1a23"
      },
      "outputs": [
        {
          "output_type": "stream",
          "name": "stdout",
          "text": [
            "Porosity\n",
            "Permeability\n",
            "Formation\n",
            "Formation\n"
          ]
        }
      ],
      "source": [
        "# Accessing Dictionary Items\n",
        "\n",
        "# We can access a value from a dictionary by using the key within square brackets or get() method.\n",
        "print(dict1[1])\n",
        "print(dict1[2])\n",
        "print(dict1[3])\n",
        "\n",
        "print(dict1.get(3))"
      ]
    },
    {
      "cell_type": "code",
      "execution_count": 91,
      "metadata": {
        "colab": {
          "base_uri": "https://localhost:8080/"
        },
        "id": "DPsDyvZ_Ew-C",
        "outputId": "8052ce58-d7cc-4d44-a2e3-ad726e783d62"
      },
      "outputs": [
        {
          "output_type": "stream",
          "name": "stdout",
          "text": [
            "{1: 'Porosity', 2: 'Permeability', 3: 'Formation', 4: 'Proportion'}\n"
          ]
        }
      ],
      "source": [
        "# Adding and Updating Dictionary Items\n",
        "dict1[4] = \"Proportion\"\n",
        "print(dict1)"
      ]
    },
    {
      "cell_type": "code",
      "execution_count": 92,
      "metadata": {
        "colab": {
          "base_uri": "https://localhost:8080/"
        },
        "id": "54WmvlEnHbRX",
        "outputId": "df53cb2e-e174-4005-f5b9-33d6da1b46a4"
      },
      "outputs": [
        {
          "output_type": "stream",
          "name": "stdout",
          "text": [
            "{1: 'Porosity', 2: 'Permeability', 3: 'Formation'}\n",
            "{1: 'Porosity', 3: 'Formation'}\n",
            "{1: 'Porosity'}\n",
            "{}\n"
          ]
        }
      ],
      "source": [
        "# Removing Dictionary Items\n",
        "\n",
        "# del\n",
        "del dict1[4]\n",
        "print(dict1)\n",
        "\n",
        "# .pop()\n",
        "dict1.pop(2)\n",
        "print(dict1)\n",
        "\n",
        "# popitem\n",
        "dict1.popitem()\n",
        "print(dict1)\n",
        "\n",
        "# clear\n",
        "dict1.clear()\n",
        "print(dict1)"
      ]
    },
    {
      "cell_type": "code",
      "execution_count": 93,
      "metadata": {
        "colab": {
          "base_uri": "https://localhost:8080/"
        },
        "id": "VMegjoipHbN3",
        "outputId": "83499972-4eb5-4629-fefd-e6826eead10f"
      },
      "outputs": [
        {
          "output_type": "stream",
          "name": "stdout",
          "text": [
            "{1: 'Reservoir', 2: 'Permeability', 3: 'Formation', 4: 'Proportion', 5: 'Porosity', 6: 'Saturation'}\n"
          ]
        }
      ],
      "source": [
        "dict1[1] = \"Reservoir\"\n",
        "dict1[2] = \"Permeability\"\n",
        "dict1[3] = \"Formation\"\n",
        "dict1[4] = \"Proportion\"\n",
        "dict1[5] = \"Porosity\"\n",
        "dict1[6] = \"Saturation\"\n",
        "print(dict1)"
      ]
    },
    {
      "cell_type": "code",
      "execution_count": 94,
      "metadata": {
        "id": "E9hScJeaHbGf",
        "colab": {
          "base_uri": "https://localhost:8080/"
        },
        "outputId": "6ab331ed-b241-4bdb-b0e6-9204c1227b1f"
      },
      "outputs": [
        {
          "output_type": "execute_result",
          "data": {
            "text/plain": [
              "dict_keys([1, 2, 3, 4, 5, 6])"
            ]
          },
          "metadata": {},
          "execution_count": 94
        }
      ],
      "source": [
        "# keys - to get only keys\n",
        "dict1.keys()"
      ]
    },
    {
      "cell_type": "code",
      "source": [
        "# clear - empties the dictionary\n",
        "dict1.clear()\n",
        "dict1"
      ],
      "metadata": {
        "colab": {
          "base_uri": "https://localhost:8080/"
        },
        "id": "SOo6YmFtwsPA",
        "outputId": "e0850126-3ab5-47ce-ec12-60662194b7b0"
      },
      "execution_count": 95,
      "outputs": [
        {
          "output_type": "execute_result",
          "data": {
            "text/plain": [
              "{}"
            ]
          },
          "metadata": {},
          "execution_count": 95
        }
      ]
    },
    {
      "cell_type": "code",
      "source": [
        "# Nested Dictionary\n",
        "dict1 = {1: 'Reservoir', 2: 'Permeability', 3: {3: 'Formation', 4: 'Proportion', 5: 'Porosity', 6: 'Saturation'}}"
      ],
      "metadata": {
        "id": "Z3v-2bOAwsK1"
      },
      "execution_count": 96,
      "outputs": []
    },
    {
      "cell_type": "code",
      "source": [
        "dict1"
      ],
      "metadata": {
        "colab": {
          "base_uri": "https://localhost:8080/"
        },
        "id": "ulD09UbMwsHl",
        "outputId": "43502a22-4b3c-49d8-ffb9-f40b5eaba8a8"
      },
      "execution_count": 97,
      "outputs": [
        {
          "output_type": "execute_result",
          "data": {
            "text/plain": [
              "{1: 'Reservoir',\n",
              " 2: 'Permeability',\n",
              " 3: {3: 'Formation', 4: 'Proportion', 5: 'Porosity', 6: 'Saturation'}}"
            ]
          },
          "metadata": {},
          "execution_count": 97
        }
      ]
    },
    {
      "cell_type": "code",
      "source": [
        "import pandas as pd\n",
        "ml = {\"Machine Learning\" : ['Supervised', 'Unsupervised', 'Reinforcement'],\n",
        "      'Score': [90, 80, 70]}\n",
        "ml = pd.DataFrame(ml)\n",
        "ml"
      ],
      "metadata": {
        "colab": {
          "base_uri": "https://localhost:8080/",
          "height": 143
        },
        "id": "Ue9x59Qbwr_8",
        "outputId": "78a91360-6899-4ef6-b7da-d92a81124905"
      },
      "execution_count": 98,
      "outputs": [
        {
          "output_type": "execute_result",
          "data": {
            "text/plain": [
              "  Machine Learning  Score\n",
              "0       Supervised     90\n",
              "1     Unsupervised     80\n",
              "2    Reinforcement     70"
            ],
            "text/html": [
              "\n",
              "  <div id=\"df-f10af29a-3613-424b-86a4-ba2e34452523\" class=\"colab-df-container\">\n",
              "    <div>\n",
              "<style scoped>\n",
              "    .dataframe tbody tr th:only-of-type {\n",
              "        vertical-align: middle;\n",
              "    }\n",
              "\n",
              "    .dataframe tbody tr th {\n",
              "        vertical-align: top;\n",
              "    }\n",
              "\n",
              "    .dataframe thead th {\n",
              "        text-align: right;\n",
              "    }\n",
              "</style>\n",
              "<table border=\"1\" class=\"dataframe\">\n",
              "  <thead>\n",
              "    <tr style=\"text-align: right;\">\n",
              "      <th></th>\n",
              "      <th>Machine Learning</th>\n",
              "      <th>Score</th>\n",
              "    </tr>\n",
              "  </thead>\n",
              "  <tbody>\n",
              "    <tr>\n",
              "      <th>0</th>\n",
              "      <td>Supervised</td>\n",
              "      <td>90</td>\n",
              "    </tr>\n",
              "    <tr>\n",
              "      <th>1</th>\n",
              "      <td>Unsupervised</td>\n",
              "      <td>80</td>\n",
              "    </tr>\n",
              "    <tr>\n",
              "      <th>2</th>\n",
              "      <td>Reinforcement</td>\n",
              "      <td>70</td>\n",
              "    </tr>\n",
              "  </tbody>\n",
              "</table>\n",
              "</div>\n",
              "    <div class=\"colab-df-buttons\">\n",
              "\n",
              "  <div class=\"colab-df-container\">\n",
              "    <button class=\"colab-df-convert\" onclick=\"convertToInteractive('df-f10af29a-3613-424b-86a4-ba2e34452523')\"\n",
              "            title=\"Convert this dataframe to an interactive table.\"\n",
              "            style=\"display:none;\">\n",
              "\n",
              "  <svg xmlns=\"http://www.w3.org/2000/svg\" height=\"24px\" viewBox=\"0 -960 960 960\">\n",
              "    <path d=\"M120-120v-720h720v720H120Zm60-500h600v-160H180v160Zm220 220h160v-160H400v160Zm0 220h160v-160H400v160ZM180-400h160v-160H180v160Zm440 0h160v-160H620v160ZM180-180h160v-160H180v160Zm440 0h160v-160H620v160Z\"/>\n",
              "  </svg>\n",
              "    </button>\n",
              "\n",
              "  <style>\n",
              "    .colab-df-container {\n",
              "      display:flex;\n",
              "      gap: 12px;\n",
              "    }\n",
              "\n",
              "    .colab-df-convert {\n",
              "      background-color: #E8F0FE;\n",
              "      border: none;\n",
              "      border-radius: 50%;\n",
              "      cursor: pointer;\n",
              "      display: none;\n",
              "      fill: #1967D2;\n",
              "      height: 32px;\n",
              "      padding: 0 0 0 0;\n",
              "      width: 32px;\n",
              "    }\n",
              "\n",
              "    .colab-df-convert:hover {\n",
              "      background-color: #E2EBFA;\n",
              "      box-shadow: 0px 1px 2px rgba(60, 64, 67, 0.3), 0px 1px 3px 1px rgba(60, 64, 67, 0.15);\n",
              "      fill: #174EA6;\n",
              "    }\n",
              "\n",
              "    .colab-df-buttons div {\n",
              "      margin-bottom: 4px;\n",
              "    }\n",
              "\n",
              "    [theme=dark] .colab-df-convert {\n",
              "      background-color: #3B4455;\n",
              "      fill: #D2E3FC;\n",
              "    }\n",
              "\n",
              "    [theme=dark] .colab-df-convert:hover {\n",
              "      background-color: #434B5C;\n",
              "      box-shadow: 0px 1px 3px 1px rgba(0, 0, 0, 0.15);\n",
              "      filter: drop-shadow(0px 1px 2px rgba(0, 0, 0, 0.3));\n",
              "      fill: #FFFFFF;\n",
              "    }\n",
              "  </style>\n",
              "\n",
              "    <script>\n",
              "      const buttonEl =\n",
              "        document.querySelector('#df-f10af29a-3613-424b-86a4-ba2e34452523 button.colab-df-convert');\n",
              "      buttonEl.style.display =\n",
              "        google.colab.kernel.accessAllowed ? 'block' : 'none';\n",
              "\n",
              "      async function convertToInteractive(key) {\n",
              "        const element = document.querySelector('#df-f10af29a-3613-424b-86a4-ba2e34452523');\n",
              "        const dataTable =\n",
              "          await google.colab.kernel.invokeFunction('convertToInteractive',\n",
              "                                                    [key], {});\n",
              "        if (!dataTable) return;\n",
              "\n",
              "        const docLinkHtml = 'Like what you see? Visit the ' +\n",
              "          '<a target=\"_blank\" href=https://colab.research.google.com/notebooks/data_table.ipynb>data table notebook</a>'\n",
              "          + ' to learn more about interactive tables.';\n",
              "        element.innerHTML = '';\n",
              "        dataTable['output_type'] = 'display_data';\n",
              "        await google.colab.output.renderOutput(dataTable, element);\n",
              "        const docLink = document.createElement('div');\n",
              "        docLink.innerHTML = docLinkHtml;\n",
              "        element.appendChild(docLink);\n",
              "      }\n",
              "    </script>\n",
              "  </div>\n",
              "\n",
              "\n",
              "    <div id=\"df-9fd521fc-a5d0-4f77-ae87-8984b55652fe\">\n",
              "      <button class=\"colab-df-quickchart\" onclick=\"quickchart('df-9fd521fc-a5d0-4f77-ae87-8984b55652fe')\"\n",
              "                title=\"Suggest charts\"\n",
              "                style=\"display:none;\">\n",
              "\n",
              "<svg xmlns=\"http://www.w3.org/2000/svg\" height=\"24px\"viewBox=\"0 0 24 24\"\n",
              "     width=\"24px\">\n",
              "    <g>\n",
              "        <path d=\"M19 3H5c-1.1 0-2 .9-2 2v14c0 1.1.9 2 2 2h14c1.1 0 2-.9 2-2V5c0-1.1-.9-2-2-2zM9 17H7v-7h2v7zm4 0h-2V7h2v10zm4 0h-2v-4h2v4z\"/>\n",
              "    </g>\n",
              "</svg>\n",
              "      </button>\n",
              "\n",
              "<style>\n",
              "  .colab-df-quickchart {\n",
              "      --bg-color: #E8F0FE;\n",
              "      --fill-color: #1967D2;\n",
              "      --hover-bg-color: #E2EBFA;\n",
              "      --hover-fill-color: #174EA6;\n",
              "      --disabled-fill-color: #AAA;\n",
              "      --disabled-bg-color: #DDD;\n",
              "  }\n",
              "\n",
              "  [theme=dark] .colab-df-quickchart {\n",
              "      --bg-color: #3B4455;\n",
              "      --fill-color: #D2E3FC;\n",
              "      --hover-bg-color: #434B5C;\n",
              "      --hover-fill-color: #FFFFFF;\n",
              "      --disabled-bg-color: #3B4455;\n",
              "      --disabled-fill-color: #666;\n",
              "  }\n",
              "\n",
              "  .colab-df-quickchart {\n",
              "    background-color: var(--bg-color);\n",
              "    border: none;\n",
              "    border-radius: 50%;\n",
              "    cursor: pointer;\n",
              "    display: none;\n",
              "    fill: var(--fill-color);\n",
              "    height: 32px;\n",
              "    padding: 0;\n",
              "    width: 32px;\n",
              "  }\n",
              "\n",
              "  .colab-df-quickchart:hover {\n",
              "    background-color: var(--hover-bg-color);\n",
              "    box-shadow: 0 1px 2px rgba(60, 64, 67, 0.3), 0 1px 3px 1px rgba(60, 64, 67, 0.15);\n",
              "    fill: var(--button-hover-fill-color);\n",
              "  }\n",
              "\n",
              "  .colab-df-quickchart-complete:disabled,\n",
              "  .colab-df-quickchart-complete:disabled:hover {\n",
              "    background-color: var(--disabled-bg-color);\n",
              "    fill: var(--disabled-fill-color);\n",
              "    box-shadow: none;\n",
              "  }\n",
              "\n",
              "  .colab-df-spinner {\n",
              "    border: 2px solid var(--fill-color);\n",
              "    border-color: transparent;\n",
              "    border-bottom-color: var(--fill-color);\n",
              "    animation:\n",
              "      spin 1s steps(1) infinite;\n",
              "  }\n",
              "\n",
              "  @keyframes spin {\n",
              "    0% {\n",
              "      border-color: transparent;\n",
              "      border-bottom-color: var(--fill-color);\n",
              "      border-left-color: var(--fill-color);\n",
              "    }\n",
              "    20% {\n",
              "      border-color: transparent;\n",
              "      border-left-color: var(--fill-color);\n",
              "      border-top-color: var(--fill-color);\n",
              "    }\n",
              "    30% {\n",
              "      border-color: transparent;\n",
              "      border-left-color: var(--fill-color);\n",
              "      border-top-color: var(--fill-color);\n",
              "      border-right-color: var(--fill-color);\n",
              "    }\n",
              "    40% {\n",
              "      border-color: transparent;\n",
              "      border-right-color: var(--fill-color);\n",
              "      border-top-color: var(--fill-color);\n",
              "    }\n",
              "    60% {\n",
              "      border-color: transparent;\n",
              "      border-right-color: var(--fill-color);\n",
              "    }\n",
              "    80% {\n",
              "      border-color: transparent;\n",
              "      border-right-color: var(--fill-color);\n",
              "      border-bottom-color: var(--fill-color);\n",
              "    }\n",
              "    90% {\n",
              "      border-color: transparent;\n",
              "      border-bottom-color: var(--fill-color);\n",
              "    }\n",
              "  }\n",
              "</style>\n",
              "\n",
              "      <script>\n",
              "        async function quickchart(key) {\n",
              "          const quickchartButtonEl =\n",
              "            document.querySelector('#' + key + ' button');\n",
              "          quickchartButtonEl.disabled = true;  // To prevent multiple clicks.\n",
              "          quickchartButtonEl.classList.add('colab-df-spinner');\n",
              "          try {\n",
              "            const charts = await google.colab.kernel.invokeFunction(\n",
              "                'suggestCharts', [key], {});\n",
              "          } catch (error) {\n",
              "            console.error('Error during call to suggestCharts:', error);\n",
              "          }\n",
              "          quickchartButtonEl.classList.remove('colab-df-spinner');\n",
              "          quickchartButtonEl.classList.add('colab-df-quickchart-complete');\n",
              "        }\n",
              "        (() => {\n",
              "          let quickchartButtonEl =\n",
              "            document.querySelector('#df-9fd521fc-a5d0-4f77-ae87-8984b55652fe button');\n",
              "          quickchartButtonEl.style.display =\n",
              "            google.colab.kernel.accessAllowed ? 'block' : 'none';\n",
              "        })();\n",
              "      </script>\n",
              "    </div>\n",
              "\n",
              "  <div id=\"id_73fec70b-9ab8-4135-b366-52a897c283b6\">\n",
              "    <style>\n",
              "      .colab-df-generate {\n",
              "        background-color: #E8F0FE;\n",
              "        border: none;\n",
              "        border-radius: 50%;\n",
              "        cursor: pointer;\n",
              "        display: none;\n",
              "        fill: #1967D2;\n",
              "        height: 32px;\n",
              "        padding: 0 0 0 0;\n",
              "        width: 32px;\n",
              "      }\n",
              "\n",
              "      .colab-df-generate:hover {\n",
              "        background-color: #E2EBFA;\n",
              "        box-shadow: 0px 1px 2px rgba(60, 64, 67, 0.3), 0px 1px 3px 1px rgba(60, 64, 67, 0.15);\n",
              "        fill: #174EA6;\n",
              "      }\n",
              "\n",
              "      [theme=dark] .colab-df-generate {\n",
              "        background-color: #3B4455;\n",
              "        fill: #D2E3FC;\n",
              "      }\n",
              "\n",
              "      [theme=dark] .colab-df-generate:hover {\n",
              "        background-color: #434B5C;\n",
              "        box-shadow: 0px 1px 3px 1px rgba(0, 0, 0, 0.15);\n",
              "        filter: drop-shadow(0px 1px 2px rgba(0, 0, 0, 0.3));\n",
              "        fill: #FFFFFF;\n",
              "      }\n",
              "    </style>\n",
              "    <button class=\"colab-df-generate\" onclick=\"generateWithVariable('ml')\"\n",
              "            title=\"Generate code using this dataframe.\"\n",
              "            style=\"display:none;\">\n",
              "\n",
              "  <svg xmlns=\"http://www.w3.org/2000/svg\" height=\"24px\"viewBox=\"0 0 24 24\"\n",
              "       width=\"24px\">\n",
              "    <path d=\"M7,19H8.4L18.45,9,17,7.55,7,17.6ZM5,21V16.75L18.45,3.32a2,2,0,0,1,2.83,0l1.4,1.43a1.91,1.91,0,0,1,.58,1.4,1.91,1.91,0,0,1-.58,1.4L9.25,21ZM18.45,9,17,7.55Zm-12,3A5.31,5.31,0,0,0,4.9,8.1,5.31,5.31,0,0,0,1,6.5,5.31,5.31,0,0,0,4.9,4.9,5.31,5.31,0,0,0,6.5,1,5.31,5.31,0,0,0,8.1,4.9,5.31,5.31,0,0,0,12,6.5,5.46,5.46,0,0,0,6.5,12Z\"/>\n",
              "  </svg>\n",
              "    </button>\n",
              "    <script>\n",
              "      (() => {\n",
              "      const buttonEl =\n",
              "        document.querySelector('#id_73fec70b-9ab8-4135-b366-52a897c283b6 button.colab-df-generate');\n",
              "      buttonEl.style.display =\n",
              "        google.colab.kernel.accessAllowed ? 'block' : 'none';\n",
              "\n",
              "      buttonEl.onclick = () => {\n",
              "        google.colab.notebook.generateWithVariable('ml');\n",
              "      }\n",
              "      })();\n",
              "    </script>\n",
              "  </div>\n",
              "\n",
              "    </div>\n",
              "  </div>\n"
            ],
            "application/vnd.google.colaboratory.intrinsic+json": {
              "type": "dataframe",
              "variable_name": "ml",
              "summary": "{\n  \"name\": \"ml\",\n  \"rows\": 3,\n  \"fields\": [\n    {\n      \"column\": \"Machine Learning\",\n      \"properties\": {\n        \"dtype\": \"string\",\n        \"num_unique_values\": 3,\n        \"samples\": [\n          \"Supervised\",\n          \"Unsupervised\",\n          \"Reinforcement\"\n        ],\n        \"semantic_type\": \"\",\n        \"description\": \"\"\n      }\n    },\n    {\n      \"column\": \"Score\",\n      \"properties\": {\n        \"dtype\": \"number\",\n        \"std\": 10,\n        \"min\": 70,\n        \"max\": 90,\n        \"num_unique_values\": 3,\n        \"samples\": [\n          90,\n          80,\n          70\n        ],\n        \"semantic_type\": \"\",\n        \"description\": \"\"\n      }\n    }\n  ]\n}"
            }
          },
          "metadata": {},
          "execution_count": 98
        }
      ]
    },
    {
      "cell_type": "markdown",
      "source": [
        "## **Set**\n",
        "- Set is defined by unique elements which means defining the same numbers multiple times will only return the unique numbers and will not show the repetitive numbers.\n",
        "- The wiggly brackets ({}) can be used to generate a set as follows. As displayed, the generated output only has 100,200,300 since each number was repeated twice\n"
      ],
      "metadata": {
        "id": "8TKRR1E1xrKy"
      }
    },
    {
      "cell_type": "code",
      "source": [
        "set1 = {100, 200, 300, 100 , 200, 300}\n",
        "set1"
      ],
      "metadata": {
        "colab": {
          "base_uri": "https://localhost:8080/"
        },
        "id": "zsI6Qcz3x6fW",
        "outputId": "1644d2a2-59c4-4d2d-9867-89b6f281fe41"
      },
      "execution_count": 100,
      "outputs": [
        {
          "output_type": "execute_result",
          "data": {
            "text/plain": [
              "{100, 200, 300}"
            ]
          },
          "metadata": {},
          "execution_count": 100
        }
      ]
    }
  ],
  "metadata": {
    "accelerator": "GPU",
    "colab": {
      "gpuType": "T4",
      "provenance": [],
      "authorship_tag": "ABX9TyNsQV0Z/MFzkg/znpXskhej"
    },
    "kernelspec": {
      "display_name": "Python 3",
      "name": "python3"
    },
    "language_info": {
      "name": "python"
    }
  },
  "nbformat": 4,
  "nbformat_minor": 0
}