{
  "nbformat": 4,
  "nbformat_minor": 0,
  "metadata": {
    "colab": {
      "provenance": [],
      "authorship_tag": "ABX9TyOOTiG0bX2u6jhPrJ33aE2O"
    },
    "kernelspec": {
      "name": "python3",
      "display_name": "Python 3"
    },
    "language_info": {
      "name": "python"
    }
  },
  "cells": [
    {
      "cell_type": "markdown",
      "source": [
        "# **Python Data Types**"
      ],
      "metadata": {
        "id": "gUz-LP_g5D_4"
      }
    },
    {
      "cell_type": "markdown",
      "source": [
        "## **Immutable Data Types**\n",
        "- Immutable Objects are of in-built datatypes like int, float, bool, string, Unicode, and tuple.\n",
        "- In simple words, an immutable object can’t be changed after it is created."
      ],
      "metadata": {
        "id": "IV05dSOy5JT0"
      }
    },
    {
      "cell_type": "code",
      "execution_count": 1,
      "metadata": {
        "id": "b4C6SuwK40Pe",
        "colab": {
          "base_uri": "https://localhost:8080/"
        },
        "outputId": "b656dbaa-bbbe-4051-e804-3ad297fc0960"
      },
      "outputs": [
        {
          "output_type": "stream",
          "name": "stdout",
          "text": [
            "(1, 2, 3, 4)\n"
          ]
        }
      ],
      "source": [
        "# Tuple is immutable\n",
        "tuple1 = (1,2,3,4)\n",
        "print(tuple1)"
      ]
    },
    {
      "cell_type": "code",
      "source": [
        "print(type(tuple1))"
      ],
      "metadata": {
        "colab": {
          "base_uri": "https://localhost:8080/"
        },
        "id": "Un0cXLev5DP1",
        "outputId": "954a0051-99e3-4c60-8f5d-414cfd305653"
      },
      "execution_count": 2,
      "outputs": [
        {
          "output_type": "stream",
          "name": "stdout",
          "text": [
            "<class 'tuple'>\n"
          ]
        }
      ]
    },
    {
      "cell_type": "code",
      "source": [
        "tuple1[3] = 4\n",
        "print(tuple1)"
      ],
      "metadata": {
        "colab": {
          "base_uri": "https://localhost:8080/",
          "height": 158
        },
        "id": "cWwxy9Qo5DOF",
        "outputId": "35433659-3643-4760-dbe1-acf1e61c3ccd"
      },
      "execution_count": 3,
      "outputs": [
        {
          "output_type": "error",
          "ename": "TypeError",
          "evalue": "'tuple' object does not support item assignment",
          "traceback": [
            "\u001b[0;31m---------------------------------------------------------------------------\u001b[0m",
            "\u001b[0;31mTypeError\u001b[0m                                 Traceback (most recent call last)",
            "\u001b[0;32m/tmp/ipython-input-4016702147.py\u001b[0m in \u001b[0;36m<cell line: 0>\u001b[0;34m()\u001b[0m\n\u001b[0;32m----> 1\u001b[0;31m \u001b[0mtuple1\u001b[0m\u001b[0;34m[\u001b[0m\u001b[0;36m3\u001b[0m\u001b[0;34m]\u001b[0m \u001b[0;34m=\u001b[0m \u001b[0;36m4\u001b[0m\u001b[0;34m\u001b[0m\u001b[0;34m\u001b[0m\u001b[0m\n\u001b[0m\u001b[1;32m      2\u001b[0m \u001b[0mprint\u001b[0m\u001b[0;34m(\u001b[0m\u001b[0mtuple1\u001b[0m\u001b[0;34m)\u001b[0m\u001b[0;34m\u001b[0m\u001b[0;34m\u001b[0m\u001b[0m\n",
            "\u001b[0;31mTypeError\u001b[0m: 'tuple' object does not support item assignment"
          ]
        }
      ]
    },
    {
      "cell_type": "code",
      "source": [
        "# String is immutable\n",
        "string1 = 'I AM IMMUTABLE'\n",
        "print(type(string1))\n",
        "print(string1[0])\n",
        "string1[0] = 'U'"
      ],
      "metadata": {
        "colab": {
          "base_uri": "https://localhost:8080/",
          "height": 211
        },
        "id": "M1udqIwh5DMT",
        "outputId": "5ffca2a4-6d51-44f4-ded0-625106089c8a"
      },
      "execution_count": 4,
      "outputs": [
        {
          "output_type": "stream",
          "name": "stdout",
          "text": [
            "<class 'str'>\n",
            "I\n"
          ]
        },
        {
          "output_type": "error",
          "ename": "TypeError",
          "evalue": "'str' object does not support item assignment",
          "traceback": [
            "\u001b[0;31m---------------------------------------------------------------------------\u001b[0m",
            "\u001b[0;31mTypeError\u001b[0m                                 Traceback (most recent call last)",
            "\u001b[0;32m/tmp/ipython-input-3479344824.py\u001b[0m in \u001b[0;36m<cell line: 0>\u001b[0;34m()\u001b[0m\n\u001b[1;32m      3\u001b[0m \u001b[0mprint\u001b[0m\u001b[0;34m(\u001b[0m\u001b[0mtype\u001b[0m\u001b[0;34m(\u001b[0m\u001b[0mstring1\u001b[0m\u001b[0;34m)\u001b[0m\u001b[0;34m)\u001b[0m\u001b[0;34m\u001b[0m\u001b[0;34m\u001b[0m\u001b[0m\n\u001b[1;32m      4\u001b[0m \u001b[0mprint\u001b[0m\u001b[0;34m(\u001b[0m\u001b[0mstring1\u001b[0m\u001b[0;34m[\u001b[0m\u001b[0;36m0\u001b[0m\u001b[0;34m]\u001b[0m\u001b[0;34m)\u001b[0m\u001b[0;34m\u001b[0m\u001b[0;34m\u001b[0m\u001b[0m\n\u001b[0;32m----> 5\u001b[0;31m \u001b[0mstring1\u001b[0m\u001b[0;34m[\u001b[0m\u001b[0;36m0\u001b[0m\u001b[0;34m]\u001b[0m \u001b[0;34m=\u001b[0m \u001b[0;34m'U'\u001b[0m\u001b[0;34m\u001b[0m\u001b[0;34m\u001b[0m\u001b[0m\n\u001b[0m",
            "\u001b[0;31mTypeError\u001b[0m: 'str' object does not support item assignment"
          ]
        }
      ]
    },
    {
      "cell_type": "markdown",
      "source": [],
      "metadata": {
        "id": "u0BjnIdS6v3V"
      }
    },
    {
      "cell_type": "code",
      "source": [
        "# Python stores identical strings in the same memory (interning), but not all immutables get this optimization.\n",
        "var1 = 'abc'\n",
        "var2 = 'abc'\n",
        "var3 = 'abc'\n",
        "var4 = 'abc'\n",
        "var5 = 'abc'\n",
        "var6 = 'abc'\n",
        "var7 = 'abc'\n",
        "print(id(var1))\n",
        "print(id(var2))\n",
        "print(id(var3))\n",
        "print(id(var4))\n",
        "print(id(var5))\n",
        "print(id(var6))\n",
        "print(id(var7))"
      ],
      "metadata": {
        "colab": {
          "base_uri": "https://localhost:8080/"
        },
        "id": "HHOIZN3G5DGP",
        "outputId": "ef7baf06-b489-4492-911c-06244d36e267"
      },
      "execution_count": 5,
      "outputs": [
        {
          "output_type": "stream",
          "name": "stdout",
          "text": [
            "10785632\n",
            "10785632\n",
            "10785632\n",
            "10785632\n",
            "10785632\n",
            "10785632\n",
            "10785632\n"
          ]
        }
      ]
    },
    {
      "cell_type": "markdown",
      "source": [
        "### **Non-Transitivity**\n",
        "- Tuples are immutable, but if they contain mutable objects (like lists), those can still be changed—this is called non-transitive immutability"
      ],
      "metadata": {
        "id": "tgvHD_G17cs7"
      }
    },
    {
      "cell_type": "code",
      "source": [
        "# Tuple with a list inside\n",
        "t = (1, 2, [3, 4])\n",
        "\n",
        "print(\"Before:\", t)\n",
        "\n",
        "# Trying to modify tuple directly -> Error\n",
        "# t[0] = 10   # TypeError\n",
        "\n",
        "# But modifying the list inside works\n",
        "t[2][1] = 5\n",
        "\n",
        "print(\"After:\", t)"
      ],
      "metadata": {
        "colab": {
          "base_uri": "https://localhost:8080/"
        },
        "id": "3oHj_NmM7rEf",
        "outputId": "cb7d1dbe-53d3-4902-b5c6-a5e046a172fe"
      },
      "execution_count": 9,
      "outputs": [
        {
          "output_type": "stream",
          "name": "stdout",
          "text": [
            "Before: (1, 2, [3, 4])\n",
            "After: (1, 2, [3, 5])\n"
          ]
        }
      ]
    }
  ]
}