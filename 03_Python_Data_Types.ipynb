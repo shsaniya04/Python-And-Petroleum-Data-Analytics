{
  "nbformat": 4,
  "nbformat_minor": 0,
  "metadata": {
    "colab": {
      "provenance": [],
      "gpuType": "T4",
      "authorship_tag": "ABX9TyPwZP0LApfUXiR073/6V7xF"
    },
    "kernelspec": {
      "name": "python3",
      "display_name": "Python 3"
    },
    "language_info": {
      "name": "python"
    },
    "accelerator": "GPU"
  },
  "cells": [
    {
      "cell_type": "markdown",
      "source": [
        "# **Python Data Types**"
      ],
      "metadata": {
        "id": "gUz-LP_g5D_4"
      }
    },
    {
      "cell_type": "markdown",
      "source": [
        "## **Immutable Data Types**\n",
        "- Immutable Objects are of in-built datatypes like int, float, bool, string, Unicode, and tuple.\n",
        "- In simple words, an immutable object can’t be changed after it is created."
      ],
      "metadata": {
        "id": "IV05dSOy5JT0"
      }
    },
    {
      "cell_type": "markdown",
      "source": [
        "### **Tuple**\n",
        "- A tuple in Python is an immutable ordered collection of elements.\n",
        "- A tuple is a collection similar to a Python list\n",
        "- The primary difference is that we can not modify a tuple once it is created.\n",
        "- Tuples can hold elements of different data types.\n",
        "- The main characteristics of tuples are being ordered, heterogeneous and immutable.\n"
      ],
      "metadata": {
        "id": "b1TkEfe_3gk1"
      }
    },
    {
      "cell_type": "code",
      "source": [
        "empty_tuple = ()\n",
        "print(\"Output of empty tuple: \",empty_tuple)"
      ],
      "metadata": {
        "colab": {
          "base_uri": "https://localhost:8080/"
        },
        "id": "jhQ0WXCG3Ic7",
        "outputId": "cb356b11-573e-4120-ec23-e44309f37fbd"
      },
      "execution_count": 1,
      "outputs": [
        {
          "output_type": "stream",
          "name": "stdout",
          "text": [
            "Output of empty tuple:  ()\n"
          ]
        }
      ]
    },
    {
      "cell_type": "code",
      "source": [
        "tuple1 = ()\n",
        "print(tuple1)\n",
        "print(type(tuple1))"
      ],
      "metadata": {
        "colab": {
          "base_uri": "https://localhost:8080/"
        },
        "id": "Vw_PNUes3IZC",
        "outputId": "5d0d01df-8e21-4159-e448-f3b0c45da7bc"
      },
      "execution_count": 2,
      "outputs": [
        {
          "output_type": "stream",
          "name": "stdout",
          "text": [
            "()\n",
            "<class 'tuple'>\n"
          ]
        }
      ]
    },
    {
      "cell_type": "code",
      "source": [
        "# Creating a tuple using Tuple Constructor\n",
        "tuple1 = tuple((1, 'Data', True, 2, 'Analytics', False))\n",
        "print(\"Output of tuple using tuple constructor: \",tuple1)"
      ],
      "metadata": {
        "colab": {
          "base_uri": "https://localhost:8080/"
        },
        "id": "RMS6RTXs3IUL",
        "outputId": "6365c8a7-cf8d-4425-fdbe-49fd6a41d690"
      },
      "execution_count": 3,
      "outputs": [
        {
          "output_type": "stream",
          "name": "stdout",
          "text": [
            "Output of tuple using tuple constructor:  (1, 'Data', True, 2, 'Analytics', False)\n"
          ]
        }
      ]
    },
    {
      "cell_type": "code",
      "source": [
        "# Accessing of Tuple\n",
        "print(tuple1[0])\n",
        "print(tuple1[-1])\n",
        "print(tuple1[-2])\n",
        "print(tuple1[0:])\n",
        "print(tuple1[::])\n",
        "print(tuple1[1:3])\n",
        "print(tuple1[0:-1])"
      ],
      "metadata": {
        "colab": {
          "base_uri": "https://localhost:8080/"
        },
        "id": "lFzpGyO24iqL",
        "outputId": "d4e0beb7-32c7-46d1-851e-488f53dff751"
      },
      "execution_count": 4,
      "outputs": [
        {
          "output_type": "stream",
          "name": "stdout",
          "text": [
            "1\n",
            "False\n",
            "Analytics\n",
            "(1, 'Data', True, 2, 'Analytics', False)\n",
            "(1, 'Data', True, 2, 'Analytics', False)\n",
            "('Data', True)\n",
            "(1, 'Data', True, 2, 'Analytics')\n"
          ]
        }
      ]
    },
    {
      "cell_type": "code",
      "execution_count": 5,
      "metadata": {
        "id": "b4C6SuwK40Pe",
        "colab": {
          "base_uri": "https://localhost:8080/"
        },
        "outputId": "b6990093-d3e7-49a0-ad6e-4541b6bea4d7"
      },
      "outputs": [
        {
          "output_type": "stream",
          "name": "stdout",
          "text": [
            "(1, 2, 3, 4)\n"
          ]
        }
      ],
      "source": [
        "# Tuple is immutable\n",
        "tuple1 = (1,2,3,4)\n",
        "print(tuple1)"
      ]
    },
    {
      "cell_type": "code",
      "source": [
        "# Concatenation of Tuple\n",
        "tuple2 = (561,258,355)\n",
        "tuple3 = tuple1 + tuple2\n",
        "print(tuple3)"
      ],
      "metadata": {
        "colab": {
          "base_uri": "https://localhost:8080/"
        },
        "id": "kxH8VP7H6EkK",
        "outputId": "62bb695e-9d7d-4bf4-fff3-4b7c9db0d21f"
      },
      "execution_count": 6,
      "outputs": [
        {
          "output_type": "stream",
          "name": "stdout",
          "text": [
            "(1, 2, 3, 4, 561, 258, 355)\n"
          ]
        }
      ]
    },
    {
      "cell_type": "code",
      "source": [
        "# Length / Size of Tuple\n",
        "len(tuple1)"
      ],
      "metadata": {
        "colab": {
          "base_uri": "https://localhost:8080/"
        },
        "id": "PmCJt54K6nuF",
        "outputId": "6d12d74f-0db6-4b84-e5b5-c064d6930afe"
      },
      "execution_count": 7,
      "outputs": [
        {
          "output_type": "execute_result",
          "data": {
            "text/plain": [
              "4"
            ]
          },
          "metadata": {},
          "execution_count": 7
        }
      ]
    },
    {
      "cell_type": "code",
      "source": [
        "del tuple3\n",
        "print(tuple3)"
      ],
      "metadata": {
        "colab": {
          "base_uri": "https://localhost:8080/",
          "height": 159
        },
        "id": "FfRFUic96Ec6",
        "outputId": "b2054f7c-8e22-4d5f-c154-280c2b396352"
      },
      "execution_count": 14,
      "outputs": [
        {
          "output_type": "error",
          "ename": "NameError",
          "evalue": "name 'tuple3' is not defined",
          "traceback": [
            "\u001b[0;31m---------------------------------------------------------------------------\u001b[0m",
            "\u001b[0;31mNameError\u001b[0m                                 Traceback (most recent call last)",
            "\u001b[0;32m/tmp/ipython-input-1189629552.py\u001b[0m in \u001b[0;36m<cell line: 0>\u001b[0;34m()\u001b[0m\n\u001b[1;32m      1\u001b[0m \u001b[0;32mdel\u001b[0m \u001b[0mtuple3\u001b[0m\u001b[0;34m\u001b[0m\u001b[0;34m\u001b[0m\u001b[0m\n\u001b[0;32m----> 2\u001b[0;31m \u001b[0mprint\u001b[0m\u001b[0;34m(\u001b[0m\u001b[0mtuple3\u001b[0m\u001b[0;34m)\u001b[0m\u001b[0;34m\u001b[0m\u001b[0;34m\u001b[0m\u001b[0m\n\u001b[0m",
            "\u001b[0;31mNameError\u001b[0m: name 'tuple3' is not defined"
          ]
        }
      ]
    },
    {
      "cell_type": "code",
      "source": [
        "print(type(tuple1))"
      ],
      "metadata": {
        "colab": {
          "base_uri": "https://localhost:8080/"
        },
        "id": "Un0cXLev5DP1",
        "outputId": "83efcb55-ef35-4bbe-f533-b0fefd56d67e"
      },
      "execution_count": 15,
      "outputs": [
        {
          "output_type": "stream",
          "name": "stdout",
          "text": [
            "<class 'tuple'>\n"
          ]
        }
      ]
    },
    {
      "cell_type": "code",
      "source": [
        "tuple1[3] = 4\n",
        "print(tuple1)"
      ],
      "metadata": {
        "colab": {
          "base_uri": "https://localhost:8080/",
          "height": 159
        },
        "id": "cWwxy9Qo5DOF",
        "outputId": "842cd810-3bfd-49f0-96af-d01adc0a1982"
      },
      "execution_count": 16,
      "outputs": [
        {
          "output_type": "error",
          "ename": "TypeError",
          "evalue": "'tuple' object does not support item assignment",
          "traceback": [
            "\u001b[0;31m---------------------------------------------------------------------------\u001b[0m",
            "\u001b[0;31mTypeError\u001b[0m                                 Traceback (most recent call last)",
            "\u001b[0;32m/tmp/ipython-input-4016702147.py\u001b[0m in \u001b[0;36m<cell line: 0>\u001b[0;34m()\u001b[0m\n\u001b[0;32m----> 1\u001b[0;31m \u001b[0mtuple1\u001b[0m\u001b[0;34m[\u001b[0m\u001b[0;36m3\u001b[0m\u001b[0;34m]\u001b[0m \u001b[0;34m=\u001b[0m \u001b[0;36m4\u001b[0m\u001b[0;34m\u001b[0m\u001b[0;34m\u001b[0m\u001b[0m\n\u001b[0m\u001b[1;32m      2\u001b[0m \u001b[0mprint\u001b[0m\u001b[0;34m(\u001b[0m\u001b[0mtuple1\u001b[0m\u001b[0;34m)\u001b[0m\u001b[0;34m\u001b[0m\u001b[0;34m\u001b[0m\u001b[0m\n",
            "\u001b[0;31mTypeError\u001b[0m: 'tuple' object does not support item assignment"
          ]
        }
      ]
    },
    {
      "cell_type": "code",
      "metadata": {
        "colab": {
          "base_uri": "https://localhost:8080/"
        },
        "id": "eff8bfc5",
        "outputId": "e6b9364c-df6f-496e-a393-2fc9b94d1f08"
      },
      "source": [
        "# Remove empty tuples from the list - using LIST COMPREHENSION\n",
        "tuple3 = [(1, 2), (), (3, 4), (), (5,6)]\n",
        "filtered_tuple3 = [t for t in tuple3 if t]\n",
        "print(filtered_tuple3)"
      ],
      "execution_count": 17,
      "outputs": [
        {
          "output_type": "stream",
          "name": "stdout",
          "text": [
            "[(1, 2), (3, 4), (5, 6)]\n"
          ]
        }
      ]
    },
    {
      "cell_type": "code",
      "source": [
        "# Remove empty tuples from the list - using filter()\n",
        "tuple3 = [(1, 2), (), (3, 4), (), (5,6)]\n",
        "filtered_tuple3 = list(filter(None, tuple3))\n",
        "print(filtered_tuple3)"
      ],
      "metadata": {
        "colab": {
          "base_uri": "https://localhost:8080/"
        },
        "id": "EAPMHUmh73DM",
        "outputId": "a71b4ed8-e97f-4c1a-a348-f2aca68e5d82"
      },
      "execution_count": 18,
      "outputs": [
        {
          "output_type": "stream",
          "name": "stdout",
          "text": [
            "[(1, 2), (3, 4), (5, 6)]\n"
          ]
        }
      ]
    },
    {
      "cell_type": "code",
      "source": [
        "# String is immutable\n",
        "string1 = 'I AM IMMUTABLE'\n",
        "print(type(string1))\n",
        "print(string1[0])\n",
        "string1[0] = 'U'"
      ],
      "metadata": {
        "id": "M1udqIwh5DMT",
        "colab": {
          "base_uri": "https://localhost:8080/",
          "height": 211
        },
        "outputId": "b496e2b4-9264-40f6-f274-4d299f4f430e"
      },
      "execution_count": 19,
      "outputs": [
        {
          "output_type": "stream",
          "name": "stdout",
          "text": [
            "<class 'str'>\n",
            "I\n"
          ]
        },
        {
          "output_type": "error",
          "ename": "TypeError",
          "evalue": "'str' object does not support item assignment",
          "traceback": [
            "\u001b[0;31m---------------------------------------------------------------------------\u001b[0m",
            "\u001b[0;31mTypeError\u001b[0m                                 Traceback (most recent call last)",
            "\u001b[0;32m/tmp/ipython-input-3479344824.py\u001b[0m in \u001b[0;36m<cell line: 0>\u001b[0;34m()\u001b[0m\n\u001b[1;32m      3\u001b[0m \u001b[0mprint\u001b[0m\u001b[0;34m(\u001b[0m\u001b[0mtype\u001b[0m\u001b[0;34m(\u001b[0m\u001b[0mstring1\u001b[0m\u001b[0;34m)\u001b[0m\u001b[0;34m)\u001b[0m\u001b[0;34m\u001b[0m\u001b[0;34m\u001b[0m\u001b[0m\n\u001b[1;32m      4\u001b[0m \u001b[0mprint\u001b[0m\u001b[0;34m(\u001b[0m\u001b[0mstring1\u001b[0m\u001b[0;34m[\u001b[0m\u001b[0;36m0\u001b[0m\u001b[0;34m]\u001b[0m\u001b[0;34m)\u001b[0m\u001b[0;34m\u001b[0m\u001b[0;34m\u001b[0m\u001b[0m\n\u001b[0;32m----> 5\u001b[0;31m \u001b[0mstring1\u001b[0m\u001b[0;34m[\u001b[0m\u001b[0;36m0\u001b[0m\u001b[0;34m]\u001b[0m \u001b[0;34m=\u001b[0m \u001b[0;34m'U'\u001b[0m\u001b[0;34m\u001b[0m\u001b[0;34m\u001b[0m\u001b[0m\n\u001b[0m",
            "\u001b[0;31mTypeError\u001b[0m: 'str' object does not support item assignment"
          ]
        }
      ]
    },
    {
      "cell_type": "code",
      "source": [
        "# Python stores identical strings in the same memory (interning), but not all immutables get this optimization.\n",
        "var1 = 'abc'\n",
        "var2 = 'abc'\n",
        "var3 = 'abc'\n",
        "var4 = 'abc'\n",
        "var5 = 'abc'\n",
        "var6 = 'abc'\n",
        "var7 = 'abc'\n",
        "print(id(var1))\n",
        "print(id(var2))\n",
        "print(id(var3))\n",
        "print(id(var4))\n",
        "print(id(var5))\n",
        "print(id(var6))\n",
        "print(id(var7))"
      ],
      "metadata": {
        "id": "HHOIZN3G5DGP",
        "colab": {
          "base_uri": "https://localhost:8080/"
        },
        "outputId": "1481fcd1-881e-4ceb-cfe2-9bf35aaf8a36"
      },
      "execution_count": 20,
      "outputs": [
        {
          "output_type": "stream",
          "name": "stdout",
          "text": [
            "10785632\n",
            "10785632\n",
            "10785632\n",
            "10785632\n",
            "10785632\n",
            "10785632\n",
            "10785632\n"
          ]
        }
      ]
    },
    {
      "cell_type": "markdown",
      "source": [
        "### **Non-Transitivity**\n",
        "- Tuples are immutable, but if they contain mutable objects (like lists), those can still be changed—this is called non-transitive immutability"
      ],
      "metadata": {
        "id": "tgvHD_G17cs7"
      }
    },
    {
      "cell_type": "code",
      "source": [
        "# Tuple with a list inside\n",
        "t = (1, 2, [3, 4])\n",
        "\n",
        "print(\"Before:\", t)\n",
        "\n",
        "# Trying to modify tuple directly -> Error\n",
        "# t[0] = 10   # TypeError\n",
        "\n",
        "# But modifying the list inside works\n",
        "t[2][1] = 5\n",
        "\n",
        "print(\"After:\", t)"
      ],
      "metadata": {
        "id": "3oHj_NmM7rEf",
        "colab": {
          "base_uri": "https://localhost:8080/"
        },
        "outputId": "7d4efdd8-5d3d-4569-a7f1-729b9d1a6246"
      },
      "execution_count": 21,
      "outputs": [
        {
          "output_type": "stream",
          "name": "stdout",
          "text": [
            "Before: (1, 2, [3, 4])\n",
            "After: (1, 2, [3, 5])\n"
          ]
        }
      ]
    },
    {
      "cell_type": "markdown",
      "source": [
        "## **Numeric Data Type**\n",
        "- The numeric data type in Python represents the data that has a numeric value.\n",
        "- A numeric value can be an integer, a floating number, or even a complex number.\n",
        "- These values are defined as Python int, Python float, and Python complex classes in Python.\n",
        "- **Integers** – This value is represented by int class. It contains positive or negative whole numbers (without fractions or decimals).\n",
        "In Python, there is no limit to how long an integer value can be.\n",
        "\n",
        "- **Float** – This value is represented by the float class. It is a real number with a floating-point representation. It is specified by a decimal point.\n",
        "- **Complex Numbers** – Complex number is represented by a complex class. It is specified as (real part) + (imaginary part)j. For example:  3+4j\n",
        "- **Note** – type() function is used to determine the type of data type.\n"
      ],
      "metadata": {
        "id": "enWt-p6S841I"
      }
    },
    {
      "cell_type": "code",
      "source": [
        "a = 362739\n",
        "print(type(a))\n",
        "b = 2523.334\n",
        "print(type(b))\n",
        "c = 2 + 3j\n",
        "print(type(c))"
      ],
      "metadata": {
        "colab": {
          "base_uri": "https://localhost:8080/"
        },
        "id": "1OgdnL0o9VqP",
        "outputId": "4f40179a-d024-4428-b348-8c5f2ae4659b"
      },
      "execution_count": 22,
      "outputs": [
        {
          "output_type": "stream",
          "name": "stdout",
          "text": [
            "<class 'int'>\n",
            "<class 'float'>\n",
            "<class 'complex'>\n"
          ]
        }
      ]
    },
    {
      "cell_type": "markdown",
      "source": [
        "## **Sequence Data Types**\n",
        "- String\n",
        "- List\n",
        "- Tuple"
      ],
      "metadata": {
        "id": "flZYxlXj9yiC"
      }
    },
    {
      "cell_type": "markdown",
      "source": [
        "### **String**\n",
        "- manipulate strings then we can use methods like concatenation, slicing, or formatting to create new strings based on the original"
      ],
      "metadata": {
        "id": "KZ5wLAH0ArG1"
      }
    },
    {
      "cell_type": "code",
      "source": [
        "string2 = 'Petroleum Data Analytics'\n",
        "print(string2[0])\n",
        "print(string2[1])\n",
        "print(string2[2])\n",
        "print(string2[3])\n",
        "print(string2[4])\n",
        "print(string2[5])\n",
        "print(string2[6])\n",
        "print(string2[7])\n",
        "print(string2[8])\n",
        "print(string2[9])\n",
        "print(string2[10])\n",
        "print(string2[11])\n",
        "print(string2[12])\n",
        "print(string2[13])\n",
        "print(string2[14])\n",
        "print(string2[15])\n",
        "print(string2[16])\n",
        "print(string2[17])\n",
        "print(string2[18])\n",
        "print(string2[19])\n",
        "print(string2[20])\n",
        "print(string2[21])\n",
        "print(string2[22])\n",
        "print(string2[23])"
      ],
      "metadata": {
        "colab": {
          "base_uri": "https://localhost:8080/"
        },
        "id": "EuyqfEWe9uyQ",
        "outputId": "d03286b6-5030-4383-d6a4-db79dde1e2a7"
      },
      "execution_count": 23,
      "outputs": [
        {
          "output_type": "stream",
          "name": "stdout",
          "text": [
            "P\n",
            "e\n",
            "t\n",
            "r\n",
            "o\n",
            "l\n",
            "e\n",
            "u\n",
            "m\n",
            " \n",
            "D\n",
            "a\n",
            "t\n",
            "a\n",
            " \n",
            "A\n",
            "n\n",
            "a\n",
            "l\n",
            "y\n",
            "t\n",
            "i\n",
            "c\n",
            "s\n"
          ]
        }
      ]
    },
    {
      "cell_type": "code",
      "source": [
        "# Multi Line String\n",
        "string3 = \"\"\"\n",
        "I am Multi Line String\n",
        "I am Multi Line String\n",
        "I am Multi Line String\n",
        "I am Multi Line String\n",
        "\"\"\"\n",
        "print(string3)"
      ],
      "metadata": {
        "colab": {
          "base_uri": "https://localhost:8080/"
        },
        "id": "lHhpd_wu9u1w",
        "outputId": "1c0c6523-f650-4106-ffd2-73c3c135bb88"
      },
      "execution_count": 24,
      "outputs": [
        {
          "output_type": "stream",
          "name": "stdout",
          "text": [
            "\n",
            "I am Multi Line String\n",
            "I am Multi Line String\n",
            "I am Multi Line String\n",
            "I am Multi Line String\n",
            "\n"
          ]
        }
      ]
    },
    {
      "cell_type": "code",
      "source": [
        "string4 = \"I Love Data Analytics \"\n",
        "print(string4[0:-1])"
      ],
      "metadata": {
        "colab": {
          "base_uri": "https://localhost:8080/"
        },
        "id": "gVpH4qSS9u7V",
        "outputId": "da842f1f-995d-4d36-fcb3-704310a6c0d1"
      },
      "execution_count": 25,
      "outputs": [
        {
          "output_type": "stream",
          "name": "stdout",
          "text": [
            "I Love Data Analytics\n"
          ]
        }
      ]
    },
    {
      "cell_type": "code",
      "source": [
        "s = \"Petroleum Data Analytics\"\n",
        "# Retrives characters from 10 to 15\n",
        "print(s[10:15])\n",
        "# Retrives character from beginning to index 9\n",
        "print(s[:9])\n",
        "# Retrives character from index 10 to end\n",
        "print(s[10:])\n",
        "# Reverse a String\n",
        "print(s[::-1])"
      ],
      "metadata": {
        "colab": {
          "base_uri": "https://localhost:8080/"
        },
        "id": "sfM-BlZH9vAE",
        "outputId": "298e7ff9-c8e9-42a5-e9ec-7d057acb0092"
      },
      "execution_count": 26,
      "outputs": [
        {
          "output_type": "stream",
          "name": "stdout",
          "text": [
            "Data \n",
            "Petroleum\n",
            "Data Analytics\n",
            "scitylanA ataD muelorteP\n"
          ]
        }
      ]
    },
    {
      "cell_type": "code",
      "source": [
        "# Updating a string, creating new string\n",
        "s1 = \" Data Analytics\"\n",
        "s2 = \"Petroleum\" + s1\n",
        "print(s2)"
      ],
      "metadata": {
        "colab": {
          "base_uri": "https://localhost:8080/"
        },
        "id": "Z0Hbg8HxMqrU",
        "outputId": "9907c435-87a9-4fae-e552-6dec27fb2e23"
      },
      "execution_count": 27,
      "outputs": [
        {
          "output_type": "stream",
          "name": "stdout",
          "text": [
            "Petroleum Data Analytics\n"
          ]
        }
      ]
    },
    {
      "cell_type": "code",
      "source": [
        "s3 = s2.replace(\"Analytics\", \"Analysis\")\n",
        "print(s3)"
      ],
      "metadata": {
        "colab": {
          "base_uri": "https://localhost:8080/"
        },
        "id": "OxHLTOHFMqvn",
        "outputId": "383ca7cd-6a9f-4e68-84dc-c9ab0a05665f"
      },
      "execution_count": 28,
      "outputs": [
        {
          "output_type": "stream",
          "name": "stdout",
          "text": [
            "Petroleum Data Analysis\n"
          ]
        }
      ]
    },
    {
      "cell_type": "markdown",
      "source": [
        "### **Common String Methods**"
      ],
      "metadata": {
        "id": "7tmCY7FQNsFM"
      }
    },
    {
      "cell_type": "code",
      "source": [
        "# len()\n",
        "print(len(s2))"
      ],
      "metadata": {
        "colab": {
          "base_uri": "https://localhost:8080/"
        },
        "id": "P8uV4TPMMqyG",
        "outputId": "ade96dbe-7f14-47ea-9d4f-697e19113d31"
      },
      "execution_count": 29,
      "outputs": [
        {
          "output_type": "stream",
          "name": "stdout",
          "text": [
            "24\n"
          ]
        }
      ]
    },
    {
      "cell_type": "code",
      "source": [
        "# uppercase and lowercase character\n",
        "print(s2.upper())\n",
        "print(s2.lower())"
      ],
      "metadata": {
        "colab": {
          "base_uri": "https://localhost:8080/"
        },
        "id": "YXlRzlyAMq5A",
        "outputId": "87351efb-c2e8-4939-bfa7-f200e00e83ad"
      },
      "execution_count": 30,
      "outputs": [
        {
          "output_type": "stream",
          "name": "stdout",
          "text": [
            "PETROLEUM DATA ANALYTICS\n",
            "petroleum data analytics\n"
          ]
        }
      ]
    },
    {
      "cell_type": "code",
      "source": [
        "# strip() and replace()\n",
        "s4 = \"     Petroleum Data Analytics     \"\n",
        "print(s4.strip())\n",
        "print(s2.replace(\"Analytics\", \"Analysis\"))"
      ],
      "metadata": {
        "colab": {
          "base_uri": "https://localhost:8080/"
        },
        "id": "aHH3ul0wOGhv",
        "outputId": "3eadd873-7041-4cab-9d58-aa6f88586703"
      },
      "execution_count": 31,
      "outputs": [
        {
          "output_type": "stream",
          "name": "stdout",
          "text": [
            "Petroleum Data Analytics\n",
            "Petroleum Data Analysis\n"
          ]
        }
      ]
    },
    {
      "cell_type": "code",
      "source": [
        "# Concatenating and Repeating Strings\n",
        "# We can concatenate strings using + operator and repeat them  using * operator.\n",
        "s1 = \"123\"\n",
        "s2 = \"456\"\n",
        "print(s1+s2)\n",
        "print(s1*3)"
      ],
      "metadata": {
        "colab": {
          "base_uri": "https://localhost:8080/"
        },
        "id": "Y_lht63iOHI5",
        "outputId": "ebffbbf5-eaa6-42bb-fe45-bf740ac90487"
      },
      "execution_count": 32,
      "outputs": [
        {
          "output_type": "stream",
          "name": "stdout",
          "text": [
            "123456\n",
            "123123123\n"
          ]
        }
      ]
    },
    {
      "cell_type": "markdown",
      "source": [
        "## **Mutable Data Types**"
      ],
      "metadata": {
        "id": "0kNOL-8ePcGf"
      }
    },
    {
      "cell_type": "markdown",
      "source": [
        "### **Lists**\n",
        "- In Python, a list is a built-in dynamic sized array (automatically grows and shrinks).\n",
        "- We can store all types of items (including another list) in a list. A list may contain mixed type of items.\n",
        "- List can contain duplicate items.\n",
        "- List in Python are Mutable. Hence, we can modify, replace or delete the items.\n",
        "- List are ordered. It maintain the order of elements based on how they are added.\n",
        "- Accessing items in List can be done directly using their position (index), starting from 0.\n"
      ],
      "metadata": {
        "id": "Vv9OPyRcPKgc"
      }
    },
    {
      "cell_type": "code",
      "source": [
        "# List of Strings\n",
        "list1 = [\"abc\", \"def\", \"ghi\"]\n",
        "print(list1)\n",
        "# List of Integers\n",
        "list2 = [1,2,3,4,5]\n",
        "print(list2)\n",
        "# lists of Mixed Characters\n",
        "list3 = [1, 'abc', True, 2, 'def', False]\n",
        "print(list3)"
      ],
      "metadata": {
        "colab": {
          "base_uri": "https://localhost:8080/"
        },
        "id": "q2tuMvRrOHSc",
        "outputId": "d9bd6a46-66aa-4ed1-9e8f-02d5012269d6"
      },
      "execution_count": 33,
      "outputs": [
        {
          "output_type": "stream",
          "name": "stdout",
          "text": [
            "['abc', 'def', 'ghi']\n",
            "[1, 2, 3, 4, 5]\n",
            "[1, 'abc', True, 2, 'def', False]\n"
          ]
        }
      ]
    },
    {
      "cell_type": "code",
      "source": [
        "# Accessing List items using index\n",
        "print(list1[0])\n",
        "print(list2[1])\n",
        "print(list3[2])"
      ],
      "metadata": {
        "colab": {
          "base_uri": "https://localhost:8080/"
        },
        "id": "z4tJkr3uOHa3",
        "outputId": "2243800b-7c15-4ffe-cfa4-96b66773b454"
      },
      "execution_count": 34,
      "outputs": [
        {
          "output_type": "stream",
          "name": "stdout",
          "text": [
            "abc\n",
            "2\n",
            "True\n"
          ]
        }
      ]
    },
    {
      "cell_type": "code",
      "source": [
        "# List types\n",
        "print(type(list1[1]))\n",
        "print(type(list2[2]))\n",
        "print(type(list3[2]))"
      ],
      "metadata": {
        "colab": {
          "base_uri": "https://localhost:8080/"
        },
        "id": "ylEd_rgvOHjD",
        "outputId": "6c1097df-d853-41d8-bb25-a423290c628b"
      },
      "execution_count": 35,
      "outputs": [
        {
          "output_type": "stream",
          "name": "stdout",
          "text": [
            "<class 'str'>\n",
            "<class 'int'>\n",
            "<class 'bool'>\n"
          ]
        }
      ]
    },
    {
      "cell_type": "code",
      "source": [
        "# List Constructor using list()\n",
        "list4 = list()\n",
        "print(list4)"
      ],
      "metadata": {
        "colab": {
          "base_uri": "https://localhost:8080/"
        },
        "id": "2Qsyq2aoRctV",
        "outputId": "03a66f19-54b3-4e56-d86a-1741fe397cff"
      },
      "execution_count": 36,
      "outputs": [
        {
          "output_type": "stream",
          "name": "stdout",
          "text": [
            "[]\n"
          ]
        }
      ]
    },
    {
      "cell_type": "code",
      "source": [
        "# Adding elements to List\n",
        "#  .append()\n",
        "l1 = [1, 'abc', True, 2, 'def', False]\n",
        "l1.append(3)\n",
        "\n",
        "# .extend()\n",
        "l1.extend(['ghi', True, 'DATA', 564, 'Engineering'])\n",
        "\n",
        "# .insert()\n",
        "l1.insert(3, 'xyz')\n",
        "\n",
        "print(l1)"
      ],
      "metadata": {
        "id": "9tKJkpupRuzU",
        "colab": {
          "base_uri": "https://localhost:8080/"
        },
        "outputId": "97a287fc-c333-4a84-ac13-8b5976edfce6"
      },
      "execution_count": 37,
      "outputs": [
        {
          "output_type": "stream",
          "name": "stdout",
          "text": [
            "[1, 'abc', True, 'xyz', 2, 'def', False, 3, 'ghi', True, 'DATA', 564, 'Engineering']\n"
          ]
        }
      ]
    },
    {
      "cell_type": "code",
      "source": [
        "# Updating Elements in List\n",
        "\n",
        "l1[0] = 'Data'\n",
        "print(l1)"
      ],
      "metadata": {
        "id": "VbKx_1CXRu-8",
        "colab": {
          "base_uri": "https://localhost:8080/"
        },
        "outputId": "3917f6ff-5491-44b9-b0db-9b5dfbf9c3e6"
      },
      "execution_count": 38,
      "outputs": [
        {
          "output_type": "stream",
          "name": "stdout",
          "text": [
            "['Data', 'abc', True, 'xyz', 2, 'def', False, 3, 'ghi', True, 'DATA', 564, 'Engineering']\n"
          ]
        }
      ]
    },
    {
      "cell_type": "code",
      "source": [
        "# Removing elements from list\n",
        "\n",
        "# .remove()\n",
        "l1.remove('abc')\n",
        "print(l1)\n",
        "\n",
        "# .pop()\n",
        "l1.pop(6)\n",
        "print(l1)\n",
        "\n",
        "# del keyword\n",
        "del l1[3]\n",
        "print(l1)"
      ],
      "metadata": {
        "id": "QMWfU9H7RvH2",
        "colab": {
          "base_uri": "https://localhost:8080/"
        },
        "outputId": "bd3a1751-93be-4290-d9e2-425cc4ba9102"
      },
      "execution_count": 39,
      "outputs": [
        {
          "output_type": "stream",
          "name": "stdout",
          "text": [
            "['Data', True, 'xyz', 2, 'def', False, 3, 'ghi', True, 'DATA', 564, 'Engineering']\n",
            "['Data', True, 'xyz', 2, 'def', False, 'ghi', True, 'DATA', 564, 'Engineering']\n",
            "['Data', True, 'xyz', 'def', False, 'ghi', True, 'DATA', 564, 'Engineering']\n"
          ]
        }
      ]
    },
    {
      "cell_type": "code",
      "source": [
        "# Nested Lists in Python\n",
        "l2 = ['Porosity', \"Petroleum\" , [1,2,3,4,5]]\n",
        "print(l2)"
      ],
      "metadata": {
        "id": "1A2QBXBHRvRQ",
        "colab": {
          "base_uri": "https://localhost:8080/"
        },
        "outputId": "dc177a3e-f098-49a5-a33d-0a8f56ba782d"
      },
      "execution_count": 40,
      "outputs": [
        {
          "output_type": "stream",
          "name": "stdout",
          "text": [
            "['Porosity', 'Petroleum', [1, 2, 3, 4, 5]]\n"
          ]
        }
      ]
    },
    {
      "cell_type": "code",
      "source": [
        "l2[-1]"
      ],
      "metadata": {
        "id": "KnYNDnK0Rvaz",
        "colab": {
          "base_uri": "https://localhost:8080/"
        },
        "outputId": "f34b25ce-2081-46aa-b136-eefe412cf4b9"
      },
      "execution_count": 41,
      "outputs": [
        {
          "output_type": "execute_result",
          "data": {
            "text/plain": [
              "[1, 2, 3, 4, 5]"
            ]
          },
          "metadata": {},
          "execution_count": 41
        }
      ]
    },
    {
      "cell_type": "code",
      "source": [
        "l2[2]"
      ],
      "metadata": {
        "id": "pJkjapDFRvje",
        "colab": {
          "base_uri": "https://localhost:8080/"
        },
        "outputId": "d3d0432d-d73c-4e53-c887-7e6145d45db5"
      },
      "execution_count": 42,
      "outputs": [
        {
          "output_type": "execute_result",
          "data": {
            "text/plain": [
              "[1, 2, 3, 4, 5]"
            ]
          },
          "metadata": {},
          "execution_count": 42
        }
      ]
    }
  ]
}