{
  "nbformat": 4,
  "nbformat_minor": 0,
  "metadata": {
    "colab": {
      "provenance": [],
      "authorship_tag": "ABX9TyOPFAfsiLSyLUneQBvxkNoA"
    },
    "kernelspec": {
      "name": "python3",
      "display_name": "Python 3"
    },
    "language_info": {
      "name": "python"
    }
  },
  "cells": [
    {
      "cell_type": "markdown",
      "source": [
        "# **Python Data Types**"
      ],
      "metadata": {
        "id": "gUz-LP_g5D_4"
      }
    },
    {
      "cell_type": "markdown",
      "source": [
        "## **Immutable Data Types**\n",
        "- Immutable Objects are of in-built datatypes like int, float, bool, string, Unicode, and tuple.\n",
        "- In simple words, an immutable object can’t be changed after it is created."
      ],
      "metadata": {
        "id": "IV05dSOy5JT0"
      }
    },
    {
      "cell_type": "code",
      "execution_count": 61,
      "metadata": {
        "id": "b4C6SuwK40Pe",
        "colab": {
          "base_uri": "https://localhost:8080/"
        },
        "outputId": "74715d7d-6135-415f-d1d9-e0dae3252f94"
      },
      "outputs": [
        {
          "output_type": "stream",
          "name": "stdout",
          "text": [
            "(1, 2, 3, 4)\n"
          ]
        }
      ],
      "source": [
        "# Tuple is immutable\n",
        "tuple1 = (1,2,3,4)\n",
        "print(tuple1)"
      ]
    },
    {
      "cell_type": "code",
      "source": [
        "print(type(tuple1))"
      ],
      "metadata": {
        "colab": {
          "base_uri": "https://localhost:8080/"
        },
        "id": "Un0cXLev5DP1",
        "outputId": "64d27187-ce50-4cef-8679-fc499cf9265b"
      },
      "execution_count": 62,
      "outputs": [
        {
          "output_type": "stream",
          "name": "stdout",
          "text": [
            "<class 'tuple'>\n"
          ]
        }
      ]
    },
    {
      "cell_type": "code",
      "source": [
        "tuple1[3] = 4\n",
        "print(tuple1)"
      ],
      "metadata": {
        "colab": {
          "base_uri": "https://localhost:8080/",
          "height": 158
        },
        "id": "cWwxy9Qo5DOF",
        "outputId": "1769786d-7279-4688-d54c-52a39e3f6d2c"
      },
      "execution_count": 63,
      "outputs": [
        {
          "output_type": "error",
          "ename": "TypeError",
          "evalue": "'tuple' object does not support item assignment",
          "traceback": [
            "\u001b[0;31m---------------------------------------------------------------------------\u001b[0m",
            "\u001b[0;31mTypeError\u001b[0m                                 Traceback (most recent call last)",
            "\u001b[0;32m/tmp/ipython-input-4016702147.py\u001b[0m in \u001b[0;36m<cell line: 0>\u001b[0;34m()\u001b[0m\n\u001b[0;32m----> 1\u001b[0;31m \u001b[0mtuple1\u001b[0m\u001b[0;34m[\u001b[0m\u001b[0;36m3\u001b[0m\u001b[0;34m]\u001b[0m \u001b[0;34m=\u001b[0m \u001b[0;36m4\u001b[0m\u001b[0;34m\u001b[0m\u001b[0;34m\u001b[0m\u001b[0m\n\u001b[0m\u001b[1;32m      2\u001b[0m \u001b[0mprint\u001b[0m\u001b[0;34m(\u001b[0m\u001b[0mtuple1\u001b[0m\u001b[0;34m)\u001b[0m\u001b[0;34m\u001b[0m\u001b[0;34m\u001b[0m\u001b[0m\n",
            "\u001b[0;31mTypeError\u001b[0m: 'tuple' object does not support item assignment"
          ]
        }
      ]
    },
    {
      "cell_type": "code",
      "source": [
        "# String is immutable\n",
        "string1 = 'I AM IMMUTABLE'\n",
        "print(type(string1))\n",
        "print(string1[0])\n",
        "string1[0] = 'U'"
      ],
      "metadata": {
        "id": "M1udqIwh5DMT"
      },
      "execution_count": null,
      "outputs": []
    },
    {
      "cell_type": "code",
      "source": [
        "# Python stores identical strings in the same memory (interning), but not all immutables get this optimization.\n",
        "var1 = 'abc'\n",
        "var2 = 'abc'\n",
        "var3 = 'abc'\n",
        "var4 = 'abc'\n",
        "var5 = 'abc'\n",
        "var6 = 'abc'\n",
        "var7 = 'abc'\n",
        "print(id(var1))\n",
        "print(id(var2))\n",
        "print(id(var3))\n",
        "print(id(var4))\n",
        "print(id(var5))\n",
        "print(id(var6))\n",
        "print(id(var7))"
      ],
      "metadata": {
        "id": "HHOIZN3G5DGP"
      },
      "execution_count": null,
      "outputs": []
    },
    {
      "cell_type": "markdown",
      "source": [
        "### **Non-Transitivity**\n",
        "- Tuples are immutable, but if they contain mutable objects (like lists), those can still be changed—this is called non-transitive immutability"
      ],
      "metadata": {
        "id": "tgvHD_G17cs7"
      }
    },
    {
      "cell_type": "code",
      "source": [
        "# Tuple with a list inside\n",
        "t = (1, 2, [3, 4])\n",
        "\n",
        "print(\"Before:\", t)\n",
        "\n",
        "# Trying to modify tuple directly -> Error\n",
        "# t[0] = 10   # TypeError\n",
        "\n",
        "# But modifying the list inside works\n",
        "t[2][1] = 5\n",
        "\n",
        "print(\"After:\", t)"
      ],
      "metadata": {
        "id": "3oHj_NmM7rEf"
      },
      "execution_count": null,
      "outputs": []
    },
    {
      "cell_type": "markdown",
      "source": [
        "## **Numeric Data Type**\n",
        "- The numeric data type in Python represents the data that has a numeric value.\n",
        "- A numeric value can be an integer, a floating number, or even a complex number.\n",
        "- These values are defined as Python int, Python float, and Python complex classes in Python.\n",
        "- **Integers** – This value is represented by int class. It contains positive or negative whole numbers (without fractions or decimals).\n",
        "In Python, there is no limit to how long an integer value can be.\n",
        "\n",
        "- **Float** – This value is represented by the float class. It is a real number with a floating-point representation. It is specified by a decimal point.\n",
        "- **Complex Numbers** – Complex number is represented by a complex class. It is specified as (real part) + (imaginary part)j. For example:  3+4j\n",
        "- **Note** – type() function is used to determine the type of data type.\n"
      ],
      "metadata": {
        "id": "enWt-p6S841I"
      }
    },
    {
      "cell_type": "code",
      "source": [
        "a = 362739\n",
        "print(type(a))\n",
        "b = 2523.334\n",
        "print(type(b))\n",
        "c = 2 + 3j\n",
        "print(type(c))"
      ],
      "metadata": {
        "colab": {
          "base_uri": "https://localhost:8080/"
        },
        "id": "1OgdnL0o9VqP",
        "outputId": "31c9c782-2af7-4e73-9a32-e65668cb4b2c"
      },
      "execution_count": 32,
      "outputs": [
        {
          "output_type": "stream",
          "name": "stdout",
          "text": [
            "<class 'int'>\n",
            "<class 'float'>\n",
            "<class 'complex'>\n"
          ]
        }
      ]
    },
    {
      "cell_type": "markdown",
      "source": [
        "## **Sequence Data Types**\n",
        "- String\n",
        "- List\n",
        "- Tuple"
      ],
      "metadata": {
        "id": "flZYxlXj9yiC"
      }
    },
    {
      "cell_type": "markdown",
      "source": [
        "### **String**\n",
        "- manipulate strings then we can use methods like concatenation, slicing, or formatting to create new strings based on the original"
      ],
      "metadata": {
        "id": "KZ5wLAH0ArG1"
      }
    },
    {
      "cell_type": "code",
      "source": [
        "string2 = 'Petroleum Data Analytics'\n",
        "print(string2[0])\n",
        "print(string2[1])\n",
        "print(string2[2])\n",
        "print(string2[3])\n",
        "print(string2[4])\n",
        "print(string2[5])\n",
        "print(string2[6])\n",
        "print(string2[7])\n",
        "print(string2[8])\n",
        "print(string2[9])\n",
        "print(string2[10])\n",
        "print(string2[11])\n",
        "print(string2[12])\n",
        "print(string2[13])\n",
        "print(string2[14])\n",
        "print(string2[15])\n",
        "print(string2[16])\n",
        "print(string2[17])\n",
        "print(string2[18])\n",
        "print(string2[19])\n",
        "print(string2[20])\n",
        "print(string2[21])\n",
        "print(string2[22])\n",
        "print(string2[23])"
      ],
      "metadata": {
        "colab": {
          "base_uri": "https://localhost:8080/"
        },
        "id": "EuyqfEWe9uyQ",
        "outputId": "d704f9bc-7f5c-4733-ae7e-4a9d1defa041"
      },
      "execution_count": 64,
      "outputs": [
        {
          "output_type": "stream",
          "name": "stdout",
          "text": [
            "P\n",
            "e\n",
            "t\n",
            "r\n",
            "o\n",
            "l\n",
            "e\n",
            "u\n",
            "m\n",
            " \n",
            "D\n",
            "a\n",
            "t\n",
            "a\n",
            " \n",
            "A\n",
            "n\n",
            "a\n",
            "l\n",
            "y\n",
            "t\n",
            "i\n",
            "c\n",
            "s\n"
          ]
        }
      ]
    },
    {
      "cell_type": "code",
      "source": [
        "# Multi Line String\n",
        "string3 = \"\"\"\n",
        "I am Multi Line String\n",
        "I am Multi Line String\n",
        "I am Multi Line String\n",
        "I am Multi Line String\n",
        "\"\"\"\n",
        "print(string3)"
      ],
      "metadata": {
        "colab": {
          "base_uri": "https://localhost:8080/"
        },
        "id": "lHhpd_wu9u1w",
        "outputId": "07e38056-a18b-46e8-86e4-45a8304b09ce"
      },
      "execution_count": 65,
      "outputs": [
        {
          "output_type": "stream",
          "name": "stdout",
          "text": [
            "\n",
            "I am Multi Line String\n",
            "I am Multi Line String\n",
            "I am Multi Line String\n",
            "I am Multi Line String\n",
            "\n"
          ]
        }
      ]
    },
    {
      "cell_type": "code",
      "source": [
        "string4 = \"I Love Data Analytics \"\n",
        "print(string4[0:-1])"
      ],
      "metadata": {
        "colab": {
          "base_uri": "https://localhost:8080/"
        },
        "id": "gVpH4qSS9u7V",
        "outputId": "2b345661-4e22-4768-d4fd-d78add745d2c"
      },
      "execution_count": 66,
      "outputs": [
        {
          "output_type": "stream",
          "name": "stdout",
          "text": [
            "I Love Data Analytics\n"
          ]
        }
      ]
    },
    {
      "cell_type": "code",
      "source": [
        "s = \"Petroleum Data Analytics\"\n",
        "# Retrives characters from 10 to 15\n",
        "print(s[10:15])\n",
        "# Retrives character from beginning to index 9\n",
        "print(s[:9])\n",
        "# Retrives character from index 10 to end\n",
        "print(s[10:])\n",
        "# Reverse a String\n",
        "print(s[::-1])"
      ],
      "metadata": {
        "colab": {
          "base_uri": "https://localhost:8080/"
        },
        "id": "sfM-BlZH9vAE",
        "outputId": "0a2b1cad-6999-4826-fbc2-3db5057b3b0f"
      },
      "execution_count": 67,
      "outputs": [
        {
          "output_type": "stream",
          "name": "stdout",
          "text": [
            "Data \n",
            "Petroleum\n",
            "Data Analytics\n",
            "scitylanA ataD muelorteP\n"
          ]
        }
      ]
    },
    {
      "cell_type": "code",
      "source": [
        "# Updating a string, creating new string\n",
        "s1 = \" Data Analytics\"\n",
        "s2 = \"Petroleum\" + s1\n",
        "print(s2)"
      ],
      "metadata": {
        "colab": {
          "base_uri": "https://localhost:8080/"
        },
        "id": "Z0Hbg8HxMqrU",
        "outputId": "b5bd89f8-0df0-4fa4-8705-9aa70eeefd10"
      },
      "execution_count": 68,
      "outputs": [
        {
          "output_type": "stream",
          "name": "stdout",
          "text": [
            "Petroleum Data Analytics\n"
          ]
        }
      ]
    },
    {
      "cell_type": "code",
      "source": [
        "s3 = s2.replace(\"Analytics\", \"Analysis\")\n",
        "print(s3)"
      ],
      "metadata": {
        "colab": {
          "base_uri": "https://localhost:8080/"
        },
        "id": "OxHLTOHFMqvn",
        "outputId": "d40415c2-fc9d-483a-f5f5-155679fcfacd"
      },
      "execution_count": 69,
      "outputs": [
        {
          "output_type": "stream",
          "name": "stdout",
          "text": [
            "Petroleum Data Analysis\n"
          ]
        }
      ]
    },
    {
      "cell_type": "markdown",
      "source": [
        "### **Common String Methods**"
      ],
      "metadata": {
        "id": "7tmCY7FQNsFM"
      }
    },
    {
      "cell_type": "code",
      "source": [
        "# len()\n",
        "print(len(s2))"
      ],
      "metadata": {
        "colab": {
          "base_uri": "https://localhost:8080/"
        },
        "id": "P8uV4TPMMqyG",
        "outputId": "c9891782-4f24-45e0-bfd8-f37c450fece0"
      },
      "execution_count": 70,
      "outputs": [
        {
          "output_type": "stream",
          "name": "stdout",
          "text": [
            "24\n"
          ]
        }
      ]
    },
    {
      "cell_type": "code",
      "source": [
        "# uppercase and lowercase character\n",
        "print(s2.upper())\n",
        "print(s2.lower())"
      ],
      "metadata": {
        "colab": {
          "base_uri": "https://localhost:8080/"
        },
        "id": "YXlRzlyAMq5A",
        "outputId": "f6d0504d-bf20-4af8-fc96-d57fa1405f97"
      },
      "execution_count": 71,
      "outputs": [
        {
          "output_type": "stream",
          "name": "stdout",
          "text": [
            "PETROLEUM DATA ANALYTICS\n",
            "petroleum data analytics\n"
          ]
        }
      ]
    },
    {
      "cell_type": "code",
      "source": [
        "# strip() and replace()\n",
        "s4 = \"     Petroleum Data Analytics     \"\n",
        "print(s4.strip())\n",
        "print(s2.replace(\"Analytics\", \"Analysis\"))"
      ],
      "metadata": {
        "colab": {
          "base_uri": "https://localhost:8080/"
        },
        "id": "aHH3ul0wOGhv",
        "outputId": "ae963f34-d5aa-4864-e044-0dadc114786f"
      },
      "execution_count": 72,
      "outputs": [
        {
          "output_type": "stream",
          "name": "stdout",
          "text": [
            "Petroleum Data Analytics\n",
            "Petroleum Data Analysis\n"
          ]
        }
      ]
    },
    {
      "cell_type": "code",
      "source": [
        "# Concatenating and Repeating Strings\n",
        "# We can concatenate strings using + operator and repeat them  using * operator.\n",
        "s1 = \"123\"\n",
        "s2 = \"456\"\n",
        "print(s1+s2)\n",
        "print(s1*3)"
      ],
      "metadata": {
        "colab": {
          "base_uri": "https://localhost:8080/"
        },
        "id": "Y_lht63iOHI5",
        "outputId": "6b813b4e-0c22-4351-e488-c7fc2111cdb1"
      },
      "execution_count": 73,
      "outputs": [
        {
          "output_type": "stream",
          "name": "stdout",
          "text": [
            "123456\n",
            "123123123\n"
          ]
        }
      ]
    },
    {
      "cell_type": "markdown",
      "source": [
        "## **Mutable Data Types**"
      ],
      "metadata": {
        "id": "0kNOL-8ePcGf"
      }
    },
    {
      "cell_type": "markdown",
      "source": [
        "### **Lists**\n",
        "- In Python, a list is a built-in dynamic sized array (automatically grows and shrinks).\n",
        "- We can store all types of items (including another list) in a list. A list may contain mixed type of items.\n",
        "- List can contain duplicate items.\n",
        "- List in Python are Mutable. Hence, we can modify, replace or delete the items.\n",
        "- List are ordered. It maintain the order of elements based on how they are added.\n",
        "- Accessing items in List can be done directly using their position (index), starting from 0.\n"
      ],
      "metadata": {
        "id": "Vv9OPyRcPKgc"
      }
    },
    {
      "cell_type": "code",
      "source": [
        "# List of Strings\n",
        "list1 = [\"abc\", \"def\", \"ghi\"]\n",
        "print(list1)\n",
        "# List of Integers\n",
        "list2 = [1,2,3,4,5]\n",
        "print(list2)\n",
        "# lists of Mixed Characters\n",
        "list3 = [1, 'abc', True, 2, 'def', False]\n",
        "print(list3)"
      ],
      "metadata": {
        "colab": {
          "base_uri": "https://localhost:8080/"
        },
        "id": "q2tuMvRrOHSc",
        "outputId": "a02961bc-9ce6-4003-e565-9b76224811d1"
      },
      "execution_count": 55,
      "outputs": [
        {
          "output_type": "stream",
          "name": "stdout",
          "text": [
            "['abc', 'def', 'ghi']\n",
            "[1, 2, 3, 4, 5]\n",
            "[1, 'abc', True, 2, 'def', False]\n"
          ]
        }
      ]
    },
    {
      "cell_type": "code",
      "source": [
        "# Accessing List items using index\n",
        "print(list1[0])\n",
        "print(list2[1])\n",
        "print(list3[2])"
      ],
      "metadata": {
        "colab": {
          "base_uri": "https://localhost:8080/"
        },
        "id": "z4tJkr3uOHa3",
        "outputId": "880bdf81-4de6-482b-d219-7ab873ec11e7"
      },
      "execution_count": 56,
      "outputs": [
        {
          "output_type": "stream",
          "name": "stdout",
          "text": [
            "abc\n",
            "2\n",
            "True\n"
          ]
        }
      ]
    },
    {
      "cell_type": "code",
      "source": [
        "# List types\n",
        "print(type(list1[1]))\n",
        "print(type(list2[2]))\n",
        "print(type(list3[2]))"
      ],
      "metadata": {
        "colab": {
          "base_uri": "https://localhost:8080/"
        },
        "id": "ylEd_rgvOHjD",
        "outputId": "9fdc2fda-6243-408b-8991-429bc343fa68"
      },
      "execution_count": 59,
      "outputs": [
        {
          "output_type": "stream",
          "name": "stdout",
          "text": [
            "<class 'str'>\n",
            "<class 'int'>\n",
            "<class 'bool'>\n"
          ]
        }
      ]
    },
    {
      "cell_type": "code",
      "source": [
        "# List Constructor using list()\n",
        "list4 = list()\n",
        "print(list4)"
      ],
      "metadata": {
        "colab": {
          "base_uri": "https://localhost:8080/"
        },
        "id": "2Qsyq2aoRctV",
        "outputId": "5a7971e4-4114-4296-b0e6-ecc492ee68c7"
      },
      "execution_count": 60,
      "outputs": [
        {
          "output_type": "stream",
          "name": "stdout",
          "text": [
            "[]\n"
          ]
        }
      ]
    },
    {
      "cell_type": "code",
      "source": [],
      "metadata": {
        "id": "9tKJkpupRuzU"
      },
      "execution_count": null,
      "outputs": []
    },
    {
      "cell_type": "code",
      "source": [],
      "metadata": {
        "id": "VbKx_1CXRu-8"
      },
      "execution_count": null,
      "outputs": []
    },
    {
      "cell_type": "code",
      "source": [],
      "metadata": {
        "id": "QMWfU9H7RvH2"
      },
      "execution_count": null,
      "outputs": []
    },
    {
      "cell_type": "code",
      "source": [],
      "metadata": {
        "id": "1A2QBXBHRvRQ"
      },
      "execution_count": null,
      "outputs": []
    },
    {
      "cell_type": "code",
      "source": [],
      "metadata": {
        "id": "KnYNDnK0Rvaz"
      },
      "execution_count": null,
      "outputs": []
    },
    {
      "cell_type": "code",
      "source": [],
      "metadata": {
        "id": "pJkjapDFRvje"
      },
      "execution_count": null,
      "outputs": []
    }
  ]
}