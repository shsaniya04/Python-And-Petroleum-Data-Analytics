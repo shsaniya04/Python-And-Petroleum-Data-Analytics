{
  "nbformat": 4,
  "nbformat_minor": 0,
  "metadata": {
    "colab": {
      "provenance": [],
      "authorship_tag": "ABX9TyNc6+U8B6cC20okdZxvJAuM"
    },
    "kernelspec": {
      "name": "python3",
      "display_name": "Python 3"
    },
    "language_info": {
      "name": "python"
    }
  },
  "cells": [
    {
      "cell_type": "markdown",
      "source": [
        "# **Types of Operators in Python**"
      ],
      "metadata": {
        "id": "Y1ipQPodPJHx"
      }
    },
    {
      "cell_type": "markdown",
      "source": [
        "## **Arithmetic Operators**\n",
        "-  Addition (+): Adds two operands\n",
        "- Subtraction(-): Subtract two operands\n",
        "- Multiplication (*): Multiplies two operands\n",
        "- Division (/): divides the first operand by the second\n",
        "- Floor Division (//): divides the first operand by the second\n",
        "- Modulus (%): returns the remainder when the first operand is divided by the second\n",
        "-  Exponentiation (**): Returns first raised to power second\n"
      ],
      "metadata": {
        "id": "3clrdlwtPyv7"
      }
    },
    {
      "cell_type": "code",
      "execution_count": 3,
      "metadata": {
        "colab": {
          "base_uri": "https://localhost:8080/"
        },
        "id": "gHbUGIouND_p",
        "outputId": "ffdb20e3-41fb-4514-b78e-a22568784fd7"
      },
      "outputs": [
        {
          "output_type": "stream",
          "name": "stdout",
          "text": [
            "Addition:  6\n",
            "Subtraction:  2\n",
            "Multiplication:  8\n",
            "Division:  2.0\n",
            "Floor Division:  2\n",
            "Modulus:  0\n",
            "Exponentiation:  16\n"
          ]
        }
      ],
      "source": [
        "x = 4\n",
        "y = 2\n",
        "print(\"Addition: \", x + y)\n",
        "print(\"Subtraction: \", x - y)\n",
        "print(\"Multiplication: \", x * y)\n",
        "print(\"Division: \", x / y)\n",
        "print(\"Floor Division: \", x // y)\n",
        "print(\"Modulus: \", x % y)\n",
        "print(\"Exponentiation: \", x ** y)"
      ]
    },
    {
      "cell_type": "markdown",
      "source": [
        "## **Comparison Operator**\n",
        "- \">\"\n",
        "Greater than: true if the left operand is greater than the right\n",
        "x>y\n",
        "- \"<\"\n",
        "Less than: true if the left operand is less than the right\n",
        "x<y\n",
        "- \"==\"\n",
        "Equal to : true if both operands are equal\n",
        "x==y\n",
        "- \"!=\"\n",
        "Not Equal to : true if operands are not equal\n",
        "x!=y\n",
        "- \">=\"\n",
        "Greater than or equal to: true if the left operand is greater than or equal to the right\n",
        "x>= y\n",
        "- \"<=\"\n",
        "Less than or equal to: true if the left operand is less than or equal to the right\n",
        "x<=y\n"
      ],
      "metadata": {
        "id": "lM0wmBuSRQxA"
      }
    },
    {
      "cell_type": "code",
      "source": [
        "x = 55\n",
        "y = 65\n",
        "print(\"x > y: \", x > y)\n",
        "print(\"x < y: \", x < y)\n",
        "print(\"x == y: \", x == y)\n",
        "print(\"x != y: \", x != y)\n",
        "print(\"x >= y: \", x >= y)\n",
        "print(\"x <= y: \", x <= y)"
      ],
      "metadata": {
        "colab": {
          "base_uri": "https://localhost:8080/"
        },
        "id": "z0Cdg-BzRKUt",
        "outputId": "211707fb-d188-4cef-c9e0-91390471849c"
      },
      "execution_count": 4,
      "outputs": [
        {
          "output_type": "stream",
          "name": "stdout",
          "text": [
            "x > y:  False\n",
            "x < y:  True\n",
            "x == y:  False\n",
            "x != y:  True\n",
            "x >= y:  False\n",
            "x <= y:  True\n"
          ]
        }
      ]
    },
    {
      "cell_type": "markdown",
      "source": [
        "## **Logical Operators**\n",
        "- LOGICAL AND\n",
        "- LOGICAL OR\n",
        "- LOGICAL NOT"
      ],
      "metadata": {
        "id": "vxmY1XgEScXk"
      }
    },
    {
      "cell_type": "code",
      "source": [
        "a, b, c = True, False, True\n",
        "\n",
        "# Logical AND\n",
        "if a and c:\n",
        "  print(\"Logical AND: True\")\n",
        "else:\n",
        "  print(\"Logical AND: False\")\n",
        "\n",
        "# Logical OR\n",
        "if a or b:\n",
        "  print(\"Logical OR: True\")\n",
        "else:\n",
        "  print(\"Logical OR: False\")\n",
        "\n",
        "# Logical NOT\n",
        "if not b:\n",
        "  print(\"Logical NOT: True\")\n",
        "else:\n",
        "  print(\"Logical NOT: False\")"
      ],
      "metadata": {
        "colab": {
          "base_uri": "https://localhost:8080/"
        },
        "id": "mX8NurlORLTr",
        "outputId": "cd89958d-5f4e-43aa-987a-122c6f714257"
      },
      "execution_count": 7,
      "outputs": [
        {
          "output_type": "stream",
          "name": "stdout",
          "text": [
            "Logical AND: True\n",
            "Logical OR: True\n",
            "Logical NOT: True\n"
          ]
        }
      ]
    },
    {
      "cell_type": "markdown",
      "source": [
        "## **Bitwise Operator**\n",
        "- **Bitwise AND Operator:**\n",
        "Python Bitwise AND (&) operator takes two equal-length bit patterns as parameters.\n",
        "The two-bit integers are compared. If the bits in the compared positions of the bit patterns are 1, then the resulting bit is 1. If not, it is 0.\n",
        "- **Bitwise OR Operator:**\n",
        "The Python Bitwise OR (|) Operator takes two equivalent length bit designs as boundaries; if the two bits in the looked-at position are 0, the next bit is zero. If not, it is 1.\n",
        "- **Bitwise NOT Operator:**\n",
        "The preceding three bitwise operators are binary operators, necessitating two operands to function.\n",
        "However, unlike the others, this operator operates with only one operand.\n",
        "- **Bitwise XOR Operator:**\n",
        "The Python Bitwise XOR (^) Operator also known as the exclusive OR operator, is used to perform the XOR operation on two operands.\n",
        "XOR stands for \"exclusive or\", and it returns true if and only if exactly one of the operands is true.\n",
        "In the context of bitwise operations, it compares corresponding bits of two operands. If the bits are different, it returns 1; otherwise, it returns 0.\n",
        "- **Bitwise Not (~) Operator :**\n",
        "It works with a single value and returns its one’s complement.\n",
        "This means it toggles all bits in the value, transforming 0 bits to 1 and 1 bits to 0, resulting in the one’s complement of the binary number.\n",
        "- **BITWISE SHIFT:**\n",
        "These operators are used to shift the bits of a number left or right thereby multiplying or dividing the number by two respectively. They can be used when we have to multiply or divide a number by two.\n",
        " - **BITWISE RIGHT SHIFT:**\n",
        "Shifts the bits of the number to the right and fills 0 on voids left( fills 1 in the case of a negative number) as a result.\n",
        " - **BITWISE LEFT SHIFT:**\n",
        "Shifts the bits of the number to the left and fills 0 on voids right as a result.\n"
      ],
      "metadata": {
        "id": "13JXDxmGT0Kq"
      }
    },
    {
      "cell_type": "code",
      "source": [
        "# Bitwise AND Operator\n",
        "a = 0b1010\n",
        "b = 0b1100\n",
        "result = a & b\n",
        "print(a)\n",
        "print(b)\n",
        "print(\"Bitwise AND: \", bin(result))"
      ],
      "metadata": {
        "colab": {
          "base_uri": "https://localhost:8080/"
        },
        "id": "EdBYIe-5RLY3",
        "outputId": "c9afcece-d923-421a-ee74-cb100bee7145"
      },
      "execution_count": 11,
      "outputs": [
        {
          "output_type": "stream",
          "name": "stdout",
          "text": [
            "10\n",
            "12\n",
            "Bitwise AND:  0b1000\n"
          ]
        }
      ]
    },
    {
      "cell_type": "code",
      "source": [
        "# Bitwise OR Operator\n",
        "a = 0b1010\n",
        "b = 0b1100\n",
        "result = a | b\n",
        "print(a)\n",
        "print(b)\n",
        "print(\"Bitwise OR: \", bin(result))"
      ],
      "metadata": {
        "colab": {
          "base_uri": "https://localhost:8080/"
        },
        "id": "_eqalWIjRLfS",
        "outputId": "c3dac2c8-772c-44d1-c13c-d14f320ad33f"
      },
      "execution_count": 12,
      "outputs": [
        {
          "output_type": "stream",
          "name": "stdout",
          "text": [
            "10\n",
            "12\n",
            "Bitwise OR:  0b1110\n"
          ]
        }
      ]
    },
    {
      "cell_type": "code",
      "source": [
        "# Bitwise RIGHT SHIFT Operator\n",
        "a = 0b1010\n",
        "result = a >> 2\n",
        "print(a)\n",
        "print(\"Bitwise RIGHT SHIFT: \", bin(result))"
      ],
      "metadata": {
        "colab": {
          "base_uri": "https://localhost:8080/"
        },
        "id": "lNBhqIt-RLnC",
        "outputId": "9537f799-efc4-4965-b943-f08d8ef7ff86"
      },
      "execution_count": 13,
      "outputs": [
        {
          "output_type": "stream",
          "name": "stdout",
          "text": [
            "10\n",
            "Bitwise RIGHT SHIFT:  0b10\n"
          ]
        }
      ]
    },
    {
      "cell_type": "code",
      "source": [
        "# Bitwise LEFT SHIFT Operator\n",
        "b = 0b1100\n",
        "result = b << 2\n",
        "print(b)\n",
        "print(\"Bitwise LEFT SHIFT: \", bin(result))"
      ],
      "metadata": {
        "colab": {
          "base_uri": "https://localhost:8080/"
        },
        "id": "7Ys5RE8NRLtH",
        "outputId": "2e406e59-7668-4a53-8ad2-ca17ee7a93c2"
      },
      "execution_count": 14,
      "outputs": [
        {
          "output_type": "stream",
          "name": "stdout",
          "text": [
            "12\n",
            "Bitwise LEFT SHIFT:  0b110000\n"
          ]
        }
      ]
    },
    {
      "cell_type": "code",
      "source": [
        "# Bitwise NOT Operator\n",
        "c = 0b1101\n",
        "result = ~c\n",
        "print(c)\n",
        "print(\"Bitwise NOT: \", bin(result))"
      ],
      "metadata": {
        "colab": {
          "base_uri": "https://localhost:8080/"
        },
        "id": "fA_VzOM8RLzK",
        "outputId": "344db987-7294-4933-9d25-efb9f023a180"
      },
      "execution_count": 15,
      "outputs": [
        {
          "output_type": "stream",
          "name": "stdout",
          "text": [
            "13\n",
            "Bitwise NOT:  -0b1110\n"
          ]
        }
      ]
    },
    {
      "cell_type": "code",
      "source": [
        "# Bitwise XOR Operator\n",
        "d = 0b1111\n",
        "c = 0b1101\n",
        "result = c ^ d\n",
        "print(c)\n",
        "print(d)\n",
        "print(\"Bitwise XOR: \", bin(result))"
      ],
      "metadata": {
        "colab": {
          "base_uri": "https://localhost:8080/"
        },
        "id": "mwJifv_2RL4v",
        "outputId": "74028d02-35f3-4b5b-95b3-12f6f3d354e7"
      },
      "execution_count": 18,
      "outputs": [
        {
          "output_type": "stream",
          "name": "stdout",
          "text": [
            "13\n",
            "15\n",
            "Bitwise XOR:  0b10\n"
          ]
        }
      ]
    }
  ]
}