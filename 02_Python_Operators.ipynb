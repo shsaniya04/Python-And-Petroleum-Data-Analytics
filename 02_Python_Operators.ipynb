{
  "nbformat": 4,
  "nbformat_minor": 0,
  "metadata": {
    "colab": {
      "provenance": [],
      "authorship_tag": "ABX9TyO44KDaBfw+K2WixJsLMwU1"
    },
    "kernelspec": {
      "name": "python3",
      "display_name": "Python 3"
    },
    "language_info": {
      "name": "python"
    }
  },
  "cells": [
    {
      "cell_type": "markdown",
      "source": [
        "# **Types of Operators in Python**"
      ],
      "metadata": {
        "id": "Y1ipQPodPJHx"
      }
    },
    {
      "cell_type": "markdown",
      "source": [
        "## **Arithmetic Operators**\n",
        "-  Addition (+): Adds two operands\n",
        "- Subtraction(-): Subtract two operands\n",
        "- Multiplication (*): Multiplies two operands\n",
        "- Division (/): divides the first operand by the second\n",
        "- Floor Division (//): divides the first operand by the second\n",
        "- Modulus (%): returns the remainder when the first operand is divided by the second\n",
        "-  Exponentiation (**): Returns first raised to power second\n"
      ],
      "metadata": {
        "id": "3clrdlwtPyv7"
      }
    },
    {
      "cell_type": "code",
      "execution_count": null,
      "metadata": {
        "colab": {
          "base_uri": "https://localhost:8080/"
        },
        "id": "gHbUGIouND_p",
        "outputId": "ffdb20e3-41fb-4514-b78e-a22568784fd7"
      },
      "outputs": [
        {
          "output_type": "stream",
          "name": "stdout",
          "text": [
            "Addition:  6\n",
            "Subtraction:  2\n",
            "Multiplication:  8\n",
            "Division:  2.0\n",
            "Floor Division:  2\n",
            "Modulus:  0\n",
            "Exponentiation:  16\n"
          ]
        }
      ],
      "source": [
        "x = 4\n",
        "y = 2\n",
        "print(\"Addition: \", x + y)\n",
        "print(\"Subtraction: \", x - y)\n",
        "print(\"Multiplication: \", x * y)\n",
        "print(\"Division: \", x / y)\n",
        "print(\"Floor Division: \", x // y)\n",
        "print(\"Modulus: \", x % y)\n",
        "print(\"Exponentiation: \", x ** y)"
      ]
    },
    {
      "cell_type": "markdown",
      "source": [
        "## **Comparison Operator**\n",
        "- \">\"\n",
        "Greater than: true if the left operand is greater than the right\n",
        "x>y\n",
        "- \"<\"\n",
        "Less than: true if the left operand is less than the right\n",
        "x<y\n",
        "- \"==\"\n",
        "Equal to : true if both operands are equal\n",
        "x==y\n",
        "- \"!=\"\n",
        "Not Equal to : true if operands are not equal\n",
        "x!=y\n",
        "- \">=\"\n",
        "Greater than or equal to: true if the left operand is greater than or equal to the right\n",
        "x>= y\n",
        "- \"<=\"\n",
        "Less than or equal to: true if the left operand is less than or equal to the right\n",
        "x<=y\n"
      ],
      "metadata": {
        "id": "lM0wmBuSRQxA"
      }
    },
    {
      "cell_type": "code",
      "source": [
        "x = 55\n",
        "y = 65\n",
        "print(\"x > y: \", x > y)\n",
        "print(\"x < y: \", x < y)\n",
        "print(\"x == y: \", x == y)\n",
        "print(\"x != y: \", x != y)\n",
        "print(\"x >= y: \", x >= y)\n",
        "print(\"x <= y: \", x <= y)"
      ],
      "metadata": {
        "colab": {
          "base_uri": "https://localhost:8080/"
        },
        "id": "z0Cdg-BzRKUt",
        "outputId": "211707fb-d188-4cef-c9e0-91390471849c"
      },
      "execution_count": null,
      "outputs": [
        {
          "output_type": "stream",
          "name": "stdout",
          "text": [
            "x > y:  False\n",
            "x < y:  True\n",
            "x == y:  False\n",
            "x != y:  True\n",
            "x >= y:  False\n",
            "x <= y:  True\n"
          ]
        }
      ]
    },
    {
      "cell_type": "markdown",
      "source": [
        "## **Logical Operators**\n",
        "- LOGICAL AND\n",
        "- LOGICAL OR\n",
        "- LOGICAL NOT"
      ],
      "metadata": {
        "id": "vxmY1XgEScXk"
      }
    },
    {
      "cell_type": "code",
      "source": [
        "a, b, c = True, False, True\n",
        "\n",
        "# Logical AND\n",
        "if a and c:\n",
        "  print(\"Logical AND: True\")\n",
        "else:\n",
        "  print(\"Logical AND: False\")\n",
        "\n",
        "# Logical OR\n",
        "if a or b:\n",
        "  print(\"Logical OR: True\")\n",
        "else:\n",
        "  print(\"Logical OR: False\")\n",
        "\n",
        "# Logical NOT\n",
        "if not b:\n",
        "  print(\"Logical NOT: True\")\n",
        "else:\n",
        "  print(\"Logical NOT: False\")"
      ],
      "metadata": {
        "colab": {
          "base_uri": "https://localhost:8080/"
        },
        "id": "mX8NurlORLTr",
        "outputId": "cd89958d-5f4e-43aa-987a-122c6f714257"
      },
      "execution_count": null,
      "outputs": [
        {
          "output_type": "stream",
          "name": "stdout",
          "text": [
            "Logical AND: True\n",
            "Logical OR: True\n",
            "Logical NOT: True\n"
          ]
        }
      ]
    },
    {
      "cell_type": "markdown",
      "source": [
        "## **Bitwise Operator**\n",
        "- **Bitwise AND Operator:**\n",
        "Python Bitwise AND (&) operator takes two equal-length bit patterns as parameters.\n",
        "The two-bit integers are compared. If the bits in the compared positions of the bit patterns are 1, then the resulting bit is 1. If not, it is 0.\n",
        "- **Bitwise OR Operator:**\n",
        "The Python Bitwise OR (|) Operator takes two equivalent length bit designs as boundaries; if the two bits in the looked-at position are 0, the next bit is zero. If not, it is 1.\n",
        "- **Bitwise NOT Operator:**\n",
        "The preceding three bitwise operators are binary operators, necessitating two operands to function.\n",
        "However, unlike the others, this operator operates with only one operand.\n",
        "- **Bitwise XOR Operator:**\n",
        "The Python Bitwise XOR (^) Operator also known as the exclusive OR operator, is used to perform the XOR operation on two operands.\n",
        "XOR stands for \"exclusive or\", and it returns true if and only if exactly one of the operands is true.\n",
        "In the context of bitwise operations, it compares corresponding bits of two operands. If the bits are different, it returns 1; otherwise, it returns 0.\n",
        "- **Bitwise Not (~) Operator :**\n",
        "It works with a single value and returns its one’s complement.\n",
        "This means it toggles all bits in the value, transforming 0 bits to 1 and 1 bits to 0, resulting in the one’s complement of the binary number.\n",
        "- **BITWISE SHIFT:**\n",
        "These operators are used to shift the bits of a number left or right thereby multiplying or dividing the number by two respectively. They can be used when we have to multiply or divide a number by two.\n",
        " - **BITWISE RIGHT SHIFT:**\n",
        "Shifts the bits of the number to the right and fills 0 on voids left( fills 1 in the case of a negative number) as a result.\n",
        " - **BITWISE LEFT SHIFT:**\n",
        "Shifts the bits of the number to the left and fills 0 on voids right as a result.\n"
      ],
      "metadata": {
        "id": "13JXDxmGT0Kq"
      }
    },
    {
      "cell_type": "code",
      "source": [
        "# Bitwise AND Operator\n",
        "a = 0b1010\n",
        "b = 0b1100\n",
        "result = a & b\n",
        "print(a)\n",
        "print(b)\n",
        "print(\"Bitwise AND: \", bin(result))"
      ],
      "metadata": {
        "colab": {
          "base_uri": "https://localhost:8080/"
        },
        "id": "EdBYIe-5RLY3",
        "outputId": "c9afcece-d923-421a-ee74-cb100bee7145"
      },
      "execution_count": null,
      "outputs": [
        {
          "output_type": "stream",
          "name": "stdout",
          "text": [
            "10\n",
            "12\n",
            "Bitwise AND:  0b1000\n"
          ]
        }
      ]
    },
    {
      "cell_type": "code",
      "source": [
        "# Bitwise OR Operator\n",
        "a = 0b1010\n",
        "b = 0b1100\n",
        "result = a | b\n",
        "print(a)\n",
        "print(b)\n",
        "print(\"Bitwise OR: \", bin(result))"
      ],
      "metadata": {
        "colab": {
          "base_uri": "https://localhost:8080/"
        },
        "id": "_eqalWIjRLfS",
        "outputId": "c3dac2c8-772c-44d1-c13c-d14f320ad33f"
      },
      "execution_count": null,
      "outputs": [
        {
          "output_type": "stream",
          "name": "stdout",
          "text": [
            "10\n",
            "12\n",
            "Bitwise OR:  0b1110\n"
          ]
        }
      ]
    },
    {
      "cell_type": "code",
      "source": [
        "# Bitwise RIGHT SHIFT Operator\n",
        "a = 0b1010\n",
        "result = a >> 2\n",
        "print(a)\n",
        "print(\"Bitwise RIGHT SHIFT: \", bin(result))"
      ],
      "metadata": {
        "colab": {
          "base_uri": "https://localhost:8080/"
        },
        "id": "lNBhqIt-RLnC",
        "outputId": "9537f799-efc4-4965-b943-f08d8ef7ff86"
      },
      "execution_count": null,
      "outputs": [
        {
          "output_type": "stream",
          "name": "stdout",
          "text": [
            "10\n",
            "Bitwise RIGHT SHIFT:  0b10\n"
          ]
        }
      ]
    },
    {
      "cell_type": "code",
      "source": [
        "# Bitwise LEFT SHIFT Operator\n",
        "b = 0b1100\n",
        "result = b << 2\n",
        "print(b)\n",
        "print(\"Bitwise LEFT SHIFT: \", bin(result))"
      ],
      "metadata": {
        "colab": {
          "base_uri": "https://localhost:8080/"
        },
        "id": "7Ys5RE8NRLtH",
        "outputId": "2e406e59-7668-4a53-8ad2-ca17ee7a93c2"
      },
      "execution_count": null,
      "outputs": [
        {
          "output_type": "stream",
          "name": "stdout",
          "text": [
            "12\n",
            "Bitwise LEFT SHIFT:  0b110000\n"
          ]
        }
      ]
    },
    {
      "cell_type": "code",
      "source": [
        "# Bitwise NOT Operator\n",
        "c = 0b1101\n",
        "result = ~c\n",
        "print(c)\n",
        "print(\"Bitwise NOT: \", bin(result))"
      ],
      "metadata": {
        "colab": {
          "base_uri": "https://localhost:8080/"
        },
        "id": "fA_VzOM8RLzK",
        "outputId": "344db987-7294-4933-9d25-efb9f023a180"
      },
      "execution_count": null,
      "outputs": [
        {
          "output_type": "stream",
          "name": "stdout",
          "text": [
            "13\n",
            "Bitwise NOT:  -0b1110\n"
          ]
        }
      ]
    },
    {
      "cell_type": "code",
      "source": [
        "# Bitwise XOR Operator\n",
        "d = 0b1111\n",
        "c = 0b1101\n",
        "result = c ^ d\n",
        "print(c)\n",
        "print(d)\n",
        "print(\"Bitwise XOR: \", bin(result))"
      ],
      "metadata": {
        "colab": {
          "base_uri": "https://localhost:8080/"
        },
        "id": "mwJifv_2RL4v",
        "outputId": "74028d02-35f3-4b5b-95b3-12f6f3d354e7"
      },
      "execution_count": null,
      "outputs": [
        {
          "output_type": "stream",
          "name": "stdout",
          "text": [
            "13\n",
            "15\n",
            "Bitwise XOR:  0b10\n"
          ]
        }
      ]
    },
    {
      "cell_type": "markdown",
      "source": [
        "## **Assignment Operators**\n",
        "- used to assign values to the variables\n",
        "- '=' , '+=' , '-=' , '/=' , '%=' , '//=' , '*=' , '**=' , '&='\n",
        ", '|=' , '^=' , '>>=' , '<<='"
      ],
      "metadata": {
        "id": "KFmpiOnQeAE4"
      }
    },
    {
      "cell_type": "code",
      "source": [
        "x = 5\n",
        "x += 3\n",
        "print(x)"
      ],
      "metadata": {
        "colab": {
          "base_uri": "https://localhost:8080/"
        },
        "id": "lxJlr4Hqd3Bv",
        "outputId": "0ff9e58e-1efa-4429-98f2-463f93faf9ba"
      },
      "execution_count": null,
      "outputs": [
        {
          "output_type": "stream",
          "name": "stdout",
          "text": [
            "8\n"
          ]
        }
      ]
    },
    {
      "cell_type": "code",
      "source": [
        "x -= 2\n",
        "print(x)"
      ],
      "metadata": {
        "colab": {
          "base_uri": "https://localhost:8080/"
        },
        "id": "0X4Wfk0Rd3eX",
        "outputId": "5f2e4c5c-05da-4056-db24-1703bc833fd8"
      },
      "execution_count": null,
      "outputs": [
        {
          "output_type": "stream",
          "name": "stdout",
          "text": [
            "6\n"
          ]
        }
      ]
    },
    {
      "cell_type": "code",
      "source": [
        "x *= 5\n",
        "print(x)"
      ],
      "metadata": {
        "colab": {
          "base_uri": "https://localhost:8080/"
        },
        "id": "s54Tght_d3ua",
        "outputId": "6a3d11e5-f408-4526-bac1-4d789a16e01b"
      },
      "execution_count": null,
      "outputs": [
        {
          "output_type": "stream",
          "name": "stdout",
          "text": [
            "30\n"
          ]
        }
      ]
    },
    {
      "cell_type": "code",
      "source": [
        "x /= 2\n",
        "print(x)"
      ],
      "metadata": {
        "colab": {
          "base_uri": "https://localhost:8080/"
        },
        "id": "hV0FuI70d3yD",
        "outputId": "e0e7db2c-d573-432b-c193-4ed48d933aa4"
      },
      "execution_count": null,
      "outputs": [
        {
          "output_type": "stream",
          "name": "stdout",
          "text": [
            "15.0\n"
          ]
        }
      ]
    },
    {
      "cell_type": "code",
      "source": [
        "x %= 3\n",
        "print(x)"
      ],
      "metadata": {
        "colab": {
          "base_uri": "https://localhost:8080/"
        },
        "id": "jveGMzm7d31D",
        "outputId": "80341a62-7a39-436c-caf4-0873da97b2c6"
      },
      "execution_count": null,
      "outputs": [
        {
          "output_type": "stream",
          "name": "stdout",
          "text": [
            "0.0\n"
          ]
        }
      ]
    },
    {
      "cell_type": "code",
      "source": [
        "x = 20\n",
        "x //= 3\n",
        "print(x)"
      ],
      "metadata": {
        "colab": {
          "base_uri": "https://localhost:8080/"
        },
        "id": "hCc4UY3Bd33W",
        "outputId": "81add88a-5d91-4a94-ebd1-3c4a0b0d9c95"
      },
      "execution_count": null,
      "outputs": [
        {
          "output_type": "stream",
          "name": "stdout",
          "text": [
            "6\n"
          ]
        }
      ]
    },
    {
      "cell_type": "code",
      "source": [
        "x = 36\n",
        "x **= 2\n",
        "print(x)"
      ],
      "metadata": {
        "colab": {
          "base_uri": "https://localhost:8080/"
        },
        "id": "oocL91POd37I",
        "outputId": "de0e5868-99ee-45a8-a7ea-454b9d17dc1b"
      },
      "execution_count": null,
      "outputs": [
        {
          "output_type": "stream",
          "name": "stdout",
          "text": [
            "1296\n"
          ]
        }
      ]
    },
    {
      "cell_type": "code",
      "source": [
        "x = 43\n",
        "x &= 10\n",
        "print(x)"
      ],
      "metadata": {
        "colab": {
          "base_uri": "https://localhost:8080/"
        },
        "id": "Z2iRX_Cid4Up",
        "outputId": "1e4abe4b-841a-4dba-daf7-b730d18cd3bb"
      },
      "execution_count": null,
      "outputs": [
        {
          "output_type": "stream",
          "name": "stdout",
          "text": [
            "10\n"
          ]
        }
      ]
    },
    {
      "cell_type": "code",
      "source": [
        "x = 59\n",
        "x |= 2\n",
        "print(x)"
      ],
      "metadata": {
        "colab": {
          "base_uri": "https://localhost:8080/"
        },
        "id": "hvJyvMLZgi96",
        "outputId": "57f470d5-4562-447a-ecd0-bc88d8103112"
      },
      "execution_count": null,
      "outputs": [
        {
          "output_type": "stream",
          "name": "stdout",
          "text": [
            "59\n"
          ]
        }
      ]
    },
    {
      "cell_type": "code",
      "source": [
        "x = 45\n",
        "x ^= 3\n",
        "print(x)"
      ],
      "metadata": {
        "colab": {
          "base_uri": "https://localhost:8080/"
        },
        "id": "drWTl7ntgjSm",
        "outputId": "5dfbebcc-d2d7-4ef0-c8ae-44b553c01884"
      },
      "execution_count": null,
      "outputs": [
        {
          "output_type": "stream",
          "name": "stdout",
          "text": [
            "46\n"
          ]
        }
      ]
    },
    {
      "cell_type": "code",
      "source": [
        "x = 278\n",
        "x >>= 2\n",
        "print(x)"
      ],
      "metadata": {
        "colab": {
          "base_uri": "https://localhost:8080/"
        },
        "id": "25jWRRU4gjal",
        "outputId": "db268bb5-e500-4947-d559-1a263d69c47c"
      },
      "execution_count": null,
      "outputs": [
        {
          "output_type": "stream",
          "name": "stdout",
          "text": [
            "69\n"
          ]
        }
      ]
    },
    {
      "cell_type": "code",
      "source": [
        "x = 376\n",
        "x <<= 2\n",
        "print(x)"
      ],
      "metadata": {
        "colab": {
          "base_uri": "https://localhost:8080/"
        },
        "id": "hLZrfQF4gjid",
        "outputId": "557c49e5-9c42-48db-b7cb-3f6d9479552b"
      },
      "execution_count": null,
      "outputs": [
        {
          "output_type": "stream",
          "name": "stdout",
          "text": [
            "1504\n"
          ]
        }
      ]
    },
    {
      "cell_type": "markdown",
      "source": [
        "## **Identity Operators**\n",
        "\n",
        "- In Python, is and is not are the identity operators both are used to check if two values are located on the same part of the memory.\n",
        "- Two variables that are equal do not imply that they are identical.\n",
        "is True if the operands are identical\n",
        "is not True if the operands are not identical"
      ],
      "metadata": {
        "id": "lRMEnwdDhDk0"
      }
    },
    {
      "cell_type": "code",
      "source": [
        "a = 30\n",
        "b = 20\n",
        "c = a\n",
        "print(a is not b)\n",
        "print(a is c)"
      ],
      "metadata": {
        "colab": {
          "base_uri": "https://localhost:8080/"
        },
        "id": "pDXkY_CVhN2t",
        "outputId": "4aff83f6-3bf4-4df5-cce4-d66491a6aa23"
      },
      "execution_count": null,
      "outputs": [
        {
          "output_type": "stream",
          "name": "stdout",
          "text": [
            "True\n",
            "True\n"
          ]
        }
      ]
    },
    {
      "cell_type": "markdown",
      "source": [
        "## **Membership Operators**\n",
        "- In Python, 'in' and 'not in' are the membership operators that are used to test whether a value or variable is in a sequence.\n",
        "- 'in' - True if value is found in the sequence\n",
        "- 'not in' - True if value is not found in the sequence\n"
      ],
      "metadata": {
        "id": "gSHa_-y9hd_z"
      }
    },
    {
      "cell_type": "code",
      "source": [
        "x = 24\n",
        "y = 20\n",
        "list = [10, 20, 30, 40, 50]\n",
        "if (x not in list):\n",
        "   print(\"x is NOT present in given list\")\n",
        "else:\n",
        "   print(\"x is present in given list\")\n",
        "\n",
        "if (y in list):\n",
        "   print(\"y is present in given list\")\n",
        "else:\n",
        "   print(\"y is NOT present in given list\")"
      ],
      "metadata": {
        "colab": {
          "base_uri": "https://localhost:8080/"
        },
        "id": "utFXN2oMhOZO",
        "outputId": "1a2edd02-8cad-46ee-e2e6-96fca4061efa"
      },
      "execution_count": null,
      "outputs": [
        {
          "output_type": "stream",
          "name": "stdout",
          "text": [
            "x is NOT present in given list\n",
            "y is present in given list\n"
          ]
        }
      ]
    },
    {
      "cell_type": "markdown",
      "source": [
        "## **Precedence Operator**\n",
        "- used in an expression with more than one operator with different precedence to determine which operation to perform first"
      ],
      "metadata": {
        "id": "bl_XjhPbDb71"
      }
    },
    {
      "cell_type": "code",
      "source": [
        "# Precedence of 'or' & 'and'\n",
        "name = 'Saniya'\n",
        "age = 20\n",
        "if name == 'Saniya' or name == 'Zahid' and age == 20:\n",
        "  print('Hello Saniya!')\n",
        "else:\n",
        "  print('Good Bye!')"
      ],
      "metadata": {
        "id": "G4rqKrvChOb7",
        "colab": {
          "base_uri": "https://localhost:8080/"
        },
        "outputId": "36190d66-3a05-4b62-edc9-0d26dccb3f3b"
      },
      "execution_count": 1,
      "outputs": [
        {
          "output_type": "stream",
          "name": "stdout",
          "text": [
            "Hello Saniya!\n"
          ]
        }
      ]
    },
    {
      "cell_type": "code",
      "source": [
        "# Pecedence of '+' & '*'\n",
        "a = 10 + 20 * 30\n",
        "print(a)"
      ],
      "metadata": {
        "id": "utBrvusuhOeF",
        "colab": {
          "base_uri": "https://localhost:8080/"
        },
        "outputId": "a8d8d528-f96f-4614-a55f-cf51378f9f15"
      },
      "execution_count": 2,
      "outputs": [
        {
          "output_type": "stream",
          "name": "stdout",
          "text": [
            "610\n"
          ]
        }
      ]
    },
    {
      "cell_type": "markdown",
      "source": [
        "## **Associativity Operator**\n",
        "- If an expression contains two or more operators with the same precedence then Operator Associativity is used\n",
        "to determine.\n",
        "- It can either be Left to Right or from Right to Left.\n"
      ],
      "metadata": {
        "id": "AB10sMigE1Nk"
      }
    },
    {
      "cell_type": "code",
      "source": [
        "# Example:\n",
        "# In this code, '*' and '/' have the same precedence and their associativity is Left to Right,\n",
        "# so the expression \"100 / 10 * 10\" is treated as \"(100 / 10) * 10\".\n",
        "m = 100 / 10 * 10\n",
        "print(m)"
      ],
      "metadata": {
        "id": "KUsTdyUmhOgY",
        "colab": {
          "base_uri": "https://localhost:8080/"
        },
        "outputId": "42672794-0fa8-4c8d-f3c1-979d2ae7e89a"
      },
      "execution_count": 3,
      "outputs": [
        {
          "output_type": "stream",
          "name": "stdout",
          "text": [
            "100.0\n"
          ]
        }
      ]
    }
  ]
}