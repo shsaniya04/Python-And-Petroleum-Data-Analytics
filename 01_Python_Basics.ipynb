{
  "nbformat": 4,
  "nbformat_minor": 0,
  "metadata": {
    "colab": {
      "provenance": []
    },
    "kernelspec": {
      "name": "python3",
      "display_name": "Python 3"
    },
    "language_info": {
      "name": "python"
    }
  },
  "cells": [
    {
      "cell_type": "code",
      "execution_count": 1,
      "metadata": {
        "colab": {
          "base_uri": "https://localhost:8080/"
        },
        "id": "kZTvVOV9f6Vs",
        "outputId": "19122495-e9cc-4d27-cb7c-ccc8901cc0b0"
      },
      "outputs": [
        {
          "output_type": "stream",
          "name": "stdout",
          "text": [
            "Hello World!\n"
          ]
        }
      ],
      "source": [
        "print(\"Hello World!\")"
      ]
    },
    {
      "cell_type": "markdown",
      "source": [
        "### **Input Values**"
      ],
      "metadata": {
        "id": "pBNxtePpCEvI"
      }
    },
    {
      "cell_type": "code",
      "source": [
        "name = input(\"Enter your name: \")\n",
        "print(\"Hello\",name, \"! Welcome\")"
      ],
      "metadata": {
        "colab": {
          "base_uri": "https://localhost:8080/"
        },
        "id": "CLxDO8ffhvLQ",
        "outputId": "5d585a34-f3ca-4967-9f29-1eb3549bc659"
      },
      "execution_count": 2,
      "outputs": [
        {
          "output_type": "stream",
          "name": "stdout",
          "text": [
            "Enter your name: Saniya\n",
            "Hello Saniya ! Welcome\n"
          ]
        }
      ]
    },
    {
      "cell_type": "code",
      "source": [
        "a = \"Petroleum\"\n",
        "print(a)"
      ],
      "metadata": {
        "colab": {
          "base_uri": "https://localhost:8080/"
        },
        "id": "4L6I1jpwhvpD",
        "outputId": "f3f056d3-728e-4207-9f85-92910919c66c"
      },
      "execution_count": 3,
      "outputs": [
        {
          "output_type": "stream",
          "name": "stdout",
          "text": [
            "Petroleum\n"
          ]
        }
      ]
    },
    {
      "cell_type": "code",
      "source": [
        "b = \"Statistics\"\n",
        "c = \"Testing\"\n",
        "print(a,b,c)"
      ],
      "metadata": {
        "colab": {
          "base_uri": "https://localhost:8080/"
        },
        "id": "GA_vhU9Zhvzj",
        "outputId": "2f1acf3c-6396-489e-e536-12f709377a87"
      },
      "execution_count": 4,
      "outputs": [
        {
          "output_type": "stream",
          "name": "stdout",
          "text": [
            "Petroleum Statistics Testing\n"
          ]
        }
      ]
    },
    {
      "cell_type": "code",
      "source": [
        "x, y = input(\"enter two values: \").split()"
      ],
      "metadata": {
        "colab": {
          "base_uri": "https://localhost:8080/"
        },
        "id": "3UVE-7MGhv7_",
        "outputId": "6b3e5cf6-40e3-4558-fbc9-81c9d7431155"
      },
      "execution_count": 5,
      "outputs": [
        {
          "name": "stdout",
          "output_type": "stream",
          "text": [
            "enter two values: 27 54\n"
          ]
        }
      ]
    },
    {
      "cell_type": "code",
      "source": [
        "print(x)\n",
        "print(y)"
      ],
      "metadata": {
        "colab": {
          "base_uri": "https://localhost:8080/"
        },
        "id": "CqD--I3YhwHi",
        "outputId": "544cfc24-627c-46b5-8a57-b5276b451174"
      },
      "execution_count": 6,
      "outputs": [
        {
          "output_type": "stream",
          "name": "stdout",
          "text": [
            "27\n",
            "54\n"
          ]
        }
      ]
    },
    {
      "cell_type": "markdown",
      "source": [
        "### **Data Type**"
      ],
      "metadata": {
        "id": "KVEVpq1kCAqX"
      }
    },
    {
      "cell_type": "code",
      "source": [
        "a = \"Hello World!\"\n",
        "b = 10\n",
        "c = 10.58\n",
        "d = (\"Petroleum\", \"Data\", \"Analytics\")\n",
        "e = ['Petroleum', 'Data', 'Analytics']\n",
        "f = {\"Porosity\" : 30, \"Permeability\" : 45, \"WaterSturation\" : 95}"
      ],
      "metadata": {
        "id": "ZfK-1fd6hwMK"
      },
      "execution_count": 7,
      "outputs": []
    },
    {
      "cell_type": "code",
      "source": [
        "print(type(a))\n",
        "print(type(b))\n",
        "print(type(c))\n",
        "print(type(d))\n",
        "print(type(e))\n",
        "print(type(f))"
      ],
      "metadata": {
        "colab": {
          "base_uri": "https://localhost:8080/"
        },
        "id": "3VrWJriEhwVk",
        "outputId": "5192c270-a785-4c78-8b8c-9efef5b9f630"
      },
      "execution_count": 8,
      "outputs": [
        {
          "output_type": "stream",
          "name": "stdout",
          "text": [
            "<class 'str'>\n",
            "<class 'int'>\n",
            "<class 'float'>\n",
            "<class 'tuple'>\n",
            "<class 'list'>\n",
            "<class 'dict'>\n"
          ]
        }
      ]
    },
    {
      "cell_type": "markdown",
      "source": [
        "### **Output Formatting**"
      ],
      "metadata": {
        "id": "sx5-eHfnB6Wl"
      }
    },
    {
      "cell_type": "code",
      "source": [
        "# Using Format()\n",
        "amount = 155.5506\n",
        "print(\"The amount is ${:.2f}\".format(amount))"
      ],
      "metadata": {
        "colab": {
          "base_uri": "https://localhost:8080/"
        },
        "id": "ALlRh4r3hwmI",
        "outputId": "74745d42-522e-4fec-88f5-560f8869fa1c"
      },
      "execution_count": 9,
      "outputs": [
        {
          "output_type": "stream",
          "name": "stdout",
          "text": [
            "The amount is $155.55\n"
          ]
        }
      ]
    },
    {
      "cell_type": "code",
      "source": [
        "# Using sep and end parameter\n",
        "print(\"Python\", end = \"@\")\n",
        "print(\"Analytics\")\n",
        "print('P', 'D', 'A', sep = ' ')\n",
        "print('04','05','2005', sep = \"-\")"
      ],
      "metadata": {
        "colab": {
          "base_uri": "https://localhost:8080/"
        },
        "id": "411hdMFihwux",
        "outputId": "720d8184-4a3c-4c4f-983c-b6a09732a96a"
      },
      "execution_count": 10,
      "outputs": [
        {
          "output_type": "stream",
          "name": "stdout",
          "text": [
            "Python@Analytics\n",
            "P D A\n",
            "04-05-2005\n"
          ]
        }
      ]
    },
    {
      "cell_type": "code",
      "source": [
        "# Using f-string\n",
        "name = \"Saniya\"\n",
        "dept = \"Data Science\"\n",
        "print(f\"Hello {name}! Welcome to {dept}\")"
      ],
      "metadata": {
        "colab": {
          "base_uri": "https://localhost:8080/"
        },
        "id": "v0WtpTzEhw3L",
        "outputId": "5d9e88c4-348f-4eec-acee-edf845772927"
      },
      "execution_count": 11,
      "outputs": [
        {
          "output_type": "stream",
          "name": "stdout",
          "text": [
            "Hello Saniya! Welcome to Data Science\n"
          ]
        }
      ]
    },
    {
      "cell_type": "markdown",
      "source": [
        "### **Assigning Variables**"
      ],
      "metadata": {
        "id": "FS8leVu5D18B"
      }
    },
    {
      "cell_type": "code",
      "source": [
        "a = 10\n",
        "b = \"Saniya\"\n",
        "c = 16.25\n",
        "print(a,b,c)"
      ],
      "metadata": {
        "colab": {
          "base_uri": "https://localhost:8080/"
        },
        "id": "Q8VUpUpuhw9H",
        "outputId": "6388f9ff-ff54-48ea-8087-07102c58e2ac"
      },
      "execution_count": 12,
      "outputs": [
        {
          "output_type": "stream",
          "name": "stdout",
          "text": [
            "10 Saniya 16.25\n"
          ]
        }
      ]
    },
    {
      "cell_type": "code",
      "source": [
        "# Dynamic Typing\n",
        "x = 156\n",
        "x = \"Now a string\"\n",
        "print(x)"
      ],
      "metadata": {
        "colab": {
          "base_uri": "https://localhost:8080/"
        },
        "id": "bc50GD5ehxC4",
        "outputId": "79b00111-a067-431c-c511-7e2599298a36"
      },
      "execution_count": 13,
      "outputs": [
        {
          "output_type": "stream",
          "name": "stdout",
          "text": [
            "Now a string\n"
          ]
        }
      ]
    },
    {
      "cell_type": "code",
      "source": [
        "# Multiple Assignment\n",
        "a = b = c = 10\n",
        "print(a,b,c)"
      ],
      "metadata": {
        "colab": {
          "base_uri": "https://localhost:8080/"
        },
        "id": "sBt5wUAjhxH4",
        "outputId": "564eef59-d830-4d19-8fd9-4e8f5b03f1f6"
      },
      "execution_count": 14,
      "outputs": [
        {
          "output_type": "stream",
          "name": "stdout",
          "text": [
            "10 10 10\n"
          ]
        }
      ]
    },
    {
      "cell_type": "code",
      "source": [
        "# Assigning Different Values\n",
        "x, y, z = 10, 20, \"Thirty\"\n",
        "print(x,y,z)"
      ],
      "metadata": {
        "colab": {
          "base_uri": "https://localhost:8080/"
        },
        "id": "-khG93puhxMz",
        "outputId": "6a479c4c-e158-4802-aa33-98415cb6caad"
      },
      "execution_count": 15,
      "outputs": [
        {
          "output_type": "stream",
          "name": "stdout",
          "text": [
            "10 20 Thirty\n"
          ]
        }
      ]
    },
    {
      "cell_type": "markdown",
      "source": [
        "### **Type casting**\n",
        "- process of converting the value of one data type into another"
      ],
      "metadata": {
        "id": "G56faPBZE3pu"
      }
    },
    {
      "cell_type": "code",
      "source": [
        "m = \"15\"\n",
        "print(type(m))\n",
        "n = int(m)\n",
        "print(type(n))"
      ],
      "metadata": {
        "colab": {
          "base_uri": "https://localhost:8080/"
        },
        "id": "7j954Vy5Ez3F",
        "outputId": "b3708101-401c-45c7-cf8e-68962acad8c1"
      },
      "execution_count": 16,
      "outputs": [
        {
          "output_type": "stream",
          "name": "stdout",
          "text": [
            "<class 'str'>\n",
            "<class 'int'>\n"
          ]
        }
      ]
    },
    {
      "cell_type": "code",
      "source": [
        "o = 5\n",
        "print(type(o))\n",
        "p = float(o)\n",
        "print(type(p))\n",
        "print(p)"
      ],
      "metadata": {
        "colab": {
          "base_uri": "https://localhost:8080/"
        },
        "id": "8l_yWBVYEzxW",
        "outputId": "095f2d26-2a71-4084-de86-1a2981e274e5"
      },
      "execution_count": 17,
      "outputs": [
        {
          "output_type": "stream",
          "name": "stdout",
          "text": [
            "<class 'int'>\n",
            "<class 'float'>\n",
            "5.0\n"
          ]
        }
      ]
    },
    {
      "cell_type": "markdown",
      "source": [
        "### **Scope of a Variable**\n",
        "- There are two methods how we define scope of a variable in python which are local and global.\n",
        "- Local Variables:\n",
        "Variables defined inside a function are local to that function.\n",
        "- Global Variables:\n",
        "Variables defined outside any function are global and can be accessed inside functions using the global keyword.\n"
      ],
      "metadata": {
        "id": "mp4oDx2oFlWO"
      }
    },
    {
      "cell_type": "code",
      "source": [
        "def func():\n",
        "  a = \"Local Variable\"\n",
        "  print(a)\n",
        "\n",
        "func()"
      ],
      "metadata": {
        "colab": {
          "base_uri": "https://localhost:8080/"
        },
        "id": "CiplL8KOEzoj",
        "outputId": "a50442ca-7c6d-4295-d5e5-36d1e1c7ef94"
      },
      "execution_count": 18,
      "outputs": [
        {
          "output_type": "stream",
          "name": "stdout",
          "text": [
            "Local Variable\n"
          ]
        }
      ]
    },
    {
      "cell_type": "code",
      "source": [
        "a = \"Global Variable\"\n",
        "def func():\n",
        "  global a\n",
        "  a = \"Modified Global\"\n",
        "  print(a)\n",
        "func()\n",
        "print(a)"
      ],
      "metadata": {
        "colab": {
          "base_uri": "https://localhost:8080/"
        },
        "id": "nJckNzYVEzi3",
        "outputId": "d8d3d538-b1a1-42e1-8d89-67ecf63c86bd"
      },
      "execution_count": 19,
      "outputs": [
        {
          "output_type": "stream",
          "name": "stdout",
          "text": [
            "Modified Global\n",
            "Modified Global\n"
          ]
        }
      ]
    },
    {
      "cell_type": "markdown",
      "source": [
        "### **Delete a Variable Using del Keyword**"
      ],
      "metadata": {
        "id": "2uKRxbA4GnfR"
      }
    },
    {
      "cell_type": "code",
      "source": [
        "x = 1562034\n",
        "print(x)\n",
        "\n",
        "del x"
      ],
      "metadata": {
        "colab": {
          "base_uri": "https://localhost:8080/"
        },
        "id": "TBdAnu8AEzc4",
        "outputId": "dfa5ee47-b1ab-41f3-dabf-1376a7100e9a"
      },
      "execution_count": 20,
      "outputs": [
        {
          "output_type": "stream",
          "name": "stdout",
          "text": [
            "1562034\n"
          ]
        }
      ]
    },
    {
      "cell_type": "code",
      "source": [
        "print(x)"
      ],
      "metadata": {
        "colab": {
          "base_uri": "https://localhost:8080/",
          "height": 141
        },
        "id": "ZldMOoH6EzXc",
        "outputId": "f0ccd30d-fc44-4895-97ca-552b6cf2b01e"
      },
      "execution_count": 21,
      "outputs": [
        {
          "output_type": "error",
          "ename": "NameError",
          "evalue": "name 'x' is not defined",
          "traceback": [
            "\u001b[0;31m---------------------------------------------------------------------------\u001b[0m",
            "\u001b[0;31mNameError\u001b[0m                                 Traceback (most recent call last)",
            "\u001b[0;32m/tmp/ipython-input-1353120783.py\u001b[0m in \u001b[0;36m<cell line: 0>\u001b[0;34m()\u001b[0m\n\u001b[0;32m----> 1\u001b[0;31m \u001b[0mprint\u001b[0m\u001b[0;34m(\u001b[0m\u001b[0mx\u001b[0m\u001b[0;34m)\u001b[0m\u001b[0;34m\u001b[0m\u001b[0;34m\u001b[0m\u001b[0m\n\u001b[0m",
            "\u001b[0;31mNameError\u001b[0m: name 'x' is not defined"
          ]
        }
      ]
    }
  ]
}