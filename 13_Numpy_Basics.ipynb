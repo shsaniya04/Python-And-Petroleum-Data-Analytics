{
  "nbformat": 4,
  "nbformat_minor": 0,
  "metadata": {
    "colab": {
      "provenance": [],
      "authorship_tag": "ABX9TyM+lFDTzqZ0X1JD11M+woQH"
    },
    "kernelspec": {
      "name": "python3",
      "display_name": "Python 3"
    },
    "language_info": {
      "name": "python"
    }
  },
  "cells": [
    {
      "cell_type": "markdown",
      "source": [
        "# **Python - Numpy Basics**"
      ],
      "metadata": {
        "id": "o6smCk7UzLQg"
      }
    },
    {
      "cell_type": "code",
      "execution_count": 2,
      "metadata": {
        "id": "c-OSs-330NYP"
      },
      "outputs": [],
      "source": [
        "import numpy as np"
      ]
    },
    {
      "cell_type": "markdown",
      "source": [
        "### **Numpy Array**"
      ],
      "metadata": {
        "id": "0NyCUldDzlhC"
      }
    },
    {
      "cell_type": "code",
      "source": [
        "# 1D Array\n",
        "a = np.array([1,2,3,4,5])\n",
        "print(a)"
      ],
      "metadata": {
        "colab": {
          "base_uri": "https://localhost:8080/"
        },
        "id": "lnz5e-AgzT35",
        "outputId": "c3e78554-d29e-4289-9e05-b69b12756fb3"
      },
      "execution_count": 3,
      "outputs": [
        {
          "output_type": "stream",
          "name": "stdout",
          "text": [
            "[1 2 3 4 5]\n"
          ]
        }
      ]
    },
    {
      "cell_type": "code",
      "source": [
        "# 2D Array\n",
        "b = np.array([\n",
        "    [1,2,3,4,5],\n",
        "    [1,2,3,4,5]\n",
        "])\n",
        "print(b)\n"
      ],
      "metadata": {
        "colab": {
          "base_uri": "https://localhost:8080/"
        },
        "id": "D5AGl8xmzT7p",
        "outputId": "6d7206e5-a5fe-4266-b587-9346e2d2e83a"
      },
      "execution_count": 4,
      "outputs": [
        {
          "output_type": "stream",
          "name": "stdout",
          "text": [
            "[[1 2 3 4 5]\n",
            " [1 2 3 4 5]]\n"
          ]
        }
      ]
    },
    {
      "cell_type": "code",
      "source": [
        "# 3D Array\n",
        "c = np.array([[\n",
        "    [1,2,3,4,5],\n",
        "    [1,2,3,4,5]],\n",
        "    [[1,2,3,4,5],\n",
        "    [1,2,3,4,5]],\n",
        "    [[1,2,3,4,5],\n",
        "    [1,2,3,4,5]\n",
        "    ]])\n",
        "print(c)"
      ],
      "metadata": {
        "colab": {
          "base_uri": "https://localhost:8080/"
        },
        "id": "QSvU9QQQzT_x",
        "outputId": "7ae04a72-3878-4537-d7c4-12c36dc85c2f"
      },
      "execution_count": 5,
      "outputs": [
        {
          "output_type": "stream",
          "name": "stdout",
          "text": [
            "[[[1 2 3 4 5]\n",
            "  [1 2 3 4 5]]\n",
            "\n",
            " [[1 2 3 4 5]\n",
            "  [1 2 3 4 5]]\n",
            "\n",
            " [[1 2 3 4 5]\n",
            "  [1 2 3 4 5]]]\n"
          ]
        }
      ]
    },
    {
      "cell_type": "markdown",
      "source": [
        "### **Array Attributes**"
      ],
      "metadata": {
        "id": "38J90GvBRsDW"
      }
    },
    {
      "cell_type": "code",
      "source": [
        "import pandas as pd\n",
        "import numpy as np\n",
        "\n",
        "arr = np.array([[1,2,3], [4,5,6]])\n",
        "print(arr)\n",
        "\n",
        "print(\"Shape:\", arr.shape)\n",
        "print(\"Dimension: \", arr.ndim)\n",
        "print(\"Size: \", arr.size)\n",
        "print(\"Data Type: \", arr.dtype)\n",
        "print(\"Item Size: \", arr.itemsize)"
      ],
      "metadata": {
        "id": "edy_n0ppzUDm",
        "colab": {
          "base_uri": "https://localhost:8080/"
        },
        "outputId": "9316ead5-83af-46f1-b0b7-c20ef22fb9a4"
      },
      "execution_count": 6,
      "outputs": [
        {
          "output_type": "stream",
          "name": "stdout",
          "text": [
            "[[1 2 3]\n",
            " [4 5 6]]\n",
            "Shape: (2, 3)\n",
            "Dimension:  2\n",
            "Size:  6\n",
            "Data Type:  int64\n",
            "Item Size:  8\n"
          ]
        }
      ]
    },
    {
      "cell_type": "code",
      "source": [
        "# Integer data type\n",
        "arr1 = np.array([[1,2],[3,4]])\n",
        "print(arr1.dtype)\n",
        "\n",
        "# Float data type\n",
        "arr2 = np.array([[1.0,2.0],[3.0,4.0]])\n",
        "print(arr2.dtype)\n",
        "\n",
        "# Forced data type\n",
        "arr3 = np.array([1,2,3,4], dtype = np.int64)\n",
        "print(arr3.dtype)"
      ],
      "metadata": {
        "colab": {
          "base_uri": "https://localhost:8080/"
        },
        "id": "fSj5J120pDrj",
        "outputId": "94eab1f6-5765-4516-8ff7-42ca9fb917c3"
      },
      "execution_count": 7,
      "outputs": [
        {
          "output_type": "stream",
          "name": "stdout",
          "text": [
            "int64\n",
            "float64\n",
            "int64\n"
          ]
        }
      ]
    },
    {
      "cell_type": "markdown",
      "source": [
        "### **Array Indexing**"
      ],
      "metadata": {
        "id": "kjNzG6Z9Rw1I"
      }
    },
    {
      "cell_type": "code",
      "source": [
        "# Accessing Numpy Array Elements\n",
        "arr = np.arange(40,20,-2)\n",
        "print(\"Elements: \", arr)\n",
        "\n",
        "arr_ind = arr[np.array([3,1,2])]\n",
        "print(\"Indices: \",arr_ind)"
      ],
      "metadata": {
        "colab": {
          "base_uri": "https://localhost:8080/"
        },
        "id": "Z1saupV_pD9h",
        "outputId": "25517a17-2b88-477a-856b-bf9f54f3bd14"
      },
      "execution_count": 8,
      "outputs": [
        {
          "output_type": "stream",
          "name": "stdout",
          "text": [
            "Elements:  [40 38 36 34 32 30 28 26 24 22]\n",
            "Indices:  [34 38 36]\n"
          ]
        }
      ]
    },
    {
      "cell_type": "code",
      "source": [
        "num = np.arange(15)\n",
        "print(\"Array: \", num)\n",
        "\n",
        "print(\"num[12]: \", num[12])"
      ],
      "metadata": {
        "id": "3P_v6avvpEAy",
        "colab": {
          "base_uri": "https://localhost:8080/"
        },
        "outputId": "8ff37737-bc70-4269-cccc-205089fe7508"
      },
      "execution_count": 11,
      "outputs": [
        {
          "output_type": "stream",
          "name": "stdout",
          "text": [
            "Array:  [ 0  1  2  3  4  5  6  7  8  9 10 11 12 13 14]\n",
            "num[12]:  12\n"
          ]
        }
      ]
    },
    {
      "cell_type": "code",
      "source": [
        "num[0:]"
      ],
      "metadata": {
        "id": "c5_WvxRPpEEG",
        "colab": {
          "base_uri": "https://localhost:8080/"
        },
        "outputId": "bd55e475-2f39-4a79-a930-5fbd090fcf2a"
      },
      "execution_count": 12,
      "outputs": [
        {
          "output_type": "execute_result",
          "data": {
            "text/plain": [
              "array([ 0,  1,  2,  3,  4,  5,  6,  7,  8,  9, 10, 11, 12, 13, 14])"
            ]
          },
          "metadata": {},
          "execution_count": 12
        }
      ]
    },
    {
      "cell_type": "code",
      "source": [
        "num[-5:13:1]"
      ],
      "metadata": {
        "id": "UqR94tYrpEGw",
        "colab": {
          "base_uri": "https://localhost:8080/"
        },
        "outputId": "91066e59-2487-4514-8e45-b3309c2aa456"
      },
      "execution_count": 15,
      "outputs": [
        {
          "output_type": "execute_result",
          "data": {
            "text/plain": [
              "array([10, 11, 12])"
            ]
          },
          "metadata": {},
          "execution_count": 15
        }
      ]
    },
    {
      "cell_type": "code",
      "source": [
        "num[3:10:2]"
      ],
      "metadata": {
        "id": "B4K1fQgHpEKV",
        "colab": {
          "base_uri": "https://localhost:8080/"
        },
        "outputId": "baeabbb1-8323-4b2e-d00d-0952b60b5efe"
      },
      "execution_count": 18,
      "outputs": [
        {
          "output_type": "execute_result",
          "data": {
            "text/plain": [
              "array([3, 5, 7, 9])"
            ]
          },
          "metadata": {},
          "execution_count": 18
        }
      ]
    },
    {
      "cell_type": "code",
      "source": [
        "num1 = np.arange(10)\n",
        "print(num1)\n",
        "\n",
        "a = slice(2,7,2)\n",
        "print(num1[a])"
      ],
      "metadata": {
        "id": "LsHVV9ejpENe",
        "colab": {
          "base_uri": "https://localhost:8080/"
        },
        "outputId": "7ce7d3bf-66b2-431b-ef4b-e7b64fd23186"
      },
      "execution_count": 20,
      "outputs": [
        {
          "output_type": "stream",
          "name": "stdout",
          "text": [
            "[0 1 2 3 4 5 6 7 8 9]\n",
            "[2 4 6]\n"
          ]
        }
      ]
    },
    {
      "cell_type": "code",
      "source": [
        "# Integer Array Indexing / Advanced Indexing\n",
        "a = np.array([[1, 2], [3, 4], [5, 6]])\n",
        "print(a)\n",
        "\n",
        "print(a[[0, 1, 2], [1, 0, 0]])"
      ],
      "metadata": {
        "id": "EBe1HFZ7pEQ6",
        "colab": {
          "base_uri": "https://localhost:8080/"
        },
        "outputId": "5ae17156-eaf2-4710-dd91-432cb8394973"
      },
      "execution_count": 21,
      "outputs": [
        {
          "output_type": "stream",
          "name": "stdout",
          "text": [
            "[[1 2]\n",
            " [3 4]\n",
            " [5 6]]\n",
            "[2 3 5]\n"
          ]
        }
      ]
    },
    {
      "cell_type": "code",
      "source": [
        "# Boolean Indexing\n",
        "a = np.array([37,43,62,94,29,27])\n",
        "print(a[a<50])"
      ],
      "metadata": {
        "id": "LIfXYHyxpEUi",
        "colab": {
          "base_uri": "https://localhost:8080/"
        },
        "outputId": "740335a8-b7db-468b-f1cd-7ac813ccdf6c"
      },
      "execution_count": 22,
      "outputs": [
        {
          "output_type": "stream",
          "name": "stdout",
          "text": [
            "[37 43 29 27]\n"
          ]
        }
      ]
    },
    {
      "cell_type": "markdown",
      "source": [
        "### **Numpy - Bitwise Operator**"
      ],
      "metadata": {
        "id": "n2RtKY3vR4DI"
      }
    },
    {
      "cell_type": "code",
      "source": [
        "# Bitwise AND\n",
        "print(\"Binary equivalents of 13 and 17: \")\n",
        "a, b = 13, 17\n",
        "print(bin(a), bin(b),'\\n')\n",
        "print(\"Bitwise AND of 13 and 17: \")\n",
        "print(np.bitwise_and(13,17))"
      ],
      "metadata": {
        "id": "poJn2nWkpEYA",
        "colab": {
          "base_uri": "https://localhost:8080/"
        },
        "outputId": "2cba2aea-dd89-4ba6-84dc-5c74791b416d"
      },
      "execution_count": 24,
      "outputs": [
        {
          "output_type": "stream",
          "name": "stdout",
          "text": [
            "Binary equivalents of 13 and 17: \n",
            "0b1101 0b10001 \n",
            "\n",
            "Bitwise AND of 13 and 17: \n",
            "1\n"
          ]
        }
      ]
    },
    {
      "cell_type": "code",
      "source": [
        "# Bitwise OR\n",
        "print(\"Binary equivalents of 13 and 17: \")\n",
        "a, b = 13, 17\n",
        "print(bin(a), bin(b),'\\n')\n",
        "print(\"Bitwise OR of 13 and 17: \")\n",
        "print(np.bitwise_or(13,17))"
      ],
      "metadata": {
        "id": "J2539h7EpEbC",
        "colab": {
          "base_uri": "https://localhost:8080/"
        },
        "outputId": "b4894185-7325-4bf8-dd65-4e2c4d09b32a"
      },
      "execution_count": 25,
      "outputs": [
        {
          "output_type": "stream",
          "name": "stdout",
          "text": [
            "Binary equivalents of 13 and 17: \n",
            "0b1101 0b10001 \n",
            "\n",
            "Bitwise OR of 13 and 17: \n",
            "29\n"
          ]
        }
      ]
    },
    {
      "cell_type": "code",
      "source": [
        "# Bitwise AND\n",
        "print(\"Binary equivalents of 13 and 17: \")\n",
        "a, b = 13, 17\n",
        "print(bin(a), bin(b),'\\n')\n",
        "print(\"Bitwise AND of 13 and 17: \")\n",
        "print(np.bitwise_and(13,17))"
      ],
      "metadata": {
        "id": "QdAxNx_IpEdZ"
      },
      "execution_count": 8,
      "outputs": []
    }
  ]
}