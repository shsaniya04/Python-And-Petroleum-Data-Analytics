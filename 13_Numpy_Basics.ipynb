{
  "nbformat": 4,
  "nbformat_minor": 0,
  "metadata": {
    "colab": {
      "provenance": [],
      "authorship_tag": "ABX9TyPiSgc8C+xSxbegQbs0lkTp"
    },
    "kernelspec": {
      "name": "python3",
      "display_name": "Python 3"
    },
    "language_info": {
      "name": "python"
    }
  },
  "cells": [
    {
      "cell_type": "markdown",
      "source": [
        "# **Python - Numpy Basics**"
      ],
      "metadata": {
        "id": "o6smCk7UzLQg"
      }
    },
    {
      "cell_type": "code",
      "execution_count": 10,
      "metadata": {
        "id": "c-OSs-330NYP"
      },
      "outputs": [],
      "source": [
        "import numpy as np"
      ]
    },
    {
      "cell_type": "markdown",
      "source": [
        "### **Numpy Array**"
      ],
      "metadata": {
        "id": "0NyCUldDzlhC"
      }
    },
    {
      "cell_type": "code",
      "source": [
        "# 1D Array\n",
        "a = np.array([1,2,3,4,5])\n",
        "print(a)"
      ],
      "metadata": {
        "colab": {
          "base_uri": "https://localhost:8080/"
        },
        "id": "lnz5e-AgzT35",
        "outputId": "e5dfd963-1b2e-404d-de5a-fd59ef6d0b19"
      },
      "execution_count": 11,
      "outputs": [
        {
          "output_type": "stream",
          "name": "stdout",
          "text": [
            "[1 2 3 4 5]\n"
          ]
        }
      ]
    },
    {
      "cell_type": "code",
      "source": [
        "# 2D Array\n",
        "b = np.array([\n",
        "    [1,2,3,4,5],\n",
        "    [1,2,3,4,5]\n",
        "])\n",
        "print(b)\n"
      ],
      "metadata": {
        "colab": {
          "base_uri": "https://localhost:8080/"
        },
        "id": "D5AGl8xmzT7p",
        "outputId": "ce5945aa-146f-49b7-dff9-f476631cb39b"
      },
      "execution_count": 12,
      "outputs": [
        {
          "output_type": "stream",
          "name": "stdout",
          "text": [
            "[[1 2 3 4 5]\n",
            " [1 2 3 4 5]]\n"
          ]
        }
      ]
    },
    {
      "cell_type": "code",
      "source": [
        "# 3D Array\n",
        "c = np.array([[\n",
        "    [1,2,3,4,5],\n",
        "    [1,2,3,4,5]],\n",
        "    [[1,2,3,4,5],\n",
        "    [1,2,3,4,5]],\n",
        "    [[1,2,3,4,5],\n",
        "    [1,2,3,4,5]\n",
        "    ]])\n",
        "print(c)"
      ],
      "metadata": {
        "colab": {
          "base_uri": "https://localhost:8080/"
        },
        "id": "QSvU9QQQzT_x",
        "outputId": "ba9bcebd-634a-48c2-b130-e459280762ac"
      },
      "execution_count": 13,
      "outputs": [
        {
          "output_type": "stream",
          "name": "stdout",
          "text": [
            "[[[1 2 3 4 5]\n",
            "  [1 2 3 4 5]]\n",
            "\n",
            " [[1 2 3 4 5]\n",
            "  [1 2 3 4 5]]\n",
            "\n",
            " [[1 2 3 4 5]\n",
            "  [1 2 3 4 5]]]\n"
          ]
        }
      ]
    },
    {
      "cell_type": "code",
      "source": [
        "import pandas as pd\n",
        "import numpy as np\n",
        "\n",
        "arr = np.array([[1,2,3], [4,5,6]])\n",
        "print(arr)\n",
        "\n",
        "print(\"Shape:\", arr.shape)\n",
        "print(\"Dimension: \", arr.ndim)\n",
        "print(\"Size: \", arr.size)\n",
        "print(\"Data Type: \", arr.dtype)\n",
        "print(\"Item Size: \", arr.itemsize)"
      ],
      "metadata": {
        "id": "edy_n0ppzUDm",
        "colab": {
          "base_uri": "https://localhost:8080/"
        },
        "outputId": "72fd8118-8b29-4c9b-c2d0-dc974b916bc6"
      },
      "execution_count": 14,
      "outputs": [
        {
          "output_type": "stream",
          "name": "stdout",
          "text": [
            "[[1 2 3]\n",
            " [4 5 6]]\n",
            "Shape: (2, 3)\n",
            "Dimension:  2\n",
            "Size:  6\n",
            "Data Type:  int64\n",
            "Item Size:  8\n"
          ]
        }
      ]
    }
  ]
}